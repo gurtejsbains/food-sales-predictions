{
  "nbformat": 4,
  "nbformat_minor": 0,
  "metadata": {
    "colab": {
      "provenance": [],
      "authorship_tag": "ABX9TyN2DEc0hQtPQeLk9fu0+9cl",
      "include_colab_link": true
    },
    "kernelspec": {
      "name": "python3",
      "display_name": "Python 3"
    },
    "language_info": {
      "name": "python"
    }
  },
  "cells": [
    {
      "cell_type": "markdown",
      "metadata": {
        "id": "view-in-github",
        "colab_type": "text"
      },
      "source": [
        "<a href=\"https://colab.research.google.com/github/gurtejsbains/sales-predictions/blob/main/food_sales_predictions.ipynb\" target=\"_parent\"><img src=\"https://colab.research.google.com/assets/colab-badge.svg\" alt=\"Open In Colab\"/></a>"
      ]
    },
    {
      "cell_type": "markdown",
      "source": [
        "# Food Sales Predictions "
      ],
      "metadata": {
        "id": "ccsFxUtTsxt-"
      }
    },
    {
      "cell_type": "markdown",
      "source": [
        "Gurtej Bains"
      ],
      "metadata": {
        "id": "3KyRMqWftDb7"
      }
    },
    {
      "cell_type": "code",
      "execution_count": null,
      "metadata": {
        "id": "Z4GlDjjxsfsq"
      },
      "outputs": [],
      "source": []
    },
    {
      "cell_type": "markdown",
      "source": [
        "## Loading Data"
      ],
      "metadata": {
        "id": "PJy1LjLXtHxF"
      }
    },
    {
      "cell_type": "code",
      "source": [],
      "metadata": {
        "id": "nohufAdWtKSw"
      },
      "execution_count": null,
      "outputs": []
    },
    {
      "cell_type": "markdown",
      "source": [
        "## Data Cleaning"
      ],
      "metadata": {
        "id": "np3H2FtEtNDM"
      }
    },
    {
      "cell_type": "code",
      "source": [],
      "metadata": {
        "id": "18OcwPmytO1t"
      },
      "execution_count": null,
      "outputs": []
    },
    {
      "cell_type": "markdown",
      "source": [
        "## Exploratory Visuals"
      ],
      "metadata": {
        "id": "Qt0_JK9DtPRo"
      }
    },
    {
      "cell_type": "code",
      "source": [],
      "metadata": {
        "id": "zYIebWTAtTJF"
      },
      "execution_count": null,
      "outputs": []
    },
    {
      "cell_type": "markdown",
      "source": [
        "# Explanatory Visuals"
      ],
      "metadata": {
        "id": "xlIj3R_xtTwa"
      }
    },
    {
      "cell_type": "code",
      "source": [],
      "metadata": {
        "id": "W3ZCr1YZtVk2"
      },
      "execution_count": null,
      "outputs": []
    }
  ]
}