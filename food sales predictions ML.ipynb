{
 "cells": [
  {
   "cell_type": "markdown",
   "id": "d06f5ea8-3448-49f8-b127-33af4d6d1399",
   "metadata": {},
   "source": [
    "# Food sales predictions (ML preprocessing)\n",
    "\n",
    "### **Author:** Gurtej Bains "
   ]
  },
  {
   "cell_type": "markdown",
   "id": "0600bc5a-4424-486c-8ffa-fdb822568db6",
   "metadata": {
    "jp-MarkdownHeadingCollapsed": true,
    "tags": []
   },
   "source": [
    "## Import Libraries"
   ]
  },
  {
   "cell_type": "code",
   "execution_count": 37,
   "id": "0481d4f0-58b2-441d-b1b8-7976fbf4aa10",
   "metadata": {},
   "outputs": [],
   "source": [
    "# imports\n",
    "import pandas as pd\n",
    "import numpy as np\n",
    "from sklearn.preprocessing import StandardScaler, OneHotEncoder\n",
    "from sklearn.impute import SimpleImputer\n",
    "from sklearn.compose import make_column_transformer, make_column_selector\n",
    "from sklearn.pipeline import make_pipeline\n",
    "from sklearn.model_selection import train_test_split\n",
    "from sklearn import set_config #required for the diagram to be printed \n",
    "set_config(display='diagram')  #required for the diagram to be printed "
   ]
  },
  {
   "cell_type": "markdown",
   "id": "ab17e3fd-dc2a-411f-ba37-4412cb13421d",
   "metadata": {
    "jp-MarkdownHeadingCollapsed": true,
    "tags": []
   },
   "source": [
    "## Import Data"
   ]
  },
  {
   "cell_type": "code",
   "execution_count": 38,
   "id": "37fd074e-cda6-451e-a140-be22307beaf3",
   "metadata": {},
   "outputs": [
    {
     "name": "stdout",
     "output_type": "stream",
     "text": [
      "Import successful\n"
     ]
    }
   ],
   "source": [
    "df = pd.read_csv(r\"C:\\Users\\gurte\\OneDrive\\All About Learning\\Coding Dojo\\Learning Material\\02 Weekly Assignments\\wk5-12-12 (ML)\\sales_predictions_for_ml.csv\")\n",
    "print (\"Import successful\")"
   ]
  },
  {
   "cell_type": "code",
   "execution_count": 39,
   "id": "39829818-ceeb-4765-9ee9-06181b451f9d",
   "metadata": {},
   "outputs": [
    {
     "data": {
      "text/html": [
       "<div>\n",
       "<style scoped>\n",
       "    .dataframe tbody tr th:only-of-type {\n",
       "        vertical-align: middle;\n",
       "    }\n",
       "\n",
       "    .dataframe tbody tr th {\n",
       "        vertical-align: top;\n",
       "    }\n",
       "\n",
       "    .dataframe thead th {\n",
       "        text-align: right;\n",
       "    }\n",
       "</style>\n",
       "<table border=\"1\" class=\"dataframe\">\n",
       "  <thead>\n",
       "    <tr style=\"text-align: right;\">\n",
       "      <th></th>\n",
       "      <th>Item_Identifier</th>\n",
       "      <th>Item_Weight</th>\n",
       "      <th>Item_Fat_Content</th>\n",
       "      <th>Item_Visibility</th>\n",
       "      <th>Item_Type</th>\n",
       "      <th>Item_MRP</th>\n",
       "      <th>Outlet_Identifier</th>\n",
       "      <th>Outlet_Establishment_Year</th>\n",
       "      <th>Outlet_Size</th>\n",
       "      <th>Outlet_Location_Type</th>\n",
       "      <th>Outlet_Type</th>\n",
       "      <th>Item_Outlet_Sales</th>\n",
       "    </tr>\n",
       "  </thead>\n",
       "  <tbody>\n",
       "    <tr>\n",
       "      <th>0</th>\n",
       "      <td>FDA15</td>\n",
       "      <td>9.30</td>\n",
       "      <td>Low Fat</td>\n",
       "      <td>0.016047</td>\n",
       "      <td>Dairy</td>\n",
       "      <td>249.8092</td>\n",
       "      <td>OUT049</td>\n",
       "      <td>1999</td>\n",
       "      <td>Medium</td>\n",
       "      <td>Tier 1</td>\n",
       "      <td>Supermarket Type1</td>\n",
       "      <td>3735.1380</td>\n",
       "    </tr>\n",
       "    <tr>\n",
       "      <th>1</th>\n",
       "      <td>DRC01</td>\n",
       "      <td>5.92</td>\n",
       "      <td>Regular</td>\n",
       "      <td>0.019278</td>\n",
       "      <td>Soft Drinks</td>\n",
       "      <td>48.2692</td>\n",
       "      <td>OUT018</td>\n",
       "      <td>2009</td>\n",
       "      <td>Medium</td>\n",
       "      <td>Tier 3</td>\n",
       "      <td>Supermarket Type2</td>\n",
       "      <td>443.4228</td>\n",
       "    </tr>\n",
       "    <tr>\n",
       "      <th>2</th>\n",
       "      <td>FDN15</td>\n",
       "      <td>17.50</td>\n",
       "      <td>Low Fat</td>\n",
       "      <td>0.016760</td>\n",
       "      <td>Meat</td>\n",
       "      <td>141.6180</td>\n",
       "      <td>OUT049</td>\n",
       "      <td>1999</td>\n",
       "      <td>Medium</td>\n",
       "      <td>Tier 1</td>\n",
       "      <td>Supermarket Type1</td>\n",
       "      <td>2097.2700</td>\n",
       "    </tr>\n",
       "    <tr>\n",
       "      <th>3</th>\n",
       "      <td>FDX07</td>\n",
       "      <td>19.20</td>\n",
       "      <td>Regular</td>\n",
       "      <td>0.000000</td>\n",
       "      <td>Fruits and Vegetables</td>\n",
       "      <td>182.0950</td>\n",
       "      <td>OUT010</td>\n",
       "      <td>1998</td>\n",
       "      <td>NaN</td>\n",
       "      <td>Tier 3</td>\n",
       "      <td>Grocery Store</td>\n",
       "      <td>732.3800</td>\n",
       "    </tr>\n",
       "    <tr>\n",
       "      <th>4</th>\n",
       "      <td>NCD19</td>\n",
       "      <td>8.93</td>\n",
       "      <td>Low Fat</td>\n",
       "      <td>0.000000</td>\n",
       "      <td>Household</td>\n",
       "      <td>53.8614</td>\n",
       "      <td>OUT013</td>\n",
       "      <td>1987</td>\n",
       "      <td>High</td>\n",
       "      <td>Tier 3</td>\n",
       "      <td>Supermarket Type1</td>\n",
       "      <td>994.7052</td>\n",
       "    </tr>\n",
       "  </tbody>\n",
       "</table>\n",
       "</div>"
      ],
      "text/plain": [
       "  Item_Identifier  Item_Weight Item_Fat_Content  Item_Visibility  \\\n",
       "0           FDA15         9.30          Low Fat         0.016047   \n",
       "1           DRC01         5.92          Regular         0.019278   \n",
       "2           FDN15        17.50          Low Fat         0.016760   \n",
       "3           FDX07        19.20          Regular         0.000000   \n",
       "4           NCD19         8.93          Low Fat         0.000000   \n",
       "\n",
       "               Item_Type  Item_MRP Outlet_Identifier  \\\n",
       "0                  Dairy  249.8092            OUT049   \n",
       "1            Soft Drinks   48.2692            OUT018   \n",
       "2                   Meat  141.6180            OUT049   \n",
       "3  Fruits and Vegetables  182.0950            OUT010   \n",
       "4              Household   53.8614            OUT013   \n",
       "\n",
       "   Outlet_Establishment_Year Outlet_Size Outlet_Location_Type  \\\n",
       "0                       1999      Medium               Tier 1   \n",
       "1                       2009      Medium               Tier 3   \n",
       "2                       1999      Medium               Tier 1   \n",
       "3                       1998         NaN               Tier 3   \n",
       "4                       1987        High               Tier 3   \n",
       "\n",
       "         Outlet_Type  Item_Outlet_Sales  \n",
       "0  Supermarket Type1          3735.1380  \n",
       "1  Supermarket Type2           443.4228  \n",
       "2  Supermarket Type1          2097.2700  \n",
       "3      Grocery Store           732.3800  \n",
       "4  Supermarket Type1           994.7052  "
      ]
     },
     "execution_count": 39,
     "metadata": {},
     "output_type": "execute_result"
    }
   ],
   "source": [
    "df.head()"
   ]
  },
  {
   "cell_type": "code",
   "execution_count": 40,
   "id": "6f41eaaa-9cfc-419d-9ea7-4a0553c78e92",
   "metadata": {},
   "outputs": [
    {
     "name": "stdout",
     "output_type": "stream",
     "text": [
      "<class 'pandas.core.frame.DataFrame'>\n",
      "RangeIndex: 8523 entries, 0 to 8522\n",
      "Data columns (total 12 columns):\n",
      " #   Column                     Non-Null Count  Dtype  \n",
      "---  ------                     --------------  -----  \n",
      " 0   Item_Identifier            8523 non-null   object \n",
      " 1   Item_Weight                7060 non-null   float64\n",
      " 2   Item_Fat_Content           8523 non-null   object \n",
      " 3   Item_Visibility            8523 non-null   float64\n",
      " 4   Item_Type                  8523 non-null   object \n",
      " 5   Item_MRP                   8523 non-null   float64\n",
      " 6   Outlet_Identifier          8523 non-null   object \n",
      " 7   Outlet_Establishment_Year  8523 non-null   int64  \n",
      " 8   Outlet_Size                6113 non-null   object \n",
      " 9   Outlet_Location_Type       8523 non-null   object \n",
      " 10  Outlet_Type                8523 non-null   object \n",
      " 11  Item_Outlet_Sales          8523 non-null   float64\n",
      "dtypes: float64(4), int64(1), object(7)\n",
      "memory usage: 799.2+ KB\n"
     ]
    }
   ],
   "source": [
    "df.info()"
   ]
  },
  {
   "cell_type": "markdown",
   "id": "98df5e2f-fa1e-4870-a1f8-723a253b5873",
   "metadata": {
    "jp-MarkdownHeadingCollapsed": true,
    "tags": []
   },
   "source": [
    "## Q1: Drop duplicates "
   ]
  },
  {
   "cell_type": "code",
   "execution_count": 41,
   "id": "1d0fa434-1045-4702-b455-c42a319717be",
   "metadata": {},
   "outputs": [
    {
     "data": {
      "text/plain": [
       "3873"
      ]
     },
     "execution_count": 41,
     "metadata": {},
     "output_type": "execute_result"
    }
   ],
   "source": [
    "# Display the sum of missing values\n",
    "df.isna().sum().sum()"
   ]
  },
  {
   "cell_type": "code",
   "execution_count": 42,
   "id": "a52d5054-9c00-4438-876a-55a1d5e12d66",
   "metadata": {},
   "outputs": [
    {
     "data": {
      "text/plain": [
       "0"
      ]
     },
     "execution_count": 42,
     "metadata": {},
     "output_type": "execute_result"
    }
   ],
   "source": [
    "# Check to see if there are any duplicate rows\n",
    "df.duplicated().sum()"
   ]
  },
  {
   "cell_type": "code",
   "execution_count": 43,
   "id": "f04b48c4-85f7-41b2-924d-226e2c361bf0",
   "metadata": {},
   "outputs": [],
   "source": [
    "# Drop duplicte rows\n",
    "df.drop_duplicates(inplace=True)"
   ]
  },
  {
   "cell_type": "code",
   "execution_count": 44,
   "id": "b02f5a55-a066-4f97-9d99-bd0cda54c35b",
   "metadata": {},
   "outputs": [
    {
     "data": {
      "text/plain": [
       "0"
      ]
     },
     "execution_count": 44,
     "metadata": {},
     "output_type": "execute_result"
    }
   ],
   "source": [
    "# Confirm now duplicate rows remain\n",
    "df.duplicated().sum()"
   ]
  },
  {
   "cell_type": "markdown",
   "id": "6e8a6b54-6003-4636-a148-339ca1bb6dba",
   "metadata": {
    "jp-MarkdownHeadingCollapsed": true,
    "tags": []
   },
   "source": [
    "## Q1: Fix inconsistencies in categorical data"
   ]
  },
  {
   "cell_type": "code",
   "execution_count": 45,
   "id": "94769aa3-ef85-4d86-82a5-c22538179a2c",
   "metadata": {},
   "outputs": [
    {
     "data": {
      "text/html": [
       "<div>\n",
       "<style scoped>\n",
       "    .dataframe tbody tr th:only-of-type {\n",
       "        vertical-align: middle;\n",
       "    }\n",
       "\n",
       "    .dataframe tbody tr th {\n",
       "        vertical-align: top;\n",
       "    }\n",
       "\n",
       "    .dataframe thead th {\n",
       "        text-align: right;\n",
       "    }\n",
       "</style>\n",
       "<table border=\"1\" class=\"dataframe\">\n",
       "  <thead>\n",
       "    <tr style=\"text-align: right;\">\n",
       "      <th></th>\n",
       "      <th>Item_Identifier</th>\n",
       "      <th>Item_Fat_Content</th>\n",
       "      <th>Item_Type</th>\n",
       "      <th>Outlet_Identifier</th>\n",
       "      <th>Outlet_Size</th>\n",
       "      <th>Outlet_Location_Type</th>\n",
       "      <th>Outlet_Type</th>\n",
       "    </tr>\n",
       "  </thead>\n",
       "  <tbody>\n",
       "    <tr>\n",
       "      <th>count</th>\n",
       "      <td>8523</td>\n",
       "      <td>8523</td>\n",
       "      <td>8523</td>\n",
       "      <td>8523</td>\n",
       "      <td>6113</td>\n",
       "      <td>8523</td>\n",
       "      <td>8523</td>\n",
       "    </tr>\n",
       "    <tr>\n",
       "      <th>unique</th>\n",
       "      <td>1559</td>\n",
       "      <td>5</td>\n",
       "      <td>16</td>\n",
       "      <td>10</td>\n",
       "      <td>3</td>\n",
       "      <td>3</td>\n",
       "      <td>4</td>\n",
       "    </tr>\n",
       "    <tr>\n",
       "      <th>top</th>\n",
       "      <td>FDW13</td>\n",
       "      <td>Low Fat</td>\n",
       "      <td>Fruits and Vegetables</td>\n",
       "      <td>OUT027</td>\n",
       "      <td>Medium</td>\n",
       "      <td>Tier 3</td>\n",
       "      <td>Supermarket Type1</td>\n",
       "    </tr>\n",
       "    <tr>\n",
       "      <th>freq</th>\n",
       "      <td>10</td>\n",
       "      <td>5089</td>\n",
       "      <td>1232</td>\n",
       "      <td>935</td>\n",
       "      <td>2793</td>\n",
       "      <td>3350</td>\n",
       "      <td>5577</td>\n",
       "    </tr>\n",
       "  </tbody>\n",
       "</table>\n",
       "</div>"
      ],
      "text/plain": [
       "       Item_Identifier Item_Fat_Content              Item_Type  \\\n",
       "count             8523             8523                   8523   \n",
       "unique            1559                5                     16   \n",
       "top              FDW13          Low Fat  Fruits and Vegetables   \n",
       "freq                10             5089                   1232   \n",
       "\n",
       "       Outlet_Identifier Outlet_Size Outlet_Location_Type        Outlet_Type  \n",
       "count               8523        6113                 8523               8523  \n",
       "unique                10           3                    3                  4  \n",
       "top               OUT027      Medium               Tier 3  Supermarket Type1  \n",
       "freq                 935        2793                 3350               5577  "
      ]
     },
     "execution_count": 45,
     "metadata": {},
     "output_type": "execute_result"
    }
   ],
   "source": [
    "# Summary stats of character vars\n",
    "\n",
    "df.describe(include=['object','category'])"
   ]
  },
  {
   "cell_type": "code",
   "execution_count": 46,
   "id": "6f5ae802-e421-4c0b-966c-478783479c85",
   "metadata": {},
   "outputs": [
    {
     "data": {
      "text/plain": [
       "DRA12    6\n",
       "DRA24    7\n",
       "DRA59    8\n",
       "DRB01    3\n",
       "DRB13    5\n",
       "Name: Item_Identifier, dtype: int64"
      ]
     },
     "execution_count": 46,
     "metadata": {},
     "output_type": "execute_result"
    }
   ],
   "source": [
    "df['Item_Identifier'].value_counts(dropna=False).sort_index(ascending=True, na_position='first').head()"
   ]
  },
  {
   "cell_type": "code",
   "execution_count": 47,
   "id": "36b4feab-627b-425d-9f1d-05bd0b605c4d",
   "metadata": {},
   "outputs": [
    {
     "data": {
      "text/plain": [
       "LF          316\n",
       "Low Fat    5089\n",
       "Regular    2889\n",
       "low fat     112\n",
       "reg         117\n",
       "Name: Item_Fat_Content, dtype: int64"
      ]
     },
     "execution_count": 47,
     "metadata": {},
     "output_type": "execute_result"
    }
   ],
   "source": [
    "df['Item_Fat_Content'].value_counts(dropna=False).sort_index(ascending=True, na_position='first').head()"
   ]
  },
  {
   "cell_type": "code",
   "execution_count": 48,
   "id": "71f53a28-a6b4-49e4-b0d2-119705aae300",
   "metadata": {},
   "outputs": [
    {
     "data": {
      "text/plain": [
       "Regular    3006\n",
       "Low Fat    5517\n",
       "Name: Item_Fat_Content, dtype: int64"
      ]
     },
     "execution_count": 48,
     "metadata": {},
     "output_type": "execute_result"
    }
   ],
   "source": [
    "df['Item_Fat_Content'] = df['Item_Fat_Content'].replace(['low fat', 'LF', 'reg'], ['Low Fat', 'Low Fat', 'Regular'])\n",
    "df['Item_Fat_Content'].value_counts(dropna=False, ascending=True)"
   ]
  },
  {
   "cell_type": "code",
   "execution_count": 49,
   "id": "0a501f48-58f4-45f8-80e6-59ade3bd93da",
   "metadata": {},
   "outputs": [
    {
     "data": {
      "text/plain": [
       "Baking Goods    648\n",
       "Breads          251\n",
       "Breakfast       110\n",
       "Canned          649\n",
       "Dairy           682\n",
       "Name: Item_Type, dtype: int64"
      ]
     },
     "execution_count": 49,
     "metadata": {},
     "output_type": "execute_result"
    }
   ],
   "source": [
    "df['Item_Type'].value_counts(dropna=False).sort_index(ascending=True, na_position='first').head()"
   ]
  },
  {
   "cell_type": "code",
   "execution_count": 50,
   "id": "72e451a5-9579-4be3-9531-bb0892b8d694",
   "metadata": {},
   "outputs": [
    {
     "data": {
      "text/plain": [
       "OUT010    555\n",
       "OUT013    932\n",
       "OUT017    926\n",
       "OUT018    928\n",
       "OUT019    528\n",
       "Name: Outlet_Identifier, dtype: int64"
      ]
     },
     "execution_count": 50,
     "metadata": {},
     "output_type": "execute_result"
    }
   ],
   "source": [
    "df['Outlet_Identifier'].value_counts(dropna=False).sort_index(ascending=True, na_position='first').head()"
   ]
  },
  {
   "cell_type": "code",
   "execution_count": 51,
   "id": "96c5b41c-1f7b-49c7-9a14-ef1069ec4269",
   "metadata": {},
   "outputs": [
    {
     "data": {
      "text/plain": [
       "NaN       2410\n",
       "High       932\n",
       "Medium    2793\n",
       "Small     2388\n",
       "Name: Outlet_Size, dtype: int64"
      ]
     },
     "execution_count": 51,
     "metadata": {},
     "output_type": "execute_result"
    }
   ],
   "source": [
    "df['Outlet_Size'].value_counts(dropna=False).sort_index(ascending=True, na_position='first').head()"
   ]
  },
  {
   "cell_type": "code",
   "execution_count": 52,
   "id": "44641da2-54b3-4d78-b468-c18213c5d3e6",
   "metadata": {},
   "outputs": [
    {
     "data": {
      "text/plain": [
       "Tier 1    2388\n",
       "Tier 2    2785\n",
       "Tier 3    3350\n",
       "Name: Outlet_Location_Type, dtype: int64"
      ]
     },
     "execution_count": 52,
     "metadata": {},
     "output_type": "execute_result"
    }
   ],
   "source": [
    "df['Outlet_Location_Type'].value_counts(dropna=False).sort_index(ascending=True, na_position='first').head()"
   ]
  },
  {
   "cell_type": "code",
   "execution_count": 53,
   "id": "14cdf079-2e93-4894-a04c-4b563591b25d",
   "metadata": {},
   "outputs": [
    {
     "data": {
      "text/plain": [
       "Grocery Store        1083\n",
       "Supermarket Type1    5577\n",
       "Supermarket Type2     928\n",
       "Supermarket Type3     935\n",
       "Name: Outlet_Type, dtype: int64"
      ]
     },
     "execution_count": 53,
     "metadata": {},
     "output_type": "execute_result"
    }
   ],
   "source": [
    "df['Outlet_Type'].value_counts(dropna=False).sort_index(ascending=True, na_position='first').head()"
   ]
  },
  {
   "cell_type": "markdown",
   "id": "da859ade-4995-4e4d-948f-6cc347bf2e63",
   "metadata": {
    "jp-MarkdownHeadingCollapsed": true,
    "tags": []
   },
   "source": [
    "## Q2: Identify the features (X) and target (y)"
   ]
  },
  {
   "cell_type": "code",
   "execution_count": 54,
   "id": "01449cb1-4e9f-46b4-a4dc-98ddc4228cef",
   "metadata": {},
   "outputs": [],
   "source": [
    "# Split\n",
    "\n",
    "X = df.drop(columns=['Item_Outlet_Sales'])\n",
    "y = df['Item_Outlet_Sales']"
   ]
  },
  {
   "cell_type": "markdown",
   "id": "5f9ca084-1f37-440f-9861-00c581cf7980",
   "metadata": {
    "jp-MarkdownHeadingCollapsed": true,
    "tags": []
   },
   "source": [
    "## Q3: Perform train and test split"
   ]
  },
  {
   "cell_type": "code",
   "execution_count": 55,
   "id": "a81acf6b-b035-43b4-8676-15ae95f473d2",
   "metadata": {},
   "outputs": [],
   "source": [
    "X_train, X_test, y_train, y_test = train_test_split(X, y, random_state=42)"
   ]
  },
  {
   "cell_type": "code",
   "execution_count": 56,
   "id": "8b49cf5c-3766-4000-a92b-0e00f925a596",
   "metadata": {},
   "outputs": [
    {
     "data": {
      "text/html": [
       "<div>\n",
       "<style scoped>\n",
       "    .dataframe tbody tr th:only-of-type {\n",
       "        vertical-align: middle;\n",
       "    }\n",
       "\n",
       "    .dataframe tbody tr th {\n",
       "        vertical-align: top;\n",
       "    }\n",
       "\n",
       "    .dataframe thead th {\n",
       "        text-align: right;\n",
       "    }\n",
       "</style>\n",
       "<table border=\"1\" class=\"dataframe\">\n",
       "  <thead>\n",
       "    <tr style=\"text-align: right;\">\n",
       "      <th></th>\n",
       "      <th>Item_Identifier</th>\n",
       "      <th>Item_Weight</th>\n",
       "      <th>Item_Fat_Content</th>\n",
       "      <th>Item_Visibility</th>\n",
       "      <th>Item_Type</th>\n",
       "      <th>Item_MRP</th>\n",
       "      <th>Outlet_Identifier</th>\n",
       "      <th>Outlet_Establishment_Year</th>\n",
       "      <th>Outlet_Size</th>\n",
       "      <th>Outlet_Location_Type</th>\n",
       "      <th>Outlet_Type</th>\n",
       "    </tr>\n",
       "  </thead>\n",
       "  <tbody>\n",
       "    <tr>\n",
       "      <th>4776</th>\n",
       "      <td>NCG06</td>\n",
       "      <td>16.350</td>\n",
       "      <td>Low Fat</td>\n",
       "      <td>0.029565</td>\n",
       "      <td>Household</td>\n",
       "      <td>256.4646</td>\n",
       "      <td>OUT018</td>\n",
       "      <td>2009</td>\n",
       "      <td>Medium</td>\n",
       "      <td>Tier 3</td>\n",
       "      <td>Supermarket Type2</td>\n",
       "    </tr>\n",
       "    <tr>\n",
       "      <th>7510</th>\n",
       "      <td>FDV57</td>\n",
       "      <td>15.250</td>\n",
       "      <td>Regular</td>\n",
       "      <td>0.000000</td>\n",
       "      <td>Snack Foods</td>\n",
       "      <td>179.7660</td>\n",
       "      <td>OUT018</td>\n",
       "      <td>2009</td>\n",
       "      <td>Medium</td>\n",
       "      <td>Tier 3</td>\n",
       "      <td>Supermarket Type2</td>\n",
       "    </tr>\n",
       "    <tr>\n",
       "      <th>5828</th>\n",
       "      <td>FDM27</td>\n",
       "      <td>12.350</td>\n",
       "      <td>Regular</td>\n",
       "      <td>0.158716</td>\n",
       "      <td>Meat</td>\n",
       "      <td>157.2946</td>\n",
       "      <td>OUT049</td>\n",
       "      <td>1999</td>\n",
       "      <td>Medium</td>\n",
       "      <td>Tier 1</td>\n",
       "      <td>Supermarket Type1</td>\n",
       "    </tr>\n",
       "    <tr>\n",
       "      <th>5327</th>\n",
       "      <td>FDG24</td>\n",
       "      <td>7.975</td>\n",
       "      <td>Low Fat</td>\n",
       "      <td>0.014628</td>\n",
       "      <td>Baking Goods</td>\n",
       "      <td>82.3250</td>\n",
       "      <td>OUT035</td>\n",
       "      <td>2004</td>\n",
       "      <td>Small</td>\n",
       "      <td>Tier 2</td>\n",
       "      <td>Supermarket Type1</td>\n",
       "    </tr>\n",
       "    <tr>\n",
       "      <th>4810</th>\n",
       "      <td>FDD05</td>\n",
       "      <td>19.350</td>\n",
       "      <td>Low Fat</td>\n",
       "      <td>0.016645</td>\n",
       "      <td>Frozen Foods</td>\n",
       "      <td>120.9098</td>\n",
       "      <td>OUT045</td>\n",
       "      <td>2002</td>\n",
       "      <td>NaN</td>\n",
       "      <td>Tier 2</td>\n",
       "      <td>Supermarket Type1</td>\n",
       "    </tr>\n",
       "  </tbody>\n",
       "</table>\n",
       "</div>"
      ],
      "text/plain": [
       "     Item_Identifier  Item_Weight Item_Fat_Content  Item_Visibility  \\\n",
       "4776           NCG06       16.350          Low Fat         0.029565   \n",
       "7510           FDV57       15.250          Regular         0.000000   \n",
       "5828           FDM27       12.350          Regular         0.158716   \n",
       "5327           FDG24        7.975          Low Fat         0.014628   \n",
       "4810           FDD05       19.350          Low Fat         0.016645   \n",
       "\n",
       "         Item_Type  Item_MRP Outlet_Identifier  Outlet_Establishment_Year  \\\n",
       "4776     Household  256.4646            OUT018                       2009   \n",
       "7510   Snack Foods  179.7660            OUT018                       2009   \n",
       "5828          Meat  157.2946            OUT049                       1999   \n",
       "5327  Baking Goods   82.3250            OUT035                       2004   \n",
       "4810  Frozen Foods  120.9098            OUT045                       2002   \n",
       "\n",
       "     Outlet_Size Outlet_Location_Type        Outlet_Type  \n",
       "4776      Medium               Tier 3  Supermarket Type2  \n",
       "7510      Medium               Tier 3  Supermarket Type2  \n",
       "5828      Medium               Tier 1  Supermarket Type1  \n",
       "5327       Small               Tier 2  Supermarket Type1  \n",
       "4810         NaN               Tier 2  Supermarket Type1  "
      ]
     },
     "execution_count": 56,
     "metadata": {},
     "output_type": "execute_result"
    }
   ],
   "source": [
    "X_train.head()"
   ]
  },
  {
   "cell_type": "code",
   "execution_count": 57,
   "id": "c662f9ec-505b-4263-924d-662407e9691c",
   "metadata": {},
   "outputs": [
    {
     "name": "stdout",
     "output_type": "stream",
     "text": [
      "<class 'pandas.core.frame.DataFrame'>\n",
      "Int64Index: 6392 entries, 4776 to 7270\n",
      "Data columns (total 11 columns):\n",
      " #   Column                     Non-Null Count  Dtype  \n",
      "---  ------                     --------------  -----  \n",
      " 0   Item_Identifier            6392 non-null   object \n",
      " 1   Item_Weight                5285 non-null   float64\n",
      " 2   Item_Fat_Content           6392 non-null   object \n",
      " 3   Item_Visibility            6392 non-null   float64\n",
      " 4   Item_Type                  6392 non-null   object \n",
      " 5   Item_MRP                   6392 non-null   float64\n",
      " 6   Outlet_Identifier          6392 non-null   object \n",
      " 7   Outlet_Establishment_Year  6392 non-null   int64  \n",
      " 8   Outlet_Size                4580 non-null   object \n",
      " 9   Outlet_Location_Type       6392 non-null   object \n",
      " 10  Outlet_Type                6392 non-null   object \n",
      "dtypes: float64(3), int64(1), object(7)\n",
      "memory usage: 599.2+ KB\n"
     ]
    }
   ],
   "source": [
    "X_train.info()"
   ]
  },
  {
   "cell_type": "markdown",
   "id": "2ce59e74-87f2-4ee4-a5e5-9aa91834eb73",
   "metadata": {
    "jp-MarkdownHeadingCollapsed": true,
    "tags": []
   },
   "source": [
    "## Q4 Create a preprocessing object"
   ]
  },
  {
   "cell_type": "code",
   "execution_count": 58,
   "id": "c4d8308d-2064-4827-ad6e-998893ac5853",
   "metadata": {},
   "outputs": [],
   "source": [
    "# Selectors\n",
    "cat_selector = make_column_selector(dtype_include='object')\n",
    "num_selector = make_column_selector(dtype_include='number')"
   ]
  },
  {
   "cell_type": "code",
   "execution_count": 59,
   "id": "1ece7536-f4fa-4d25-bd87-d5e8f2041c7c",
   "metadata": {},
   "outputs": [],
   "source": [
    "# Imputers for missing values \n",
    "freq_imputer = SimpleImputer(strategy='most_frequent')\n",
    "mean_imputer = SimpleImputer(strategy='mean')"
   ]
  },
  {
   "cell_type": "code",
   "execution_count": 60,
   "id": "aa6e3adf-63af-4e0d-9de0-4e88edd79c01",
   "metadata": {},
   "outputs": [],
   "source": [
    "# One-hot encoder for categorical variables \n",
    "ohe = OneHotEncoder(handle_unknown='ignore', sparse=False)"
   ]
  },
  {
   "cell_type": "code",
   "execution_count": 61,
   "id": "17a77a44-1618-4127-886c-94bdebc5536b",
   "metadata": {},
   "outputs": [],
   "source": [
    "# Scaler for numerical variables \n",
    "scaler = StandardScaler()"
   ]
  },
  {
   "cell_type": "code",
   "execution_count": 62,
   "id": "20137c7f-3622-4125-a027-bf638b963d24",
   "metadata": {},
   "outputs": [
    {
     "data": {
      "text/html": [
       "<style>#sk-72c50c7f-759d-411c-94f5-5cdd695d9850 {color: black;background-color: white;}#sk-72c50c7f-759d-411c-94f5-5cdd695d9850 pre{padding: 0;}#sk-72c50c7f-759d-411c-94f5-5cdd695d9850 div.sk-toggleable {background-color: white;}#sk-72c50c7f-759d-411c-94f5-5cdd695d9850 label.sk-toggleable__label {cursor: pointer;display: block;width: 100%;margin-bottom: 0;padding: 0.3em;box-sizing: border-box;text-align: center;}#sk-72c50c7f-759d-411c-94f5-5cdd695d9850 label.sk-toggleable__label-arrow:before {content: \"▸\";float: left;margin-right: 0.25em;color: #696969;}#sk-72c50c7f-759d-411c-94f5-5cdd695d9850 label.sk-toggleable__label-arrow:hover:before {color: black;}#sk-72c50c7f-759d-411c-94f5-5cdd695d9850 div.sk-estimator:hover label.sk-toggleable__label-arrow:before {color: black;}#sk-72c50c7f-759d-411c-94f5-5cdd695d9850 div.sk-toggleable__content {max-height: 0;max-width: 0;overflow: hidden;text-align: left;background-color: #f0f8ff;}#sk-72c50c7f-759d-411c-94f5-5cdd695d9850 div.sk-toggleable__content pre {margin: 0.2em;color: black;border-radius: 0.25em;background-color: #f0f8ff;}#sk-72c50c7f-759d-411c-94f5-5cdd695d9850 input.sk-toggleable__control:checked~div.sk-toggleable__content {max-height: 200px;max-width: 100%;overflow: auto;}#sk-72c50c7f-759d-411c-94f5-5cdd695d9850 input.sk-toggleable__control:checked~label.sk-toggleable__label-arrow:before {content: \"▾\";}#sk-72c50c7f-759d-411c-94f5-5cdd695d9850 div.sk-estimator input.sk-toggleable__control:checked~label.sk-toggleable__label {background-color: #d4ebff;}#sk-72c50c7f-759d-411c-94f5-5cdd695d9850 div.sk-label input.sk-toggleable__control:checked~label.sk-toggleable__label {background-color: #d4ebff;}#sk-72c50c7f-759d-411c-94f5-5cdd695d9850 input.sk-hidden--visually {border: 0;clip: rect(1px 1px 1px 1px);clip: rect(1px, 1px, 1px, 1px);height: 1px;margin: -1px;overflow: hidden;padding: 0;position: absolute;width: 1px;}#sk-72c50c7f-759d-411c-94f5-5cdd695d9850 div.sk-estimator {font-family: monospace;background-color: #f0f8ff;border: 1px dotted black;border-radius: 0.25em;box-sizing: border-box;margin-bottom: 0.5em;}#sk-72c50c7f-759d-411c-94f5-5cdd695d9850 div.sk-estimator:hover {background-color: #d4ebff;}#sk-72c50c7f-759d-411c-94f5-5cdd695d9850 div.sk-parallel-item::after {content: \"\";width: 100%;border-bottom: 1px solid gray;flex-grow: 1;}#sk-72c50c7f-759d-411c-94f5-5cdd695d9850 div.sk-label:hover label.sk-toggleable__label {background-color: #d4ebff;}#sk-72c50c7f-759d-411c-94f5-5cdd695d9850 div.sk-serial::before {content: \"\";position: absolute;border-left: 1px solid gray;box-sizing: border-box;top: 2em;bottom: 0;left: 50%;}#sk-72c50c7f-759d-411c-94f5-5cdd695d9850 div.sk-serial {display: flex;flex-direction: column;align-items: center;background-color: white;padding-right: 0.2em;padding-left: 0.2em;}#sk-72c50c7f-759d-411c-94f5-5cdd695d9850 div.sk-item {z-index: 1;}#sk-72c50c7f-759d-411c-94f5-5cdd695d9850 div.sk-parallel {display: flex;align-items: stretch;justify-content: center;background-color: white;}#sk-72c50c7f-759d-411c-94f5-5cdd695d9850 div.sk-parallel::before {content: \"\";position: absolute;border-left: 1px solid gray;box-sizing: border-box;top: 2em;bottom: 0;left: 50%;}#sk-72c50c7f-759d-411c-94f5-5cdd695d9850 div.sk-parallel-item {display: flex;flex-direction: column;position: relative;background-color: white;}#sk-72c50c7f-759d-411c-94f5-5cdd695d9850 div.sk-parallel-item:first-child::after {align-self: flex-end;width: 50%;}#sk-72c50c7f-759d-411c-94f5-5cdd695d9850 div.sk-parallel-item:last-child::after {align-self: flex-start;width: 50%;}#sk-72c50c7f-759d-411c-94f5-5cdd695d9850 div.sk-parallel-item:only-child::after {width: 0;}#sk-72c50c7f-759d-411c-94f5-5cdd695d9850 div.sk-dashed-wrapped {border: 1px dashed gray;margin: 0 0.4em 0.5em 0.4em;box-sizing: border-box;padding-bottom: 0.4em;background-color: white;position: relative;}#sk-72c50c7f-759d-411c-94f5-5cdd695d9850 div.sk-label label {font-family: monospace;font-weight: bold;background-color: white;display: inline-block;line-height: 1.2em;}#sk-72c50c7f-759d-411c-94f5-5cdd695d9850 div.sk-label-container {position: relative;z-index: 2;text-align: center;}#sk-72c50c7f-759d-411c-94f5-5cdd695d9850 div.sk-container {/* jupyter's `normalize.less` sets `[hidden] { display: none; }` but bootstrap.min.css set `[hidden] { display: none !important; }` so we also need the `!important` here to be able to override the default hidden behavior on the sphinx rendered scikit-learn.org. See: https://github.com/scikit-learn/scikit-learn/issues/21755 */display: inline-block !important;position: relative;}#sk-72c50c7f-759d-411c-94f5-5cdd695d9850 div.sk-text-repr-fallback {display: none;}</style><div id=\"sk-72c50c7f-759d-411c-94f5-5cdd695d9850\" class=\"sk-top-container\"><div class=\"sk-text-repr-fallback\"><pre>Pipeline(steps=[(&#x27;simpleimputer&#x27;, SimpleImputer()),\n",
       "                (&#x27;standardscaler&#x27;, StandardScaler())])</pre><b>Please rerun this cell to show the HTML repr or trust the notebook.</b></div><div class=\"sk-container\" hidden><div class=\"sk-item sk-dashed-wrapped\"><div class=\"sk-label-container\"><div class=\"sk-label sk-toggleable\"><input class=\"sk-toggleable__control sk-hidden--visually\" id=\"9f77274a-178d-42ae-905b-d78284e12dee\" type=\"checkbox\" ><label for=\"9f77274a-178d-42ae-905b-d78284e12dee\" class=\"sk-toggleable__label sk-toggleable__label-arrow\">Pipeline</label><div class=\"sk-toggleable__content\"><pre>Pipeline(steps=[(&#x27;simpleimputer&#x27;, SimpleImputer()),\n",
       "                (&#x27;standardscaler&#x27;, StandardScaler())])</pre></div></div></div><div class=\"sk-serial\"><div class=\"sk-item\"><div class=\"sk-estimator sk-toggleable\"><input class=\"sk-toggleable__control sk-hidden--visually\" id=\"aa303644-d8c4-4fc7-b4e0-94385cccf159\" type=\"checkbox\" ><label for=\"aa303644-d8c4-4fc7-b4e0-94385cccf159\" class=\"sk-toggleable__label sk-toggleable__label-arrow\">SimpleImputer</label><div class=\"sk-toggleable__content\"><pre>SimpleImputer()</pre></div></div></div><div class=\"sk-item\"><div class=\"sk-estimator sk-toggleable\"><input class=\"sk-toggleable__control sk-hidden--visually\" id=\"fc6c6a6f-15ff-4a43-bab4-7e477eb2ce62\" type=\"checkbox\" ><label for=\"fc6c6a6f-15ff-4a43-bab4-7e477eb2ce62\" class=\"sk-toggleable__label sk-toggleable__label-arrow\">StandardScaler</label><div class=\"sk-toggleable__content\"><pre>StandardScaler()</pre></div></div></div></div></div></div></div>"
      ],
      "text/plain": [
       "Pipeline(steps=[('simpleimputer', SimpleImputer()),\n",
       "                ('standardscaler', StandardScaler())])"
      ]
     },
     "execution_count": 62,
     "metadata": {},
     "output_type": "execute_result"
    }
   ],
   "source": [
    "# Numeric pipeline\n",
    "\n",
    "numeric_pipe = make_pipeline(mean_imputer, scaler)\n",
    "numeric_pipe"
   ]
  },
  {
   "cell_type": "code",
   "execution_count": 63,
   "id": "f82b903a-4a91-4982-9dd2-a26480c9029b",
   "metadata": {},
   "outputs": [
    {
     "data": {
      "text/html": [
       "<style>#sk-2e8d00c0-25c6-4424-91d1-a792a24d075b {color: black;background-color: white;}#sk-2e8d00c0-25c6-4424-91d1-a792a24d075b pre{padding: 0;}#sk-2e8d00c0-25c6-4424-91d1-a792a24d075b div.sk-toggleable {background-color: white;}#sk-2e8d00c0-25c6-4424-91d1-a792a24d075b label.sk-toggleable__label {cursor: pointer;display: block;width: 100%;margin-bottom: 0;padding: 0.3em;box-sizing: border-box;text-align: center;}#sk-2e8d00c0-25c6-4424-91d1-a792a24d075b label.sk-toggleable__label-arrow:before {content: \"▸\";float: left;margin-right: 0.25em;color: #696969;}#sk-2e8d00c0-25c6-4424-91d1-a792a24d075b label.sk-toggleable__label-arrow:hover:before {color: black;}#sk-2e8d00c0-25c6-4424-91d1-a792a24d075b div.sk-estimator:hover label.sk-toggleable__label-arrow:before {color: black;}#sk-2e8d00c0-25c6-4424-91d1-a792a24d075b div.sk-toggleable__content {max-height: 0;max-width: 0;overflow: hidden;text-align: left;background-color: #f0f8ff;}#sk-2e8d00c0-25c6-4424-91d1-a792a24d075b div.sk-toggleable__content pre {margin: 0.2em;color: black;border-radius: 0.25em;background-color: #f0f8ff;}#sk-2e8d00c0-25c6-4424-91d1-a792a24d075b input.sk-toggleable__control:checked~div.sk-toggleable__content {max-height: 200px;max-width: 100%;overflow: auto;}#sk-2e8d00c0-25c6-4424-91d1-a792a24d075b input.sk-toggleable__control:checked~label.sk-toggleable__label-arrow:before {content: \"▾\";}#sk-2e8d00c0-25c6-4424-91d1-a792a24d075b div.sk-estimator input.sk-toggleable__control:checked~label.sk-toggleable__label {background-color: #d4ebff;}#sk-2e8d00c0-25c6-4424-91d1-a792a24d075b div.sk-label input.sk-toggleable__control:checked~label.sk-toggleable__label {background-color: #d4ebff;}#sk-2e8d00c0-25c6-4424-91d1-a792a24d075b input.sk-hidden--visually {border: 0;clip: rect(1px 1px 1px 1px);clip: rect(1px, 1px, 1px, 1px);height: 1px;margin: -1px;overflow: hidden;padding: 0;position: absolute;width: 1px;}#sk-2e8d00c0-25c6-4424-91d1-a792a24d075b div.sk-estimator {font-family: monospace;background-color: #f0f8ff;border: 1px dotted black;border-radius: 0.25em;box-sizing: border-box;margin-bottom: 0.5em;}#sk-2e8d00c0-25c6-4424-91d1-a792a24d075b div.sk-estimator:hover {background-color: #d4ebff;}#sk-2e8d00c0-25c6-4424-91d1-a792a24d075b div.sk-parallel-item::after {content: \"\";width: 100%;border-bottom: 1px solid gray;flex-grow: 1;}#sk-2e8d00c0-25c6-4424-91d1-a792a24d075b div.sk-label:hover label.sk-toggleable__label {background-color: #d4ebff;}#sk-2e8d00c0-25c6-4424-91d1-a792a24d075b div.sk-serial::before {content: \"\";position: absolute;border-left: 1px solid gray;box-sizing: border-box;top: 2em;bottom: 0;left: 50%;}#sk-2e8d00c0-25c6-4424-91d1-a792a24d075b div.sk-serial {display: flex;flex-direction: column;align-items: center;background-color: white;padding-right: 0.2em;padding-left: 0.2em;}#sk-2e8d00c0-25c6-4424-91d1-a792a24d075b div.sk-item {z-index: 1;}#sk-2e8d00c0-25c6-4424-91d1-a792a24d075b div.sk-parallel {display: flex;align-items: stretch;justify-content: center;background-color: white;}#sk-2e8d00c0-25c6-4424-91d1-a792a24d075b div.sk-parallel::before {content: \"\";position: absolute;border-left: 1px solid gray;box-sizing: border-box;top: 2em;bottom: 0;left: 50%;}#sk-2e8d00c0-25c6-4424-91d1-a792a24d075b div.sk-parallel-item {display: flex;flex-direction: column;position: relative;background-color: white;}#sk-2e8d00c0-25c6-4424-91d1-a792a24d075b div.sk-parallel-item:first-child::after {align-self: flex-end;width: 50%;}#sk-2e8d00c0-25c6-4424-91d1-a792a24d075b div.sk-parallel-item:last-child::after {align-self: flex-start;width: 50%;}#sk-2e8d00c0-25c6-4424-91d1-a792a24d075b div.sk-parallel-item:only-child::after {width: 0;}#sk-2e8d00c0-25c6-4424-91d1-a792a24d075b div.sk-dashed-wrapped {border: 1px dashed gray;margin: 0 0.4em 0.5em 0.4em;box-sizing: border-box;padding-bottom: 0.4em;background-color: white;position: relative;}#sk-2e8d00c0-25c6-4424-91d1-a792a24d075b div.sk-label label {font-family: monospace;font-weight: bold;background-color: white;display: inline-block;line-height: 1.2em;}#sk-2e8d00c0-25c6-4424-91d1-a792a24d075b div.sk-label-container {position: relative;z-index: 2;text-align: center;}#sk-2e8d00c0-25c6-4424-91d1-a792a24d075b div.sk-container {/* jupyter's `normalize.less` sets `[hidden] { display: none; }` but bootstrap.min.css set `[hidden] { display: none !important; }` so we also need the `!important` here to be able to override the default hidden behavior on the sphinx rendered scikit-learn.org. See: https://github.com/scikit-learn/scikit-learn/issues/21755 */display: inline-block !important;position: relative;}#sk-2e8d00c0-25c6-4424-91d1-a792a24d075b div.sk-text-repr-fallback {display: none;}</style><div id=\"sk-2e8d00c0-25c6-4424-91d1-a792a24d075b\" class=\"sk-top-container\"><div class=\"sk-text-repr-fallback\"><pre>Pipeline(steps=[(&#x27;simpleimputer&#x27;, SimpleImputer(strategy=&#x27;most_frequent&#x27;)),\n",
       "                (&#x27;onehotencoder&#x27;,\n",
       "                 OneHotEncoder(handle_unknown=&#x27;ignore&#x27;, sparse=False))])</pre><b>Please rerun this cell to show the HTML repr or trust the notebook.</b></div><div class=\"sk-container\" hidden><div class=\"sk-item sk-dashed-wrapped\"><div class=\"sk-label-container\"><div class=\"sk-label sk-toggleable\"><input class=\"sk-toggleable__control sk-hidden--visually\" id=\"e97b080f-675a-44d0-8d32-795b71726e48\" type=\"checkbox\" ><label for=\"e97b080f-675a-44d0-8d32-795b71726e48\" class=\"sk-toggleable__label sk-toggleable__label-arrow\">Pipeline</label><div class=\"sk-toggleable__content\"><pre>Pipeline(steps=[(&#x27;simpleimputer&#x27;, SimpleImputer(strategy=&#x27;most_frequent&#x27;)),\n",
       "                (&#x27;onehotencoder&#x27;,\n",
       "                 OneHotEncoder(handle_unknown=&#x27;ignore&#x27;, sparse=False))])</pre></div></div></div><div class=\"sk-serial\"><div class=\"sk-item\"><div class=\"sk-estimator sk-toggleable\"><input class=\"sk-toggleable__control sk-hidden--visually\" id=\"35ee1238-dfd0-4952-8e0a-98c2f12e4ffe\" type=\"checkbox\" ><label for=\"35ee1238-dfd0-4952-8e0a-98c2f12e4ffe\" class=\"sk-toggleable__label sk-toggleable__label-arrow\">SimpleImputer</label><div class=\"sk-toggleable__content\"><pre>SimpleImputer(strategy=&#x27;most_frequent&#x27;)</pre></div></div></div><div class=\"sk-item\"><div class=\"sk-estimator sk-toggleable\"><input class=\"sk-toggleable__control sk-hidden--visually\" id=\"ef7127e9-fcc7-48fa-a0a1-52fde966bd5b\" type=\"checkbox\" ><label for=\"ef7127e9-fcc7-48fa-a0a1-52fde966bd5b\" class=\"sk-toggleable__label sk-toggleable__label-arrow\">OneHotEncoder</label><div class=\"sk-toggleable__content\"><pre>OneHotEncoder(handle_unknown=&#x27;ignore&#x27;, sparse=False)</pre></div></div></div></div></div></div></div>"
      ],
      "text/plain": [
       "Pipeline(steps=[('simpleimputer', SimpleImputer(strategy='most_frequent')),\n",
       "                ('onehotencoder',\n",
       "                 OneHotEncoder(handle_unknown='ignore', sparse=False))])"
      ]
     },
     "execution_count": 63,
     "metadata": {},
     "output_type": "execute_result"
    }
   ],
   "source": [
    "# Categorical pipeline\n",
    "\n",
    "categorical_pipe = make_pipeline(freq_imputer, ohe)\n",
    "categorical_pipe"
   ]
  },
  {
   "cell_type": "code",
   "execution_count": 64,
   "id": "25103c71-2d4c-4a33-a153-8baf99557adc",
   "metadata": {},
   "outputs": [
    {
     "data": {
      "text/html": [
       "<style>#sk-68840f92-44ef-46e2-a3a3-e14e3fd1c594 {color: black;background-color: white;}#sk-68840f92-44ef-46e2-a3a3-e14e3fd1c594 pre{padding: 0;}#sk-68840f92-44ef-46e2-a3a3-e14e3fd1c594 div.sk-toggleable {background-color: white;}#sk-68840f92-44ef-46e2-a3a3-e14e3fd1c594 label.sk-toggleable__label {cursor: pointer;display: block;width: 100%;margin-bottom: 0;padding: 0.3em;box-sizing: border-box;text-align: center;}#sk-68840f92-44ef-46e2-a3a3-e14e3fd1c594 label.sk-toggleable__label-arrow:before {content: \"▸\";float: left;margin-right: 0.25em;color: #696969;}#sk-68840f92-44ef-46e2-a3a3-e14e3fd1c594 label.sk-toggleable__label-arrow:hover:before {color: black;}#sk-68840f92-44ef-46e2-a3a3-e14e3fd1c594 div.sk-estimator:hover label.sk-toggleable__label-arrow:before {color: black;}#sk-68840f92-44ef-46e2-a3a3-e14e3fd1c594 div.sk-toggleable__content {max-height: 0;max-width: 0;overflow: hidden;text-align: left;background-color: #f0f8ff;}#sk-68840f92-44ef-46e2-a3a3-e14e3fd1c594 div.sk-toggleable__content pre {margin: 0.2em;color: black;border-radius: 0.25em;background-color: #f0f8ff;}#sk-68840f92-44ef-46e2-a3a3-e14e3fd1c594 input.sk-toggleable__control:checked~div.sk-toggleable__content {max-height: 200px;max-width: 100%;overflow: auto;}#sk-68840f92-44ef-46e2-a3a3-e14e3fd1c594 input.sk-toggleable__control:checked~label.sk-toggleable__label-arrow:before {content: \"▾\";}#sk-68840f92-44ef-46e2-a3a3-e14e3fd1c594 div.sk-estimator input.sk-toggleable__control:checked~label.sk-toggleable__label {background-color: #d4ebff;}#sk-68840f92-44ef-46e2-a3a3-e14e3fd1c594 div.sk-label input.sk-toggleable__control:checked~label.sk-toggleable__label {background-color: #d4ebff;}#sk-68840f92-44ef-46e2-a3a3-e14e3fd1c594 input.sk-hidden--visually {border: 0;clip: rect(1px 1px 1px 1px);clip: rect(1px, 1px, 1px, 1px);height: 1px;margin: -1px;overflow: hidden;padding: 0;position: absolute;width: 1px;}#sk-68840f92-44ef-46e2-a3a3-e14e3fd1c594 div.sk-estimator {font-family: monospace;background-color: #f0f8ff;border: 1px dotted black;border-radius: 0.25em;box-sizing: border-box;margin-bottom: 0.5em;}#sk-68840f92-44ef-46e2-a3a3-e14e3fd1c594 div.sk-estimator:hover {background-color: #d4ebff;}#sk-68840f92-44ef-46e2-a3a3-e14e3fd1c594 div.sk-parallel-item::after {content: \"\";width: 100%;border-bottom: 1px solid gray;flex-grow: 1;}#sk-68840f92-44ef-46e2-a3a3-e14e3fd1c594 div.sk-label:hover label.sk-toggleable__label {background-color: #d4ebff;}#sk-68840f92-44ef-46e2-a3a3-e14e3fd1c594 div.sk-serial::before {content: \"\";position: absolute;border-left: 1px solid gray;box-sizing: border-box;top: 2em;bottom: 0;left: 50%;}#sk-68840f92-44ef-46e2-a3a3-e14e3fd1c594 div.sk-serial {display: flex;flex-direction: column;align-items: center;background-color: white;padding-right: 0.2em;padding-left: 0.2em;}#sk-68840f92-44ef-46e2-a3a3-e14e3fd1c594 div.sk-item {z-index: 1;}#sk-68840f92-44ef-46e2-a3a3-e14e3fd1c594 div.sk-parallel {display: flex;align-items: stretch;justify-content: center;background-color: white;}#sk-68840f92-44ef-46e2-a3a3-e14e3fd1c594 div.sk-parallel::before {content: \"\";position: absolute;border-left: 1px solid gray;box-sizing: border-box;top: 2em;bottom: 0;left: 50%;}#sk-68840f92-44ef-46e2-a3a3-e14e3fd1c594 div.sk-parallel-item {display: flex;flex-direction: column;position: relative;background-color: white;}#sk-68840f92-44ef-46e2-a3a3-e14e3fd1c594 div.sk-parallel-item:first-child::after {align-self: flex-end;width: 50%;}#sk-68840f92-44ef-46e2-a3a3-e14e3fd1c594 div.sk-parallel-item:last-child::after {align-self: flex-start;width: 50%;}#sk-68840f92-44ef-46e2-a3a3-e14e3fd1c594 div.sk-parallel-item:only-child::after {width: 0;}#sk-68840f92-44ef-46e2-a3a3-e14e3fd1c594 div.sk-dashed-wrapped {border: 1px dashed gray;margin: 0 0.4em 0.5em 0.4em;box-sizing: border-box;padding-bottom: 0.4em;background-color: white;position: relative;}#sk-68840f92-44ef-46e2-a3a3-e14e3fd1c594 div.sk-label label {font-family: monospace;font-weight: bold;background-color: white;display: inline-block;line-height: 1.2em;}#sk-68840f92-44ef-46e2-a3a3-e14e3fd1c594 div.sk-label-container {position: relative;z-index: 2;text-align: center;}#sk-68840f92-44ef-46e2-a3a3-e14e3fd1c594 div.sk-container {/* jupyter's `normalize.less` sets `[hidden] { display: none; }` but bootstrap.min.css set `[hidden] { display: none !important; }` so we also need the `!important` here to be able to override the default hidden behavior on the sphinx rendered scikit-learn.org. See: https://github.com/scikit-learn/scikit-learn/issues/21755 */display: inline-block !important;position: relative;}#sk-68840f92-44ef-46e2-a3a3-e14e3fd1c594 div.sk-text-repr-fallback {display: none;}</style><div id=\"sk-68840f92-44ef-46e2-a3a3-e14e3fd1c594\" class=\"sk-top-container\"><div class=\"sk-text-repr-fallback\"><pre>ColumnTransformer(transformers=[(&#x27;pipeline-1&#x27;,\n",
       "                                 Pipeline(steps=[(&#x27;simpleimputer&#x27;,\n",
       "                                                  SimpleImputer()),\n",
       "                                                 (&#x27;standardscaler&#x27;,\n",
       "                                                  StandardScaler())]),\n",
       "                                 &lt;sklearn.compose._column_transformer.make_column_selector object at 0x00000224C16B5B80&gt;),\n",
       "                                (&#x27;pipeline-2&#x27;,\n",
       "                                 Pipeline(steps=[(&#x27;simpleimputer&#x27;,\n",
       "                                                  SimpleImputer(strategy=&#x27;most_frequent&#x27;)),\n",
       "                                                 (&#x27;onehotencoder&#x27;,\n",
       "                                                  OneHotEncoder(handle_unknown=&#x27;ignore&#x27;,\n",
       "                                                                sparse=False))]),\n",
       "                                 &lt;sklearn.compose._column_transformer.make_column_selector object at 0x00000224C184EF40&gt;)])</pre><b>Please rerun this cell to show the HTML repr or trust the notebook.</b></div><div class=\"sk-container\" hidden><div class=\"sk-item sk-dashed-wrapped\"><div class=\"sk-label-container\"><div class=\"sk-label sk-toggleable\"><input class=\"sk-toggleable__control sk-hidden--visually\" id=\"f5a2f1f9-98f8-4c52-920c-dc0d610f5da9\" type=\"checkbox\" ><label for=\"f5a2f1f9-98f8-4c52-920c-dc0d610f5da9\" class=\"sk-toggleable__label sk-toggleable__label-arrow\">ColumnTransformer</label><div class=\"sk-toggleable__content\"><pre>ColumnTransformer(transformers=[(&#x27;pipeline-1&#x27;,\n",
       "                                 Pipeline(steps=[(&#x27;simpleimputer&#x27;,\n",
       "                                                  SimpleImputer()),\n",
       "                                                 (&#x27;standardscaler&#x27;,\n",
       "                                                  StandardScaler())]),\n",
       "                                 &lt;sklearn.compose._column_transformer.make_column_selector object at 0x00000224C16B5B80&gt;),\n",
       "                                (&#x27;pipeline-2&#x27;,\n",
       "                                 Pipeline(steps=[(&#x27;simpleimputer&#x27;,\n",
       "                                                  SimpleImputer(strategy=&#x27;most_frequent&#x27;)),\n",
       "                                                 (&#x27;onehotencoder&#x27;,\n",
       "                                                  OneHotEncoder(handle_unknown=&#x27;ignore&#x27;,\n",
       "                                                                sparse=False))]),\n",
       "                                 &lt;sklearn.compose._column_transformer.make_column_selector object at 0x00000224C184EF40&gt;)])</pre></div></div></div><div class=\"sk-parallel\"><div class=\"sk-parallel-item\"><div class=\"sk-item\"><div class=\"sk-label-container\"><div class=\"sk-label sk-toggleable\"><input class=\"sk-toggleable__control sk-hidden--visually\" id=\"f62754c6-9f58-4db2-b909-d93b24c9fad4\" type=\"checkbox\" ><label for=\"f62754c6-9f58-4db2-b909-d93b24c9fad4\" class=\"sk-toggleable__label sk-toggleable__label-arrow\">pipeline-1</label><div class=\"sk-toggleable__content\"><pre>&lt;sklearn.compose._column_transformer.make_column_selector object at 0x00000224C16B5B80&gt;</pre></div></div></div><div class=\"sk-serial\"><div class=\"sk-item\"><div class=\"sk-serial\"><div class=\"sk-item\"><div class=\"sk-estimator sk-toggleable\"><input class=\"sk-toggleable__control sk-hidden--visually\" id=\"2e36d371-cbb2-461b-8841-689b2319de52\" type=\"checkbox\" ><label for=\"2e36d371-cbb2-461b-8841-689b2319de52\" class=\"sk-toggleable__label sk-toggleable__label-arrow\">SimpleImputer</label><div class=\"sk-toggleable__content\"><pre>SimpleImputer()</pre></div></div></div><div class=\"sk-item\"><div class=\"sk-estimator sk-toggleable\"><input class=\"sk-toggleable__control sk-hidden--visually\" id=\"98c0a89c-42ee-438c-be41-7d71b15e5bb3\" type=\"checkbox\" ><label for=\"98c0a89c-42ee-438c-be41-7d71b15e5bb3\" class=\"sk-toggleable__label sk-toggleable__label-arrow\">StandardScaler</label><div class=\"sk-toggleable__content\"><pre>StandardScaler()</pre></div></div></div></div></div></div></div></div><div class=\"sk-parallel-item\"><div class=\"sk-item\"><div class=\"sk-label-container\"><div class=\"sk-label sk-toggleable\"><input class=\"sk-toggleable__control sk-hidden--visually\" id=\"bd2df2a4-985e-4b7e-8990-04f2d7cb2b33\" type=\"checkbox\" ><label for=\"bd2df2a4-985e-4b7e-8990-04f2d7cb2b33\" class=\"sk-toggleable__label sk-toggleable__label-arrow\">pipeline-2</label><div class=\"sk-toggleable__content\"><pre>&lt;sklearn.compose._column_transformer.make_column_selector object at 0x00000224C184EF40&gt;</pre></div></div></div><div class=\"sk-serial\"><div class=\"sk-item\"><div class=\"sk-serial\"><div class=\"sk-item\"><div class=\"sk-estimator sk-toggleable\"><input class=\"sk-toggleable__control sk-hidden--visually\" id=\"f1a6d45d-43fb-4fbd-977e-864844f4b43c\" type=\"checkbox\" ><label for=\"f1a6d45d-43fb-4fbd-977e-864844f4b43c\" class=\"sk-toggleable__label sk-toggleable__label-arrow\">SimpleImputer</label><div class=\"sk-toggleable__content\"><pre>SimpleImputer(strategy=&#x27;most_frequent&#x27;)</pre></div></div></div><div class=\"sk-item\"><div class=\"sk-estimator sk-toggleable\"><input class=\"sk-toggleable__control sk-hidden--visually\" id=\"f51bc183-ab7e-4c8f-8d3c-01decb6c54e8\" type=\"checkbox\" ><label for=\"f51bc183-ab7e-4c8f-8d3c-01decb6c54e8\" class=\"sk-toggleable__label sk-toggleable__label-arrow\">OneHotEncoder</label><div class=\"sk-toggleable__content\"><pre>OneHotEncoder(handle_unknown=&#x27;ignore&#x27;, sparse=False)</pre></div></div></div></div></div></div></div></div></div></div></div></div>"
      ],
      "text/plain": [
       "ColumnTransformer(transformers=[('pipeline-1',\n",
       "                                 Pipeline(steps=[('simpleimputer',\n",
       "                                                  SimpleImputer()),\n",
       "                                                 ('standardscaler',\n",
       "                                                  StandardScaler())]),\n",
       "                                 <sklearn.compose._column_transformer.make_column_selector object at 0x00000224C16B5B80>),\n",
       "                                ('pipeline-2',\n",
       "                                 Pipeline(steps=[('simpleimputer',\n",
       "                                                  SimpleImputer(strategy='most_frequent')),\n",
       "                                                 ('onehotencoder',\n",
       "                                                  OneHotEncoder(handle_unknown='ignore',\n",
       "                                                                sparse=False))]),\n",
       "                                 <sklearn.compose._column_transformer.make_column_selector object at 0x00000224C184EF40>)])"
      ]
     },
     "execution_count": 64,
     "metadata": {},
     "output_type": "execute_result"
    }
   ],
   "source": [
    "# Tuples for Column Transformer\n",
    "number_tuple = (numeric_pipe, num_selector)\n",
    "category_tuple = (categorical_pipe, cat_selector)\n",
    "\n",
    "# ColumnTransformer\n",
    "preprocessor = make_column_transformer(number_tuple, category_tuple)\n",
    "preprocessor"
   ]
  },
  {
   "cell_type": "code",
   "execution_count": 65,
   "id": "6d064083-be05-4b90-a2ad-f92092e5a651",
   "metadata": {},
   "outputs": [
    {
     "data": {
      "text/html": [
       "<style>#sk-8cfec90a-afe6-4f55-b1fa-319125ccc636 {color: black;background-color: white;}#sk-8cfec90a-afe6-4f55-b1fa-319125ccc636 pre{padding: 0;}#sk-8cfec90a-afe6-4f55-b1fa-319125ccc636 div.sk-toggleable {background-color: white;}#sk-8cfec90a-afe6-4f55-b1fa-319125ccc636 label.sk-toggleable__label {cursor: pointer;display: block;width: 100%;margin-bottom: 0;padding: 0.3em;box-sizing: border-box;text-align: center;}#sk-8cfec90a-afe6-4f55-b1fa-319125ccc636 label.sk-toggleable__label-arrow:before {content: \"▸\";float: left;margin-right: 0.25em;color: #696969;}#sk-8cfec90a-afe6-4f55-b1fa-319125ccc636 label.sk-toggleable__label-arrow:hover:before {color: black;}#sk-8cfec90a-afe6-4f55-b1fa-319125ccc636 div.sk-estimator:hover label.sk-toggleable__label-arrow:before {color: black;}#sk-8cfec90a-afe6-4f55-b1fa-319125ccc636 div.sk-toggleable__content {max-height: 0;max-width: 0;overflow: hidden;text-align: left;background-color: #f0f8ff;}#sk-8cfec90a-afe6-4f55-b1fa-319125ccc636 div.sk-toggleable__content pre {margin: 0.2em;color: black;border-radius: 0.25em;background-color: #f0f8ff;}#sk-8cfec90a-afe6-4f55-b1fa-319125ccc636 input.sk-toggleable__control:checked~div.sk-toggleable__content {max-height: 200px;max-width: 100%;overflow: auto;}#sk-8cfec90a-afe6-4f55-b1fa-319125ccc636 input.sk-toggleable__control:checked~label.sk-toggleable__label-arrow:before {content: \"▾\";}#sk-8cfec90a-afe6-4f55-b1fa-319125ccc636 div.sk-estimator input.sk-toggleable__control:checked~label.sk-toggleable__label {background-color: #d4ebff;}#sk-8cfec90a-afe6-4f55-b1fa-319125ccc636 div.sk-label input.sk-toggleable__control:checked~label.sk-toggleable__label {background-color: #d4ebff;}#sk-8cfec90a-afe6-4f55-b1fa-319125ccc636 input.sk-hidden--visually {border: 0;clip: rect(1px 1px 1px 1px);clip: rect(1px, 1px, 1px, 1px);height: 1px;margin: -1px;overflow: hidden;padding: 0;position: absolute;width: 1px;}#sk-8cfec90a-afe6-4f55-b1fa-319125ccc636 div.sk-estimator {font-family: monospace;background-color: #f0f8ff;border: 1px dotted black;border-radius: 0.25em;box-sizing: border-box;margin-bottom: 0.5em;}#sk-8cfec90a-afe6-4f55-b1fa-319125ccc636 div.sk-estimator:hover {background-color: #d4ebff;}#sk-8cfec90a-afe6-4f55-b1fa-319125ccc636 div.sk-parallel-item::after {content: \"\";width: 100%;border-bottom: 1px solid gray;flex-grow: 1;}#sk-8cfec90a-afe6-4f55-b1fa-319125ccc636 div.sk-label:hover label.sk-toggleable__label {background-color: #d4ebff;}#sk-8cfec90a-afe6-4f55-b1fa-319125ccc636 div.sk-serial::before {content: \"\";position: absolute;border-left: 1px solid gray;box-sizing: border-box;top: 2em;bottom: 0;left: 50%;}#sk-8cfec90a-afe6-4f55-b1fa-319125ccc636 div.sk-serial {display: flex;flex-direction: column;align-items: center;background-color: white;padding-right: 0.2em;padding-left: 0.2em;}#sk-8cfec90a-afe6-4f55-b1fa-319125ccc636 div.sk-item {z-index: 1;}#sk-8cfec90a-afe6-4f55-b1fa-319125ccc636 div.sk-parallel {display: flex;align-items: stretch;justify-content: center;background-color: white;}#sk-8cfec90a-afe6-4f55-b1fa-319125ccc636 div.sk-parallel::before {content: \"\";position: absolute;border-left: 1px solid gray;box-sizing: border-box;top: 2em;bottom: 0;left: 50%;}#sk-8cfec90a-afe6-4f55-b1fa-319125ccc636 div.sk-parallel-item {display: flex;flex-direction: column;position: relative;background-color: white;}#sk-8cfec90a-afe6-4f55-b1fa-319125ccc636 div.sk-parallel-item:first-child::after {align-self: flex-end;width: 50%;}#sk-8cfec90a-afe6-4f55-b1fa-319125ccc636 div.sk-parallel-item:last-child::after {align-self: flex-start;width: 50%;}#sk-8cfec90a-afe6-4f55-b1fa-319125ccc636 div.sk-parallel-item:only-child::after {width: 0;}#sk-8cfec90a-afe6-4f55-b1fa-319125ccc636 div.sk-dashed-wrapped {border: 1px dashed gray;margin: 0 0.4em 0.5em 0.4em;box-sizing: border-box;padding-bottom: 0.4em;background-color: white;position: relative;}#sk-8cfec90a-afe6-4f55-b1fa-319125ccc636 div.sk-label label {font-family: monospace;font-weight: bold;background-color: white;display: inline-block;line-height: 1.2em;}#sk-8cfec90a-afe6-4f55-b1fa-319125ccc636 div.sk-label-container {position: relative;z-index: 2;text-align: center;}#sk-8cfec90a-afe6-4f55-b1fa-319125ccc636 div.sk-container {/* jupyter's `normalize.less` sets `[hidden] { display: none; }` but bootstrap.min.css set `[hidden] { display: none !important; }` so we also need the `!important` here to be able to override the default hidden behavior on the sphinx rendered scikit-learn.org. See: https://github.com/scikit-learn/scikit-learn/issues/21755 */display: inline-block !important;position: relative;}#sk-8cfec90a-afe6-4f55-b1fa-319125ccc636 div.sk-text-repr-fallback {display: none;}</style><div id=\"sk-8cfec90a-afe6-4f55-b1fa-319125ccc636\" class=\"sk-top-container\"><div class=\"sk-text-repr-fallback\"><pre>ColumnTransformer(transformers=[(&#x27;pipeline-1&#x27;,\n",
       "                                 Pipeline(steps=[(&#x27;simpleimputer&#x27;,\n",
       "                                                  SimpleImputer()),\n",
       "                                                 (&#x27;standardscaler&#x27;,\n",
       "                                                  StandardScaler())]),\n",
       "                                 &lt;sklearn.compose._column_transformer.make_column_selector object at 0x00000224C16B5B80&gt;),\n",
       "                                (&#x27;pipeline-2&#x27;,\n",
       "                                 Pipeline(steps=[(&#x27;simpleimputer&#x27;,\n",
       "                                                  SimpleImputer(strategy=&#x27;most_frequent&#x27;)),\n",
       "                                                 (&#x27;onehotencoder&#x27;,\n",
       "                                                  OneHotEncoder(handle_unknown=&#x27;ignore&#x27;,\n",
       "                                                                sparse=False))]),\n",
       "                                 &lt;sklearn.compose._column_transformer.make_column_selector object at 0x00000224C184EF40&gt;)])</pre><b>Please rerun this cell to show the HTML repr or trust the notebook.</b></div><div class=\"sk-container\" hidden><div class=\"sk-item sk-dashed-wrapped\"><div class=\"sk-label-container\"><div class=\"sk-label sk-toggleable\"><input class=\"sk-toggleable__control sk-hidden--visually\" id=\"91616407-e96d-4e41-a22c-1fe424453a7e\" type=\"checkbox\" ><label for=\"91616407-e96d-4e41-a22c-1fe424453a7e\" class=\"sk-toggleable__label sk-toggleable__label-arrow\">ColumnTransformer</label><div class=\"sk-toggleable__content\"><pre>ColumnTransformer(transformers=[(&#x27;pipeline-1&#x27;,\n",
       "                                 Pipeline(steps=[(&#x27;simpleimputer&#x27;,\n",
       "                                                  SimpleImputer()),\n",
       "                                                 (&#x27;standardscaler&#x27;,\n",
       "                                                  StandardScaler())]),\n",
       "                                 &lt;sklearn.compose._column_transformer.make_column_selector object at 0x00000224C16B5B80&gt;),\n",
       "                                (&#x27;pipeline-2&#x27;,\n",
       "                                 Pipeline(steps=[(&#x27;simpleimputer&#x27;,\n",
       "                                                  SimpleImputer(strategy=&#x27;most_frequent&#x27;)),\n",
       "                                                 (&#x27;onehotencoder&#x27;,\n",
       "                                                  OneHotEncoder(handle_unknown=&#x27;ignore&#x27;,\n",
       "                                                                sparse=False))]),\n",
       "                                 &lt;sklearn.compose._column_transformer.make_column_selector object at 0x00000224C184EF40&gt;)])</pre></div></div></div><div class=\"sk-parallel\"><div class=\"sk-parallel-item\"><div class=\"sk-item\"><div class=\"sk-label-container\"><div class=\"sk-label sk-toggleable\"><input class=\"sk-toggleable__control sk-hidden--visually\" id=\"befc0428-39af-4060-a8e4-ac8077c90beb\" type=\"checkbox\" ><label for=\"befc0428-39af-4060-a8e4-ac8077c90beb\" class=\"sk-toggleable__label sk-toggleable__label-arrow\">pipeline-1</label><div class=\"sk-toggleable__content\"><pre>&lt;sklearn.compose._column_transformer.make_column_selector object at 0x00000224C16B5B80&gt;</pre></div></div></div><div class=\"sk-serial\"><div class=\"sk-item\"><div class=\"sk-serial\"><div class=\"sk-item\"><div class=\"sk-estimator sk-toggleable\"><input class=\"sk-toggleable__control sk-hidden--visually\" id=\"f67c8b5f-c40b-4cc4-8435-f7a635a4fbba\" type=\"checkbox\" ><label for=\"f67c8b5f-c40b-4cc4-8435-f7a635a4fbba\" class=\"sk-toggleable__label sk-toggleable__label-arrow\">SimpleImputer</label><div class=\"sk-toggleable__content\"><pre>SimpleImputer()</pre></div></div></div><div class=\"sk-item\"><div class=\"sk-estimator sk-toggleable\"><input class=\"sk-toggleable__control sk-hidden--visually\" id=\"fc1ada13-609e-4bfe-a5eb-e1ad89478861\" type=\"checkbox\" ><label for=\"fc1ada13-609e-4bfe-a5eb-e1ad89478861\" class=\"sk-toggleable__label sk-toggleable__label-arrow\">StandardScaler</label><div class=\"sk-toggleable__content\"><pre>StandardScaler()</pre></div></div></div></div></div></div></div></div><div class=\"sk-parallel-item\"><div class=\"sk-item\"><div class=\"sk-label-container\"><div class=\"sk-label sk-toggleable\"><input class=\"sk-toggleable__control sk-hidden--visually\" id=\"f59737b5-d926-4fd0-88f3-f0698b1abb51\" type=\"checkbox\" ><label for=\"f59737b5-d926-4fd0-88f3-f0698b1abb51\" class=\"sk-toggleable__label sk-toggleable__label-arrow\">pipeline-2</label><div class=\"sk-toggleable__content\"><pre>&lt;sklearn.compose._column_transformer.make_column_selector object at 0x00000224C184EF40&gt;</pre></div></div></div><div class=\"sk-serial\"><div class=\"sk-item\"><div class=\"sk-serial\"><div class=\"sk-item\"><div class=\"sk-estimator sk-toggleable\"><input class=\"sk-toggleable__control sk-hidden--visually\" id=\"7ab76521-be64-4001-9424-e4c1b517abd3\" type=\"checkbox\" ><label for=\"7ab76521-be64-4001-9424-e4c1b517abd3\" class=\"sk-toggleable__label sk-toggleable__label-arrow\">SimpleImputer</label><div class=\"sk-toggleable__content\"><pre>SimpleImputer(strategy=&#x27;most_frequent&#x27;)</pre></div></div></div><div class=\"sk-item\"><div class=\"sk-estimator sk-toggleable\"><input class=\"sk-toggleable__control sk-hidden--visually\" id=\"c192ee3c-749b-4b57-8902-b05c0736d195\" type=\"checkbox\" ><label for=\"c192ee3c-749b-4b57-8902-b05c0736d195\" class=\"sk-toggleable__label sk-toggleable__label-arrow\">OneHotEncoder</label><div class=\"sk-toggleable__content\"><pre>OneHotEncoder(handle_unknown=&#x27;ignore&#x27;, sparse=False)</pre></div></div></div></div></div></div></div></div></div></div></div></div>"
      ],
      "text/plain": [
       "ColumnTransformer(transformers=[('pipeline-1',\n",
       "                                 Pipeline(steps=[('simpleimputer',\n",
       "                                                  SimpleImputer()),\n",
       "                                                 ('standardscaler',\n",
       "                                                  StandardScaler())]),\n",
       "                                 <sklearn.compose._column_transformer.make_column_selector object at 0x00000224C16B5B80>),\n",
       "                                ('pipeline-2',\n",
       "                                 Pipeline(steps=[('simpleimputer',\n",
       "                                                  SimpleImputer(strategy='most_frequent')),\n",
       "                                                 ('onehotencoder',\n",
       "                                                  OneHotEncoder(handle_unknown='ignore',\n",
       "                                                                sparse=False))]),\n",
       "                                 <sklearn.compose._column_transformer.make_column_selector object at 0x00000224C184EF40>)])"
      ]
     },
     "execution_count": 65,
     "metadata": {},
     "output_type": "execute_result"
    }
   ],
   "source": [
    "# fit on train\n",
    "\n",
    "preprocessor.fit(X_train)"
   ]
  },
  {
   "cell_type": "code",
   "execution_count": 66,
   "id": "3ea9d3ed-fd0f-4991-baf3-e93684a1dcd5",
   "metadata": {},
   "outputs": [],
   "source": [
    "# transform train and test\n",
    "\n",
    "X_train_processed = preprocessor.transform(X_train)\n",
    "X_test_processed = preprocessor.transform(X_test)"
   ]
  },
  {
   "cell_type": "code",
   "execution_count": 67,
   "id": "6a31f218-f7af-48bd-9929-138aa7643c7c",
   "metadata": {},
   "outputs": [
    {
     "name": "stdout",
     "output_type": "stream",
     "text": [
      "0 missing values in training data\n",
      "0 missing values in testing data\n",
      "\n",
      "\n",
      "All data in X_train_processed are float64\n",
      "All data in X_test_processed are float64\n",
      "\n",
      "\n",
      "shape of data is (6392, 1592)\n",
      "\n",
      "\n"
     ]
    },
    {
     "data": {
      "text/plain": [
       "array([[ 8.17248678e-01, -7.12775072e-01,  1.82810922e+00, ...,\n",
       "         0.00000000e+00,  1.00000000e+00,  0.00000000e+00],\n",
       "       [ 5.56339503e-01, -1.29105225e+00,  6.03368881e-01, ...,\n",
       "         0.00000000e+00,  1.00000000e+00,  0.00000000e+00],\n",
       "       [-1.31511957e-01,  1.81331864e+00,  2.44540557e-01, ...,\n",
       "         1.00000000e+00,  0.00000000e+00,  0.00000000e+00],\n",
       "       ...,\n",
       "       [ 4.21334361e-16, -4.79739240e-02,  1.94299739e+00, ...,\n",
       "         0.00000000e+00,  0.00000000e+00,  1.00000000e+00],\n",
       "       [ 1.61183571e+00,  1.85156735e+00,  1.79995405e+00, ...,\n",
       "         1.00000000e+00,  0.00000000e+00,  0.00000000e+00],\n",
       "       [-1.11940897e+00, -5.33681676e-01, -4.16764231e-01, ...,\n",
       "         1.00000000e+00,  0.00000000e+00,  0.00000000e+00]])"
      ]
     },
     "execution_count": 67,
     "metadata": {},
     "output_type": "execute_result"
    }
   ],
   "source": [
    "# Check for missing values and that data is scaled and one-hot encoded\n",
    "\n",
    "print(np.isnan(X_train_processed).sum().sum(), 'missing values in training data')\n",
    "print(np.isnan(X_test_processed).sum().sum(), 'missing values in testing data')\n",
    "print('\\n')\n",
    "print('All data in X_train_processed are', X_train_processed.dtype)\n",
    "print('All data in X_test_processed are', X_test_processed.dtype)\n",
    "print('\\n')\n",
    "print('shape of data is', X_train_processed.shape)\n",
    "print('\\n')\n",
    "\n",
    "X_train_processed[:10]"
   ]
  }
 ],
 "metadata": {
  "kernelspec": {
   "display_name": "Python 3 (ipykernel)",
   "language": "python",
   "name": "python3"
  },
  "language_info": {
   "codemirror_mode": {
    "name": "ipython",
    "version": 3
   },
   "file_extension": ".py",
   "mimetype": "text/x-python",
   "name": "python",
   "nbconvert_exporter": "python",
   "pygments_lexer": "ipython3",
   "version": "3.9.13"
  }
 },
 "nbformat": 4,
 "nbformat_minor": 5
}
