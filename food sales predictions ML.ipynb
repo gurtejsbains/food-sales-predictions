{
 "cells": [
  {
   "cell_type": "markdown",
   "id": "d06f5ea8-3448-49f8-b127-33af4d6d1399",
   "metadata": {},
   "source": [
    "# Food sales predictions (ML preprocessing)\n",
    "\n",
    "**Author:** Gurtej Bains "
   ]
  },
  {
   "cell_type": "markdown",
   "id": "0600bc5a-4424-486c-8ffa-fdb822568db6",
   "metadata": {
    "jp-MarkdownHeadingCollapsed": true,
    "tags": []
   },
   "source": [
    "# Import Libraries"
   ]
  },
  {
   "cell_type": "code",
   "execution_count": 116,
   "id": "0481d4f0-58b2-441d-b1b8-7976fbf4aa10",
   "metadata": {},
   "outputs": [],
   "source": [
    "# Pandas\n",
    "import pandas as pd\n",
    "# Numpy\n",
    "import numpy as np\n",
    "\n",
    "# visualizations \n",
    "import seaborn as sns\n",
    "import matplotlib.pyplot as plt\n",
    "\n",
    "# Preprocessing\n",
    "from sklearn.model_selection import train_test_split\n",
    "from sklearn.compose import make_column_selector\n",
    "from sklearn.preprocessing import StandardScaler \n",
    "from sklearn.preprocessing import OneHotEncoder\n",
    "from sklearn.impute import SimpleImputer\n",
    "from sklearn.pipeline import make_pipeline\n",
    "from sklearn.compose import make_column_transformer\n",
    "\n",
    "# Models\n",
    "from sklearn.linear_model import LinearRegression\n",
    "from sklearn.dummy import DummyRegressor\n",
    "\n",
    "# Regression Metrics\n",
    "from sklearn.metrics import r2_score\n",
    "from sklearn.metrics import mean_absolute_error\n",
    "from sklearn.metrics import mean_squared_error\n",
    "\n",
    "# Decision Tree \n",
    "from sklearn.tree import DecisionTreeRegressor\n",
    "\n",
    "# Import the bagging regressor\n",
    "from sklearn.ensemble import BaggingRegressor\n",
    "\n",
    "# Import random forest Regressor\n",
    "from sklearn.ensemble import RandomForestRegressor\n",
    "\n",
    "# Set global scikit-learn configuration \n",
    "from sklearn import set_config\n",
    "# Display estimators as a diagram\n",
    "set_config(display='diagram') # 'text' or 'diagram'}"
   ]
  },
  {
   "cell_type": "code",
   "execution_count": 117,
   "id": "23737447-253d-4665-8dea-248c3662c510",
   "metadata": {},
   "outputs": [
    {
     "name": "stdout",
     "output_type": "stream",
     "text": [
      "\u001b[1mHello, World!\u001b[0m\n"
     ]
    }
   ],
   "source": [
    "# Color class to make print look pretty  \n",
    "\n",
    "class color:\n",
    "   PURPLE = '\\033[95m'\n",
    "   CYAN = '\\033[96m'\n",
    "   DARKCYAN = '\\033[36m'\n",
    "   BLUE = '\\033[94m'\n",
    "   GREEN = '\\033[92m'\n",
    "   YELLOW = '\\033[93m'\n",
    "   RED = '\\033[91m'\n",
    "   BOLD = '\\033[1m'\n",
    "   UNDERLINE = '\\033[4m'\n",
    "   END = '\\033[0m'\n",
    "\n",
    "print(color.BOLD + 'Hello, World!' + color.END)"
   ]
  },
  {
   "cell_type": "markdown",
   "id": "9fc33851-6b67-4979-96b2-f4e56ab33480",
   "metadata": {
    "jp-MarkdownHeadingCollapsed": true,
    "tags": []
   },
   "source": [
    "# User Defined Functions"
   ]
  },
  {
   "cell_type": "code",
   "execution_count": 118,
   "id": "83901adf-54c8-4ad0-97d3-45a2c9b0afd7",
   "metadata": {},
   "outputs": [],
   "source": [
    "# Function to eye ball the data\n",
    "def overall_shape(table_name, sample_size=10):\n",
    "  \"\"\"\n",
    "  This function takes a table and returns a detailed description of its shape.\n",
    "  table_name: enter the dataframe name \n",
    "  sample_size: enter the sample size of the output to be viewed \n",
    "  \"\"\"\n",
    "  no_of_columns = table_name.shape[1]\n",
    "  no_of_rows = table_name.shape[0]\n",
    "  sample_data = table_name.sample(sample_size)\n",
    "  print (f\"{color.BOLD}Total number of columns in dataframe: {color.RED}{no_of_columns}{color.END}{color.END}\")\n",
    "  print (f\"{color.BOLD}Total number of rows in dataframe: {color.RED}{no_of_rows}{color.END}{color.END}\")\n",
    "  print (f\"{color.BOLD}Below is the sample of {color.RED}{sample_size} records {color.END}{color.END}\")\n",
    "  return sample_data "
   ]
  },
  {
   "cell_type": "code",
   "execution_count": 119,
   "id": "d767a5ec-2ecf-42c5-95f8-ef623870871d",
   "metadata": {},
   "outputs": [],
   "source": [
    "# Function to eye ball duplicate rows  \n",
    "def overall_dup(table_name):\n",
    "  \"\"\"\n",
    "  This function takes a table and returns a duplicate rows info.\n",
    "  table_name: enter the dataframe name \n",
    "  sample_size: enter the sample size of the output to be viewed \n",
    "  \"\"\"\n",
    "  # row level calculations here\n",
    "  no_of_rows = table_name.shape[0]\n",
    "  actual_row_dups = table_name.duplicated( ).sum() \n",
    "  actual_row_dups_per = (actual_row_dups/no_of_rows).round(4)\n",
    "  total_effected = table_name.duplicated(keep=False).sum() \n",
    "  \n",
    "  # Columsn calculations here \n",
    "  no_of_columns = table_name.shape[1]\n",
    "  actual_col_dups = table_name.T.duplicated( ).sum()\n",
    "  \n",
    "  # print row level data here \n",
    "  print (f\"{color.BOLD}Total number of rows in dataframe: {color.RED}{no_of_rows}{color.END}{color.END}\")\n",
    "  print (f\"{color.BOLD}Total duplicate row values: {color.RED}{actual_row_dups} which is {actual_row_dups_per}% of total rows {color.END}{color.END}\")\n",
    "  print (f\"{color.BOLD}Total duplicate rows: {color.RED}{total_effected}{color.END}{color.END}\")\n",
    "  print (\"\\n\")\n",
    "  \n",
    "  # print column level data here \n",
    "  print (f\"{color.BOLD}Total number of columns in dataframe: {color.RED}{no_of_columns}{color.END}{color.END}\")\n",
    "  print (f\"{color.BOLD}Total duplicate columns: {color.RED}{actual_col_dups}{color.END}\")\n",
    "  return  "
   ]
  },
  {
   "cell_type": "code",
   "execution_count": 120,
   "id": "74baa9c4-04d3-4e3b-9e46-d274723ad064",
   "metadata": {},
   "outputs": [],
   "source": [
    "# functions to eye ball missing values \n",
    "def missing_values (dataframe):\n",
    "    cols = int(dataframe.shape[1])\n",
    "    stats_df = pd.DataFrame()\n",
    "    for i in dataframe.columns:\n",
    "        stats_df.loc[i, \"Total Rows\"] = int(dataframe[i].shape[0])\n",
    "        stats_df.loc[i, \"Total Unique Counts\"] = int(dataframe[i].nunique(dropna=False))\n",
    "        stats_df.loc[i, \"Has Missing Values\"] = (dataframe[i].isna().sum() > 0)\n",
    "        stats_df.loc[i, \"Missing Value Counts\"] = int(dataframe[i].isna().sum())  \n",
    "        stats_df.loc[i, \"Missing Value Percentage\"] = round(dataframe[i].isna().sum()/dataframe[i].shape[0],4)\n",
    "        \n",
    "    return stats_df.head(cols).sort_values(by='Missing Value Counts', ascending=False).style.format({'Total Rows': '{:.0f}',\n",
    "                                                                                                    'Total Unique Counts': '{:.0f}',\n",
    "                                                                                                    'Missing Value Counts': '{:.0f}',\n",
    "                                                                                                    'Missing Value Percentage': '{0:.4f}%'})"
   ]
  },
  {
   "cell_type": "code",
   "execution_count": 121,
   "id": "b402122d-17e4-465f-8daa-e49712f2568b",
   "metadata": {},
   "outputs": [],
   "source": [
    "# Create a function to take the true and predicted values\n",
    "# and print MAE, MSE, RMSE, and R2 metrics\n",
    "def model_metrics(pipe, x_train, y_train, x_test, y_test, \n",
    "                       model_name='Regression Model', ):\n",
    "  # Train\n",
    "  mae = round(mean_absolute_error(y_train, pipe.predict(x_train)),4)\n",
    "  mse = round(mean_squared_error(y_train, pipe.predict(x_train)),4)\n",
    "  rmse = round(np.sqrt(mean_squared_error(y_train, pipe.predict(x_train))),4)\n",
    "  r2 = round(r2_score(y_train, pipe.predict(x_train)),7)\n",
    "  print(f'{model_name} Train Scores')\n",
    "  print(f'MAE: {mae} \\nMSE: {mse} \\nRMSE: {rmse} \\nR2: {r2}\\n')\n",
    "\n",
    "  # Test\n",
    "  mae = round(mean_absolute_error(y_test, pipe.predict(x_test)),4)\n",
    "  mse = round(mean_squared_error(y_test, pipe.predict(x_test)),4)\n",
    "  rmse = round(np.sqrt(mean_squared_error(y_test, pipe.predict(x_test))),4)\n",
    "  r2 = round(r2_score(y_test, pipe.predict(x_test)),7)\n",
    "\n",
    "  # Display the metrics for the model\n",
    "  print(f'{model_name} Test Scores')\n",
    "  print(f'MAE: {mae} \\nMSE: {mse} \\nRMSE: {rmse} \\nR2: {r2}\\n')"
   ]
  },
  {
   "cell_type": "markdown",
   "id": "ab17e3fd-dc2a-411f-ba37-4412cb13421d",
   "metadata": {
    "tags": []
   },
   "source": [
    "# Load and Inspect Data"
   ]
  },
  {
   "cell_type": "markdown",
   "id": "8bef8f77-29a8-42cf-b4f2-b608731d914d",
   "metadata": {
    "jp-MarkdownHeadingCollapsed": true,
    "tags": []
   },
   "source": [
    "## Load the data"
   ]
  },
  {
   "cell_type": "code",
   "execution_count": 122,
   "id": "37fd074e-cda6-451e-a140-be22307beaf3",
   "metadata": {},
   "outputs": [
    {
     "name": "stdout",
     "output_type": "stream",
     "text": [
      "Import successful\n"
     ]
    }
   ],
   "source": [
    "df = pd.read_csv(r\"C:\\Users\\gurte\\OneDrive\\All About Learning\\Coding Dojo\\Learning Material\\02 Weekly Assignments\\wk6 12-19 (ML wk2)\\sales_predictions.csv\")\n",
    "print (\"Import successful\")"
   ]
  },
  {
   "cell_type": "markdown",
   "id": "dc10b01c-0d43-4b08-9620-f7d135cc7636",
   "metadata": {
    "jp-MarkdownHeadingCollapsed": true,
    "tags": []
   },
   "source": [
    "## Inpect the data"
   ]
  },
  {
   "cell_type": "code",
   "execution_count": 123,
   "id": "6f41eaaa-9cfc-419d-9ea7-4a0553c78e92",
   "metadata": {},
   "outputs": [
    {
     "name": "stdout",
     "output_type": "stream",
     "text": [
      "\u001b[1mTotal number of columns in dataframe: \u001b[91m12\u001b[0m\u001b[0m\n",
      "\u001b[1mTotal number of rows in dataframe: \u001b[91m8523\u001b[0m\u001b[0m\n",
      "\u001b[1mBelow is the sample of \u001b[91m10 records \u001b[0m\u001b[0m\n"
     ]
    },
    {
     "data": {
      "text/html": [
       "<div>\n",
       "<style scoped>\n",
       "    .dataframe tbody tr th:only-of-type {\n",
       "        vertical-align: middle;\n",
       "    }\n",
       "\n",
       "    .dataframe tbody tr th {\n",
       "        vertical-align: top;\n",
       "    }\n",
       "\n",
       "    .dataframe thead th {\n",
       "        text-align: right;\n",
       "    }\n",
       "</style>\n",
       "<table border=\"1\" class=\"dataframe\">\n",
       "  <thead>\n",
       "    <tr style=\"text-align: right;\">\n",
       "      <th></th>\n",
       "      <th>Item_Identifier</th>\n",
       "      <th>Item_Weight</th>\n",
       "      <th>Item_Fat_Content</th>\n",
       "      <th>Item_Visibility</th>\n",
       "      <th>Item_Type</th>\n",
       "      <th>Item_MRP</th>\n",
       "      <th>Outlet_Identifier</th>\n",
       "      <th>Outlet_Establishment_Year</th>\n",
       "      <th>Outlet_Size</th>\n",
       "      <th>Outlet_Location_Type</th>\n",
       "      <th>Outlet_Type</th>\n",
       "      <th>Item_Outlet_Sales</th>\n",
       "    </tr>\n",
       "  </thead>\n",
       "  <tbody>\n",
       "    <tr>\n",
       "      <th>967</th>\n",
       "      <td>FDT49</td>\n",
       "      <td>7.00</td>\n",
       "      <td>Low Fat</td>\n",
       "      <td>0.152262</td>\n",
       "      <td>Canned</td>\n",
       "      <td>105.7280</td>\n",
       "      <td>OUT017</td>\n",
       "      <td>2007</td>\n",
       "      <td>NaN</td>\n",
       "      <td>Tier 2</td>\n",
       "      <td>Supermarket Type1</td>\n",
       "      <td>1278.3360</td>\n",
       "    </tr>\n",
       "    <tr>\n",
       "      <th>6984</th>\n",
       "      <td>FDX04</td>\n",
       "      <td>NaN</td>\n",
       "      <td>Regular</td>\n",
       "      <td>0.041370</td>\n",
       "      <td>Frozen Foods</td>\n",
       "      <td>46.2376</td>\n",
       "      <td>OUT027</td>\n",
       "      <td>1985</td>\n",
       "      <td>Medium</td>\n",
       "      <td>Tier 3</td>\n",
       "      <td>Supermarket Type3</td>\n",
       "      <td>814.9392</td>\n",
       "    </tr>\n",
       "    <tr>\n",
       "      <th>3763</th>\n",
       "      <td>NCW53</td>\n",
       "      <td>18.35</td>\n",
       "      <td>Low Fat</td>\n",
       "      <td>0.030470</td>\n",
       "      <td>Health and Hygiene</td>\n",
       "      <td>191.3162</td>\n",
       "      <td>OUT013</td>\n",
       "      <td>1987</td>\n",
       "      <td>High</td>\n",
       "      <td>Tier 3</td>\n",
       "      <td>Supermarket Type1</td>\n",
       "      <td>1346.9134</td>\n",
       "    </tr>\n",
       "    <tr>\n",
       "      <th>6709</th>\n",
       "      <td>NCV05</td>\n",
       "      <td>NaN</td>\n",
       "      <td>Low Fat</td>\n",
       "      <td>0.030062</td>\n",
       "      <td>Health and Hygiene</td>\n",
       "      <td>154.3656</td>\n",
       "      <td>OUT027</td>\n",
       "      <td>1985</td>\n",
       "      <td>Medium</td>\n",
       "      <td>Tier 3</td>\n",
       "      <td>Supermarket Type3</td>\n",
       "      <td>2471.4496</td>\n",
       "    </tr>\n",
       "    <tr>\n",
       "      <th>8311</th>\n",
       "      <td>FDV55</td>\n",
       "      <td>17.75</td>\n",
       "      <td>Low Fat</td>\n",
       "      <td>0.055159</td>\n",
       "      <td>Fruits and Vegetables</td>\n",
       "      <td>145.6444</td>\n",
       "      <td>OUT049</td>\n",
       "      <td>1999</td>\n",
       "      <td>Medium</td>\n",
       "      <td>Tier 1</td>\n",
       "      <td>Supermarket Type1</td>\n",
       "      <td>2467.4548</td>\n",
       "    </tr>\n",
       "    <tr>\n",
       "      <th>4436</th>\n",
       "      <td>FDZ09</td>\n",
       "      <td>17.60</td>\n",
       "      <td>Low Fat</td>\n",
       "      <td>0.104879</td>\n",
       "      <td>Snack Foods</td>\n",
       "      <td>164.8868</td>\n",
       "      <td>OUT046</td>\n",
       "      <td>1997</td>\n",
       "      <td>Small</td>\n",
       "      <td>Tier 1</td>\n",
       "      <td>Supermarket Type1</td>\n",
       "      <td>2456.8020</td>\n",
       "    </tr>\n",
       "    <tr>\n",
       "      <th>6400</th>\n",
       "      <td>FDT43</td>\n",
       "      <td>16.35</td>\n",
       "      <td>Low Fat</td>\n",
       "      <td>0.034393</td>\n",
       "      <td>Fruits and Vegetables</td>\n",
       "      <td>50.8324</td>\n",
       "      <td>OUT010</td>\n",
       "      <td>1998</td>\n",
       "      <td>NaN</td>\n",
       "      <td>Tier 3</td>\n",
       "      <td>Grocery Store</td>\n",
       "      <td>155.7972</td>\n",
       "    </tr>\n",
       "    <tr>\n",
       "      <th>3594</th>\n",
       "      <td>DRC36</td>\n",
       "      <td>13.00</td>\n",
       "      <td>Regular</td>\n",
       "      <td>0.044985</td>\n",
       "      <td>Soft Drinks</td>\n",
       "      <td>175.0054</td>\n",
       "      <td>OUT046</td>\n",
       "      <td>1997</td>\n",
       "      <td>Small</td>\n",
       "      <td>Tier 1</td>\n",
       "      <td>Supermarket Type1</td>\n",
       "      <td>1926.1594</td>\n",
       "    </tr>\n",
       "    <tr>\n",
       "      <th>126</th>\n",
       "      <td>DRI49</td>\n",
       "      <td>14.15</td>\n",
       "      <td>Low Fat</td>\n",
       "      <td>0.183507</td>\n",
       "      <td>Soft Drinks</td>\n",
       "      <td>82.4276</td>\n",
       "      <td>OUT046</td>\n",
       "      <td>1997</td>\n",
       "      <td>Small</td>\n",
       "      <td>Tier 1</td>\n",
       "      <td>Supermarket Type1</td>\n",
       "      <td>1137.1864</td>\n",
       "    </tr>\n",
       "    <tr>\n",
       "      <th>5702</th>\n",
       "      <td>FDZ48</td>\n",
       "      <td>17.75</td>\n",
       "      <td>Low Fat</td>\n",
       "      <td>0.076389</td>\n",
       "      <td>Baking Goods</td>\n",
       "      <td>111.1544</td>\n",
       "      <td>OUT017</td>\n",
       "      <td>2007</td>\n",
       "      <td>NaN</td>\n",
       "      <td>Tier 2</td>\n",
       "      <td>Supermarket Type1</td>\n",
       "      <td>1118.5440</td>\n",
       "    </tr>\n",
       "  </tbody>\n",
       "</table>\n",
       "</div>"
      ],
      "text/plain": [
       "     Item_Identifier  Item_Weight Item_Fat_Content  Item_Visibility  \\\n",
       "967            FDT49         7.00          Low Fat         0.152262   \n",
       "6984           FDX04          NaN          Regular         0.041370   \n",
       "3763           NCW53        18.35          Low Fat         0.030470   \n",
       "6709           NCV05          NaN          Low Fat         0.030062   \n",
       "8311           FDV55        17.75          Low Fat         0.055159   \n",
       "4436           FDZ09        17.60          Low Fat         0.104879   \n",
       "6400           FDT43        16.35          Low Fat         0.034393   \n",
       "3594           DRC36        13.00          Regular         0.044985   \n",
       "126            DRI49        14.15          Low Fat         0.183507   \n",
       "5702           FDZ48        17.75          Low Fat         0.076389   \n",
       "\n",
       "                  Item_Type  Item_MRP Outlet_Identifier  \\\n",
       "967                  Canned  105.7280            OUT017   \n",
       "6984           Frozen Foods   46.2376            OUT027   \n",
       "3763     Health and Hygiene  191.3162            OUT013   \n",
       "6709     Health and Hygiene  154.3656            OUT027   \n",
       "8311  Fruits and Vegetables  145.6444            OUT049   \n",
       "4436            Snack Foods  164.8868            OUT046   \n",
       "6400  Fruits and Vegetables   50.8324            OUT010   \n",
       "3594            Soft Drinks  175.0054            OUT046   \n",
       "126             Soft Drinks   82.4276            OUT046   \n",
       "5702           Baking Goods  111.1544            OUT017   \n",
       "\n",
       "      Outlet_Establishment_Year Outlet_Size Outlet_Location_Type  \\\n",
       "967                        2007         NaN               Tier 2   \n",
       "6984                       1985      Medium               Tier 3   \n",
       "3763                       1987        High               Tier 3   \n",
       "6709                       1985      Medium               Tier 3   \n",
       "8311                       1999      Medium               Tier 1   \n",
       "4436                       1997       Small               Tier 1   \n",
       "6400                       1998         NaN               Tier 3   \n",
       "3594                       1997       Small               Tier 1   \n",
       "126                        1997       Small               Tier 1   \n",
       "5702                       2007         NaN               Tier 2   \n",
       "\n",
       "            Outlet_Type  Item_Outlet_Sales  \n",
       "967   Supermarket Type1          1278.3360  \n",
       "6984  Supermarket Type3           814.9392  \n",
       "3763  Supermarket Type1          1346.9134  \n",
       "6709  Supermarket Type3          2471.4496  \n",
       "8311  Supermarket Type1          2467.4548  \n",
       "4436  Supermarket Type1          2456.8020  \n",
       "6400      Grocery Store           155.7972  \n",
       "3594  Supermarket Type1          1926.1594  \n",
       "126   Supermarket Type1          1137.1864  \n",
       "5702  Supermarket Type1          1118.5440  "
      ]
     },
     "execution_count": 123,
     "metadata": {},
     "output_type": "execute_result"
    }
   ],
   "source": [
    "# Display the random 10 rows of the dataframe\n",
    "overall_shape (df)"
   ]
  },
  {
   "cell_type": "markdown",
   "id": "6115d31a-24d4-40fa-8303-8ff5667421c8",
   "metadata": {},
   "source": [
    "data load appears to be having no issues"
   ]
  },
  {
   "cell_type": "code",
   "execution_count": 124,
   "id": "6cc178ec-a031-4efb-8391-75bc46921829",
   "metadata": {},
   "outputs": [
    {
     "name": "stdout",
     "output_type": "stream",
     "text": [
      "<class 'pandas.core.frame.DataFrame'>\n",
      "RangeIndex: 8523 entries, 0 to 8522\n",
      "Data columns (total 12 columns):\n",
      " #   Column                     Non-Null Count  Dtype  \n",
      "---  ------                     --------------  -----  \n",
      " 0   Item_Identifier            8523 non-null   object \n",
      " 1   Item_Weight                7060 non-null   float64\n",
      " 2   Item_Fat_Content           8523 non-null   object \n",
      " 3   Item_Visibility            8523 non-null   float64\n",
      " 4   Item_Type                  8523 non-null   object \n",
      " 5   Item_MRP                   8523 non-null   float64\n",
      " 6   Outlet_Identifier          8523 non-null   object \n",
      " 7   Outlet_Establishment_Year  8523 non-null   int64  \n",
      " 8   Outlet_Size                6113 non-null   object \n",
      " 9   Outlet_Location_Type       8523 non-null   object \n",
      " 10  Outlet_Type                8523 non-null   object \n",
      " 11  Item_Outlet_Sales          8523 non-null   float64\n",
      "dtypes: float64(4), int64(1), object(7)\n",
      "memory usage: 799.2+ KB\n"
     ]
    }
   ],
   "source": [
    "# Display the column names, count of non-null values, and their datatypes\n",
    "df.info()"
   ]
  },
  {
   "cell_type": "markdown",
   "id": "beac8429-9ee8-4cc3-ba21-b69f80687053",
   "metadata": {},
   "source": [
    "there are some missing values which we will impute at a later stage"
   ]
  },
  {
   "cell_type": "code",
   "execution_count": 125,
   "id": "ff00cf04-f349-420b-a304-20f45a499baf",
   "metadata": {},
   "outputs": [
    {
     "data": {
      "text/html": [
       "<div>\n",
       "<style scoped>\n",
       "    .dataframe tbody tr th:only-of-type {\n",
       "        vertical-align: middle;\n",
       "    }\n",
       "\n",
       "    .dataframe tbody tr th {\n",
       "        vertical-align: top;\n",
       "    }\n",
       "\n",
       "    .dataframe thead th {\n",
       "        text-align: right;\n",
       "    }\n",
       "</style>\n",
       "<table border=\"1\" class=\"dataframe\">\n",
       "  <thead>\n",
       "    <tr style=\"text-align: right;\">\n",
       "      <th></th>\n",
       "      <th>Item_Weight</th>\n",
       "      <th>Item_Visibility</th>\n",
       "      <th>Item_MRP</th>\n",
       "      <th>Outlet_Establishment_Year</th>\n",
       "      <th>Item_Outlet_Sales</th>\n",
       "    </tr>\n",
       "  </thead>\n",
       "  <tbody>\n",
       "    <tr>\n",
       "      <th>count</th>\n",
       "      <td>7060.000000</td>\n",
       "      <td>8523.000000</td>\n",
       "      <td>8523.000000</td>\n",
       "      <td>8523.000000</td>\n",
       "      <td>8523.000000</td>\n",
       "    </tr>\n",
       "    <tr>\n",
       "      <th>mean</th>\n",
       "      <td>12.857645</td>\n",
       "      <td>0.066132</td>\n",
       "      <td>140.992782</td>\n",
       "      <td>1997.831867</td>\n",
       "      <td>2181.288914</td>\n",
       "    </tr>\n",
       "    <tr>\n",
       "      <th>std</th>\n",
       "      <td>4.643456</td>\n",
       "      <td>0.051598</td>\n",
       "      <td>62.275067</td>\n",
       "      <td>8.371760</td>\n",
       "      <td>1706.499616</td>\n",
       "    </tr>\n",
       "    <tr>\n",
       "      <th>min</th>\n",
       "      <td>4.555000</td>\n",
       "      <td>0.000000</td>\n",
       "      <td>31.290000</td>\n",
       "      <td>1985.000000</td>\n",
       "      <td>33.290000</td>\n",
       "    </tr>\n",
       "    <tr>\n",
       "      <th>25%</th>\n",
       "      <td>8.773750</td>\n",
       "      <td>0.026989</td>\n",
       "      <td>93.826500</td>\n",
       "      <td>1987.000000</td>\n",
       "      <td>834.247400</td>\n",
       "    </tr>\n",
       "    <tr>\n",
       "      <th>50%</th>\n",
       "      <td>12.600000</td>\n",
       "      <td>0.053931</td>\n",
       "      <td>143.012800</td>\n",
       "      <td>1999.000000</td>\n",
       "      <td>1794.331000</td>\n",
       "    </tr>\n",
       "    <tr>\n",
       "      <th>75%</th>\n",
       "      <td>16.850000</td>\n",
       "      <td>0.094585</td>\n",
       "      <td>185.643700</td>\n",
       "      <td>2004.000000</td>\n",
       "      <td>3101.296400</td>\n",
       "    </tr>\n",
       "    <tr>\n",
       "      <th>max</th>\n",
       "      <td>21.350000</td>\n",
       "      <td>0.328391</td>\n",
       "      <td>266.888400</td>\n",
       "      <td>2009.000000</td>\n",
       "      <td>13086.964800</td>\n",
       "    </tr>\n",
       "  </tbody>\n",
       "</table>\n",
       "</div>"
      ],
      "text/plain": [
       "       Item_Weight  Item_Visibility     Item_MRP  Outlet_Establishment_Year  \\\n",
       "count  7060.000000      8523.000000  8523.000000                8523.000000   \n",
       "mean     12.857645         0.066132   140.992782                1997.831867   \n",
       "std       4.643456         0.051598    62.275067                   8.371760   \n",
       "min       4.555000         0.000000    31.290000                1985.000000   \n",
       "25%       8.773750         0.026989    93.826500                1987.000000   \n",
       "50%      12.600000         0.053931   143.012800                1999.000000   \n",
       "75%      16.850000         0.094585   185.643700                2004.000000   \n",
       "max      21.350000         0.328391   266.888400                2009.000000   \n",
       "\n",
       "       Item_Outlet_Sales  \n",
       "count        8523.000000  \n",
       "mean         2181.288914  \n",
       "std          1706.499616  \n",
       "min            33.290000  \n",
       "25%           834.247400  \n",
       "50%          1794.331000  \n",
       "75%          3101.296400  \n",
       "max         13086.964800  "
      ]
     },
     "execution_count": 125,
     "metadata": {},
     "output_type": "execute_result"
    }
   ],
   "source": [
    "# Display the descriptive statistics for the numeric columns\n",
    "df.describe(include=\"number\") "
   ]
  },
  {
   "cell_type": "code",
   "execution_count": 126,
   "id": "b6227d30-1938-42b1-9a8c-7276747d3525",
   "metadata": {},
   "outputs": [
    {
     "data": {
      "text/html": [
       "<div>\n",
       "<style scoped>\n",
       "    .dataframe tbody tr th:only-of-type {\n",
       "        vertical-align: middle;\n",
       "    }\n",
       "\n",
       "    .dataframe tbody tr th {\n",
       "        vertical-align: top;\n",
       "    }\n",
       "\n",
       "    .dataframe thead th {\n",
       "        text-align: right;\n",
       "    }\n",
       "</style>\n",
       "<table border=\"1\" class=\"dataframe\">\n",
       "  <thead>\n",
       "    <tr style=\"text-align: right;\">\n",
       "      <th></th>\n",
       "      <th>Item_Identifier</th>\n",
       "      <th>Item_Fat_Content</th>\n",
       "      <th>Item_Type</th>\n",
       "      <th>Outlet_Identifier</th>\n",
       "      <th>Outlet_Size</th>\n",
       "      <th>Outlet_Location_Type</th>\n",
       "      <th>Outlet_Type</th>\n",
       "    </tr>\n",
       "  </thead>\n",
       "  <tbody>\n",
       "    <tr>\n",
       "      <th>count</th>\n",
       "      <td>8523</td>\n",
       "      <td>8523</td>\n",
       "      <td>8523</td>\n",
       "      <td>8523</td>\n",
       "      <td>6113</td>\n",
       "      <td>8523</td>\n",
       "      <td>8523</td>\n",
       "    </tr>\n",
       "    <tr>\n",
       "      <th>unique</th>\n",
       "      <td>1559</td>\n",
       "      <td>5</td>\n",
       "      <td>16</td>\n",
       "      <td>10</td>\n",
       "      <td>3</td>\n",
       "      <td>3</td>\n",
       "      <td>4</td>\n",
       "    </tr>\n",
       "    <tr>\n",
       "      <th>top</th>\n",
       "      <td>FDW13</td>\n",
       "      <td>Low Fat</td>\n",
       "      <td>Fruits and Vegetables</td>\n",
       "      <td>OUT027</td>\n",
       "      <td>Medium</td>\n",
       "      <td>Tier 3</td>\n",
       "      <td>Supermarket Type1</td>\n",
       "    </tr>\n",
       "    <tr>\n",
       "      <th>freq</th>\n",
       "      <td>10</td>\n",
       "      <td>5089</td>\n",
       "      <td>1232</td>\n",
       "      <td>935</td>\n",
       "      <td>2793</td>\n",
       "      <td>3350</td>\n",
       "      <td>5577</td>\n",
       "    </tr>\n",
       "  </tbody>\n",
       "</table>\n",
       "</div>"
      ],
      "text/plain": [
       "       Item_Identifier Item_Fat_Content              Item_Type  \\\n",
       "count             8523             8523                   8523   \n",
       "unique            1559                5                     16   \n",
       "top              FDW13          Low Fat  Fruits and Vegetables   \n",
       "freq                10             5089                   1232   \n",
       "\n",
       "       Outlet_Identifier Outlet_Size Outlet_Location_Type        Outlet_Type  \n",
       "count               8523        6113                 8523               8523  \n",
       "unique                10           3                    3                  4  \n",
       "top               OUT027      Medium               Tier 3  Supermarket Type1  \n",
       "freq                 935        2793                 3350               5577  "
      ]
     },
     "execution_count": 126,
     "metadata": {},
     "output_type": "execute_result"
    }
   ],
   "source": [
    "# Display the descriptive statistics for the numeric columns\n",
    "df.describe(exclude=\"number\") "
   ]
  },
  {
   "cell_type": "markdown",
   "id": "5a9ec60f-72ff-4e47-af5b-789cc4ce911c",
   "metadata": {},
   "source": [
    "we might consider removing the column item identifier from the model as it will generate high cardianality"
   ]
  },
  {
   "cell_type": "markdown",
   "id": "f9496862-16bf-47dc-b56d-d8ac661ea2fe",
   "metadata": {
    "tags": []
   },
   "source": [
    "# Clean the data"
   ]
  },
  {
   "cell_type": "markdown",
   "id": "1d034359-d276-418e-b75f-13b40b3bca92",
   "metadata": {},
   "source": [
    "## Address unnecesary columns"
   ]
  },
  {
   "cell_type": "markdown",
   "id": "5d3e00db-8f23-47e6-86bd-d5bb9ed0f9fd",
   "metadata": {},
   "source": [
    "no columns need to be removed based on the requirements of this project"
   ]
  },
  {
   "cell_type": "markdown",
   "id": "3851d097-22d3-4e8d-bd03-3c4d0023ad79",
   "metadata": {
    "tags": []
   },
   "source": [
    "## Address unnesessary rows"
   ]
  },
  {
   "cell_type": "markdown",
   "id": "00a7bc02-1c36-45ef-8789-a6873e2eef55",
   "metadata": {
    "jp-MarkdownHeadingCollapsed": true,
    "tags": []
   },
   "source": [
    "### Duplicates"
   ]
  },
  {
   "cell_type": "code",
   "execution_count": 127,
   "id": "77d5428d-c53e-4aea-8571-448c16377e79",
   "metadata": {},
   "outputs": [
    {
     "name": "stdout",
     "output_type": "stream",
     "text": [
      "\u001b[1mTotal number of rows in dataframe: \u001b[91m8523\u001b[0m\u001b[0m\n",
      "\u001b[1mTotal duplicate row values: \u001b[91m0 which is 0.0% of total rows \u001b[0m\u001b[0m\n",
      "\u001b[1mTotal duplicate rows: \u001b[91m0\u001b[0m\u001b[0m\n",
      "\n",
      "\n",
      "\u001b[1mTotal number of columns in dataframe: \u001b[91m12\u001b[0m\u001b[0m\n",
      "\u001b[1mTotal duplicate columns: \u001b[91m0\u001b[0m\n"
     ]
    }
   ],
   "source": [
    "overall_dup (df)"
   ]
  },
  {
   "cell_type": "markdown",
   "id": "77d0be30-6a7c-483d-810b-951c5fab24c3",
   "metadata": {},
   "source": [
    "There are no duplicates"
   ]
  },
  {
   "cell_type": "markdown",
   "id": "fb307218-5299-49b0-a70a-491ff145a944",
   "metadata": {
    "jp-MarkdownHeadingCollapsed": true,
    "tags": []
   },
   "source": [
    "### Bad data values: Numerical Data"
   ]
  },
  {
   "cell_type": "code",
   "execution_count": 128,
   "id": "c1fa05a7-f077-4295-a2b2-a0c34fe82bac",
   "metadata": {},
   "outputs": [
    {
     "data": {
      "text/plain": [
       "NaN      1463\n",
       "4.555       4\n",
       "4.590       5\n",
       "4.610       7\n",
       "4.615       4\n",
       "Name: Item_Weight, dtype: int64"
      ]
     },
     "execution_count": 128,
     "metadata": {},
     "output_type": "execute_result"
    }
   ],
   "source": [
    "# this will check for weird values\n",
    "col_miss = ['Item_Weight']\n",
    "for i_col in col_miss:\n",
    "    for j in df[i_col].unique():\n",
    "        try:\n",
    "            str(j)\n",
    "        except ValueError:\n",
    "            print(f\"{i_col}: {j}\")\n",
    "            \n",
    "df['Item_Weight'].value_counts(dropna=False).sort_index(ascending=True, na_position='first').head()"
   ]
  },
  {
   "cell_type": "markdown",
   "id": "27e3ac33-5c26-40f4-905c-806debe5f64d",
   "metadata": {},
   "source": [
    "No bad data in this column except missing values"
   ]
  },
  {
   "cell_type": "code",
   "execution_count": 129,
   "id": "35f2743c-6c9f-49b9-9036-370ec9493099",
   "metadata": {},
   "outputs": [
    {
     "data": {
      "text/plain": [
       "0.000000    526\n",
       "0.003575      1\n",
       "0.003589      1\n",
       "0.003598      1\n",
       "0.003599      1\n",
       "Name: Item_Visibility, dtype: int64"
      ]
     },
     "execution_count": 129,
     "metadata": {},
     "output_type": "execute_result"
    }
   ],
   "source": [
    "# this will check for weird values\n",
    "col_miss = ['Item_Visibility']\n",
    "for i_col in col_miss:\n",
    "    for j in df[i_col].unique():\n",
    "        try:\n",
    "            str(j)\n",
    "        except ValueError:\n",
    "            print(f\"{i_col}: {j}\")\n",
    "\n",
    "df['Item_Visibility'].value_counts(dropna=False).sort_index(ascending=True, na_position='first').head()"
   ]
  },
  {
   "cell_type": "markdown",
   "id": "c11497d2-3970-4321-a467-054bb9689706",
   "metadata": {},
   "source": [
    "No bad data in this column"
   ]
  },
  {
   "cell_type": "code",
   "execution_count": 130,
   "id": "4c0b649d-0b60-4cb4-844c-29dae4eacf2f",
   "metadata": {},
   "outputs": [
    {
     "data": {
      "text/plain": [
       "0.000    526\n",
       "0.004      6\n",
       "0.005     11\n",
       "0.006     34\n",
       "0.007     40\n",
       "Name: Item_Visibility, dtype: int64"
      ]
     },
     "execution_count": 130,
     "metadata": {},
     "output_type": "execute_result"
    }
   ],
   "source": [
    "# trimming the decimal places to 3 digits\n",
    "df['Item_Visibility'] = round (df['Item_Visibility'],3)\n",
    "df['Item_Visibility'].value_counts(dropna=False).sort_index(ascending=True, na_position='first').head()"
   ]
  },
  {
   "cell_type": "code",
   "execution_count": 131,
   "id": "a4456a07-ca94-44e9-b484-c78202bf9721",
   "metadata": {},
   "outputs": [
    {
     "data": {
      "text/plain": [
       "31.2900    1\n",
       "31.4900    1\n",
       "31.8900    1\n",
       "31.9558    2\n",
       "32.0558    1\n",
       "Name: Item_MRP, dtype: int64"
      ]
     },
     "execution_count": 131,
     "metadata": {},
     "output_type": "execute_result"
    }
   ],
   "source": [
    "# this will check for weird values\n",
    "col_miss = ['Item_MRP']\n",
    "for i_col in col_miss:\n",
    "    for j in df[i_col].unique():\n",
    "        try:\n",
    "            str(j)\n",
    "        except ValueError:\n",
    "            print(f\"{i_col}: {j}\")\n",
    "            \n",
    "df['Item_MRP'].value_counts(dropna=False).sort_index(ascending=True, na_position='first').head()"
   ]
  },
  {
   "cell_type": "markdown",
   "id": "0ea97487-0dd2-4f4b-932a-61f1dca91c67",
   "metadata": {},
   "source": [
    "No bad data in this column"
   ]
  },
  {
   "cell_type": "code",
   "execution_count": 132,
   "id": "de1cd79a-f692-4df4-9dd8-437856b9beb6",
   "metadata": {},
   "outputs": [
    {
     "data": {
      "text/plain": [
       "31.290    1\n",
       "31.490    1\n",
       "31.890    1\n",
       "31.956    2\n",
       "32.056    1\n",
       "Name: Item_MRP, dtype: int64"
      ]
     },
     "execution_count": 132,
     "metadata": {},
     "output_type": "execute_result"
    }
   ],
   "source": [
    "# trimming the decimal places to 3 digits\n",
    "df['Item_MRP'] = round (df['Item_MRP'],3)\n",
    "df['Item_MRP'].value_counts(dropna=False).sort_index(ascending=True, na_position='first').head()"
   ]
  },
  {
   "cell_type": "code",
   "execution_count": 133,
   "id": "cd6dc543-b764-4c3c-84b1-6fdd83b2e573",
   "metadata": {},
   "outputs": [
    {
     "data": {
      "text/plain": [
       "1985    1463\n",
       "1987     932\n",
       "1997     930\n",
       "1998     555\n",
       "1999     930\n",
       "Name: Outlet_Establishment_Year, dtype: int64"
      ]
     },
     "execution_count": 133,
     "metadata": {},
     "output_type": "execute_result"
    }
   ],
   "source": [
    "# this will check for weird values\n",
    "col_miss = ['Outlet_Establishment_Year']\n",
    "for i_col in col_miss:\n",
    "    for j in df[i_col].unique():\n",
    "        try:\n",
    "            str(j)\n",
    "        except ValueError:\n",
    "            print(f\"{i_col}: {j}\")\n",
    "            \n",
    "df['Outlet_Establishment_Year'].value_counts(dropna=False).sort_index(ascending=True, na_position='first').head()"
   ]
  },
  {
   "cell_type": "markdown",
   "id": "05a57984-7b23-4130-92c3-55795c02fe8d",
   "metadata": {},
   "source": [
    "No bad data in this column"
   ]
  },
  {
   "cell_type": "code",
   "execution_count": 134,
   "id": "dbed4638-165f-493e-94f2-3b90827d8644",
   "metadata": {},
   "outputs": [
    {
     "data": {
      "text/plain": [
       "33.2900    2\n",
       "33.9558    1\n",
       "34.6216    1\n",
       "35.2874    1\n",
       "36.6190    2\n",
       "Name: Item_Outlet_Sales, dtype: int64"
      ]
     },
     "execution_count": 134,
     "metadata": {},
     "output_type": "execute_result"
    }
   ],
   "source": [
    "# this will check for weird values\n",
    "col_miss = ['Item_Outlet_Sales']\n",
    "for i_col in col_miss:\n",
    "    for j in df[i_col].unique():\n",
    "        try:\n",
    "            str(j)\n",
    "        except ValueError:\n",
    "            print(f\"{i_col}: {j}\")\n",
    "\n",
    "df['Item_Outlet_Sales'].value_counts(dropna=False).sort_index(ascending=True, na_position='first').head()"
   ]
  },
  {
   "cell_type": "markdown",
   "id": "862b58d2-ca8a-460b-9a27-acb3f28191b7",
   "metadata": {},
   "source": [
    "No bad data in this column"
   ]
  },
  {
   "cell_type": "code",
   "execution_count": 135,
   "id": "16c1cc0c-806a-440b-9f47-ecd9e01aa1f8",
   "metadata": {},
   "outputs": [
    {
     "data": {
      "text/plain": [
       "33.290    2\n",
       "33.956    1\n",
       "34.622    1\n",
       "35.287    1\n",
       "36.619    2\n",
       "Name: Item_Outlet_Sales, dtype: int64"
      ]
     },
     "execution_count": 135,
     "metadata": {},
     "output_type": "execute_result"
    }
   ],
   "source": [
    "# trimming the decimal places to 3 digits\n",
    "df['Item_Outlet_Sales'] = round (df['Item_Outlet_Sales'],3)\n",
    "df['Item_Outlet_Sales'].value_counts(dropna=False).sort_index(ascending=True, na_position='first').head()"
   ]
  },
  {
   "cell_type": "markdown",
   "id": "ccd527c9-5910-4501-be38-fc01754291ae",
   "metadata": {
    "tags": []
   },
   "source": [
    "### Bad data values: Categorical Data"
   ]
  },
  {
   "cell_type": "code",
   "execution_count": 136,
   "id": "7a1ce8b5-249e-402f-80fe-913973b01607",
   "metadata": {},
   "outputs": [
    {
     "data": {
      "text/plain": [
       "DRA12    6\n",
       "DRA24    7\n",
       "DRA59    8\n",
       "DRB01    3\n",
       "DRB13    5\n",
       "DRB24    4\n",
       "DRB25    6\n",
       "DRB48    7\n",
       "DRC01    6\n",
       "DRC12    4\n",
       "Name: Item_Identifier, dtype: int64"
      ]
     },
     "execution_count": 136,
     "metadata": {},
     "output_type": "execute_result"
    }
   ],
   "source": [
    "# this will help see all the values \n",
    "df['Item_Identifier'].value_counts(dropna=False).sort_index(ascending=True, na_position='first').head(10)"
   ]
  },
  {
   "cell_type": "code",
   "execution_count": 137,
   "id": "7659543d-81f0-4e39-8a0f-0ae84fc2c7e3",
   "metadata": {},
   "outputs": [
    {
     "data": {
      "text/plain": [
       "NCZ05    3\n",
       "NCZ06    7\n",
       "NCZ17    6\n",
       "NCZ18    7\n",
       "NCZ29    4\n",
       "NCZ30    7\n",
       "NCZ41    5\n",
       "NCZ42    5\n",
       "NCZ53    5\n",
       "NCZ54    7\n",
       "Name: Item_Identifier, dtype: int64"
      ]
     },
     "execution_count": 137,
     "metadata": {},
     "output_type": "execute_result"
    }
   ],
   "source": [
    "df['Item_Identifier'].value_counts(dropna=False).sort_index(ascending=True, na_position='first').tail(10)"
   ]
  },
  {
   "cell_type": "markdown",
   "id": "79ae90d7-5fa5-452c-964a-15fca4564a88",
   "metadata": {},
   "source": [
    "No bad data in this column "
   ]
  },
  {
   "cell_type": "code",
   "execution_count": 138,
   "id": "89ae33f9-6e6c-4ad6-b365-280f2fad0cf7",
   "metadata": {},
   "outputs": [
    {
     "data": {
      "text/plain": [
       "LF          316\n",
       "Low Fat    5089\n",
       "Regular    2889\n",
       "low fat     112\n",
       "reg         117\n",
       "Name: Item_Fat_Content, dtype: int64"
      ]
     },
     "execution_count": 138,
     "metadata": {},
     "output_type": "execute_result"
    }
   ],
   "source": [
    "# this will help see all the values \n",
    "df['Item_Fat_Content'].value_counts(dropna=False).sort_index(ascending=True, na_position='first').head(10)"
   ]
  },
  {
   "cell_type": "markdown",
   "id": "d2f25078-f4fa-4984-bb58-da6d4a610623",
   "metadata": {},
   "source": [
    "Some bad values need to be addressed"
   ]
  },
  {
   "cell_type": "code",
   "execution_count": 139,
   "id": "5a9cfc5c-04cf-45f9-aa04-bb50663a7265",
   "metadata": {},
   "outputs": [
    {
     "data": {
      "text/plain": [
       "Regular    3006\n",
       "Low Fat    5517\n",
       "Name: Item_Fat_Content, dtype: int64"
      ]
     },
     "execution_count": 139,
     "metadata": {},
     "output_type": "execute_result"
    }
   ],
   "source": [
    "# fixing bad values\n",
    "df['Item_Fat_Content'] = df['Item_Fat_Content'].replace(['low fat', 'LF', 'reg'], ['Low Fat', 'Low Fat', 'Regular'])\n",
    "df['Item_Fat_Content'].value_counts(dropna=False, ascending=True)"
   ]
  },
  {
   "cell_type": "code",
   "execution_count": 140,
   "id": "0d0a5d50-5f6d-4b4b-9a84-263bda1061ea",
   "metadata": {},
   "outputs": [
    {
     "data": {
      "text/plain": [
       "Low Fat    5517\n",
       "Regular    3006\n",
       "Name: Item_Fat_Content, dtype: int64"
      ]
     },
     "execution_count": 140,
     "metadata": {},
     "output_type": "execute_result"
    }
   ],
   "source": [
    "# QA\n",
    "df['Item_Fat_Content'].value_counts(dropna=False).sort_index(ascending=True, na_position='first').head(10)"
   ]
  },
  {
   "cell_type": "code",
   "execution_count": 141,
   "id": "2cd41800-cde3-4c8e-9e0f-adc7c2e1b931",
   "metadata": {},
   "outputs": [
    {
     "data": {
      "text/plain": [
       "Baking Goods              648\n",
       "Breads                    251\n",
       "Breakfast                 110\n",
       "Canned                    649\n",
       "Dairy                     682\n",
       "Frozen Foods              856\n",
       "Fruits and Vegetables    1232\n",
       "Hard Drinks               214\n",
       "Health and Hygiene        520\n",
       "Household                 910\n",
       "Name: Item_Type, dtype: int64"
      ]
     },
     "execution_count": 141,
     "metadata": {},
     "output_type": "execute_result"
    }
   ],
   "source": [
    "# this will help see all the values \n",
    "df['Item_Type'].value_counts(dropna=False).sort_index(ascending=True, na_position='first').head(10)"
   ]
  },
  {
   "cell_type": "markdown",
   "id": "b1d80f8a-60e0-4839-ba03-57f8593a8bd2",
   "metadata": {},
   "source": [
    "No bad data in this column"
   ]
  },
  {
   "cell_type": "code",
   "execution_count": 142,
   "id": "38be3d39-2ef8-4574-bf63-6f87e60233bb",
   "metadata": {},
   "outputs": [
    {
     "data": {
      "text/plain": [
       "OUT010    555\n",
       "OUT013    932\n",
       "OUT017    926\n",
       "OUT018    928\n",
       "OUT019    528\n",
       "OUT027    935\n",
       "OUT035    930\n",
       "OUT045    929\n",
       "OUT046    930\n",
       "OUT049    930\n",
       "Name: Outlet_Identifier, dtype: int64"
      ]
     },
     "execution_count": 142,
     "metadata": {},
     "output_type": "execute_result"
    }
   ],
   "source": [
    "# this will help see all the values \n",
    "df['Outlet_Identifier'].value_counts(dropna=False).sort_index(ascending=True, na_position='first').head(10)"
   ]
  },
  {
   "cell_type": "markdown",
   "id": "4c07dca8-4923-47ca-8186-17912ec316f1",
   "metadata": {},
   "source": [
    "No bad data in this column"
   ]
  },
  {
   "cell_type": "code",
   "execution_count": 143,
   "id": "36ff0078-720a-4375-86d2-277678e6f4b8",
   "metadata": {},
   "outputs": [
    {
     "data": {
      "text/plain": [
       "NaN       2410\n",
       "High       932\n",
       "Medium    2793\n",
       "Small     2388\n",
       "Name: Outlet_Size, dtype: int64"
      ]
     },
     "execution_count": 143,
     "metadata": {},
     "output_type": "execute_result"
    }
   ],
   "source": [
    "# this will help see all the values \n",
    "df['Outlet_Size'].value_counts(dropna=False).sort_index(ascending=True, na_position='first').head(10)"
   ]
  },
  {
   "cell_type": "markdown",
   "id": "77be04df-16bf-4ccb-bcb4-136a10e021f3",
   "metadata": {},
   "source": [
    "There are 2410 missing values in this column "
   ]
  },
  {
   "cell_type": "code",
   "execution_count": 144,
   "id": "e5ec444b-9b8d-4bbe-b237-7ae3d6d9c0c4",
   "metadata": {},
   "outputs": [
    {
     "data": {
      "text/plain": [
       "Tier 1    2388\n",
       "Tier 2    2785\n",
       "Tier 3    3350\n",
       "Name: Outlet_Location_Type, dtype: int64"
      ]
     },
     "execution_count": 144,
     "metadata": {},
     "output_type": "execute_result"
    }
   ],
   "source": [
    "# this will help see all the values \n",
    "df['Outlet_Location_Type'].value_counts(dropna=False).sort_index(ascending=True, na_position='first').head(10)"
   ]
  },
  {
   "cell_type": "markdown",
   "id": "0e2fbb12-cc3a-4479-b8ed-cb7cb5b84300",
   "metadata": {},
   "source": [
    "No bad data in this column "
   ]
  },
  {
   "cell_type": "code",
   "execution_count": 145,
   "id": "b9d149bf-5ec3-4366-8549-43872ea1bffe",
   "metadata": {},
   "outputs": [
    {
     "data": {
      "text/plain": [
       "Grocery Store        1083\n",
       "Supermarket Type1    5577\n",
       "Supermarket Type2     928\n",
       "Supermarket Type3     935\n",
       "Name: Outlet_Type, dtype: int64"
      ]
     },
     "execution_count": 145,
     "metadata": {},
     "output_type": "execute_result"
    }
   ],
   "source": [
    "# this will help see all the values \n",
    "df['Outlet_Type'].value_counts(dropna=False).sort_index(ascending=True, na_position='first').head(10)"
   ]
  },
  {
   "cell_type": "markdown",
   "id": "3481dd00-e90a-4cef-aefd-f207e02d7053",
   "metadata": {},
   "source": [
    "No bad data in this column "
   ]
  },
  {
   "cell_type": "markdown",
   "id": "9b522a60-d1b1-4b10-bde3-ad514f8941f9",
   "metadata": {
    "jp-MarkdownHeadingCollapsed": true,
    "tags": []
   },
   "source": [
    "# Identify Missing Values"
   ]
  },
  {
   "cell_type": "code",
   "execution_count": 146,
   "id": "71365da1-3168-4d59-a9d5-f5d15b68ea1f",
   "metadata": {},
   "outputs": [
    {
     "data": {
      "text/html": [
       "<style type=\"text/css\">\n",
       "</style>\n",
       "<table id=\"T_6e919\">\n",
       "  <thead>\n",
       "    <tr>\n",
       "      <th class=\"blank level0\" >&nbsp;</th>\n",
       "      <th id=\"T_6e919_level0_col0\" class=\"col_heading level0 col0\" >Total Rows</th>\n",
       "      <th id=\"T_6e919_level0_col1\" class=\"col_heading level0 col1\" >Total Unique Counts</th>\n",
       "      <th id=\"T_6e919_level0_col2\" class=\"col_heading level0 col2\" >Has Missing Values</th>\n",
       "      <th id=\"T_6e919_level0_col3\" class=\"col_heading level0 col3\" >Missing Value Counts</th>\n",
       "      <th id=\"T_6e919_level0_col4\" class=\"col_heading level0 col4\" >Missing Value Percentage</th>\n",
       "    </tr>\n",
       "  </thead>\n",
       "  <tbody>\n",
       "    <tr>\n",
       "      <th id=\"T_6e919_level0_row0\" class=\"row_heading level0 row0\" >Outlet_Size</th>\n",
       "      <td id=\"T_6e919_row0_col0\" class=\"data row0 col0\" >8523</td>\n",
       "      <td id=\"T_6e919_row0_col1\" class=\"data row0 col1\" >4</td>\n",
       "      <td id=\"T_6e919_row0_col2\" class=\"data row0 col2\" >True</td>\n",
       "      <td id=\"T_6e919_row0_col3\" class=\"data row0 col3\" >2410</td>\n",
       "      <td id=\"T_6e919_row0_col4\" class=\"data row0 col4\" >0.2828%</td>\n",
       "    </tr>\n",
       "    <tr>\n",
       "      <th id=\"T_6e919_level0_row1\" class=\"row_heading level0 row1\" >Item_Weight</th>\n",
       "      <td id=\"T_6e919_row1_col0\" class=\"data row1 col0\" >8523</td>\n",
       "      <td id=\"T_6e919_row1_col1\" class=\"data row1 col1\" >416</td>\n",
       "      <td id=\"T_6e919_row1_col2\" class=\"data row1 col2\" >True</td>\n",
       "      <td id=\"T_6e919_row1_col3\" class=\"data row1 col3\" >1463</td>\n",
       "      <td id=\"T_6e919_row1_col4\" class=\"data row1 col4\" >0.1717%</td>\n",
       "    </tr>\n",
       "    <tr>\n",
       "      <th id=\"T_6e919_level0_row2\" class=\"row_heading level0 row2\" >Item_Identifier</th>\n",
       "      <td id=\"T_6e919_row2_col0\" class=\"data row2 col0\" >8523</td>\n",
       "      <td id=\"T_6e919_row2_col1\" class=\"data row2 col1\" >1559</td>\n",
       "      <td id=\"T_6e919_row2_col2\" class=\"data row2 col2\" >False</td>\n",
       "      <td id=\"T_6e919_row2_col3\" class=\"data row2 col3\" >0</td>\n",
       "      <td id=\"T_6e919_row2_col4\" class=\"data row2 col4\" >0.0000%</td>\n",
       "    </tr>\n",
       "    <tr>\n",
       "      <th id=\"T_6e919_level0_row3\" class=\"row_heading level0 row3\" >Item_Fat_Content</th>\n",
       "      <td id=\"T_6e919_row3_col0\" class=\"data row3 col0\" >8523</td>\n",
       "      <td id=\"T_6e919_row3_col1\" class=\"data row3 col1\" >2</td>\n",
       "      <td id=\"T_6e919_row3_col2\" class=\"data row3 col2\" >False</td>\n",
       "      <td id=\"T_6e919_row3_col3\" class=\"data row3 col3\" >0</td>\n",
       "      <td id=\"T_6e919_row3_col4\" class=\"data row3 col4\" >0.0000%</td>\n",
       "    </tr>\n",
       "    <tr>\n",
       "      <th id=\"T_6e919_level0_row4\" class=\"row_heading level0 row4\" >Item_Visibility</th>\n",
       "      <td id=\"T_6e919_row4_col0\" class=\"data row4 col0\" >8523</td>\n",
       "      <td id=\"T_6e919_row4_col1\" class=\"data row4 col1\" >274</td>\n",
       "      <td id=\"T_6e919_row4_col2\" class=\"data row4 col2\" >False</td>\n",
       "      <td id=\"T_6e919_row4_col3\" class=\"data row4 col3\" >0</td>\n",
       "      <td id=\"T_6e919_row4_col4\" class=\"data row4 col4\" >0.0000%</td>\n",
       "    </tr>\n",
       "    <tr>\n",
       "      <th id=\"T_6e919_level0_row5\" class=\"row_heading level0 row5\" >Item_Type</th>\n",
       "      <td id=\"T_6e919_row5_col0\" class=\"data row5 col0\" >8523</td>\n",
       "      <td id=\"T_6e919_row5_col1\" class=\"data row5 col1\" >16</td>\n",
       "      <td id=\"T_6e919_row5_col2\" class=\"data row5 col2\" >False</td>\n",
       "      <td id=\"T_6e919_row5_col3\" class=\"data row5 col3\" >0</td>\n",
       "      <td id=\"T_6e919_row5_col4\" class=\"data row5 col4\" >0.0000%</td>\n",
       "    </tr>\n",
       "    <tr>\n",
       "      <th id=\"T_6e919_level0_row6\" class=\"row_heading level0 row6\" >Item_MRP</th>\n",
       "      <td id=\"T_6e919_row6_col0\" class=\"data row6 col0\" >8523</td>\n",
       "      <td id=\"T_6e919_row6_col1\" class=\"data row6 col1\" >5938</td>\n",
       "      <td id=\"T_6e919_row6_col2\" class=\"data row6 col2\" >False</td>\n",
       "      <td id=\"T_6e919_row6_col3\" class=\"data row6 col3\" >0</td>\n",
       "      <td id=\"T_6e919_row6_col4\" class=\"data row6 col4\" >0.0000%</td>\n",
       "    </tr>\n",
       "    <tr>\n",
       "      <th id=\"T_6e919_level0_row7\" class=\"row_heading level0 row7\" >Outlet_Identifier</th>\n",
       "      <td id=\"T_6e919_row7_col0\" class=\"data row7 col0\" >8523</td>\n",
       "      <td id=\"T_6e919_row7_col1\" class=\"data row7 col1\" >10</td>\n",
       "      <td id=\"T_6e919_row7_col2\" class=\"data row7 col2\" >False</td>\n",
       "      <td id=\"T_6e919_row7_col3\" class=\"data row7 col3\" >0</td>\n",
       "      <td id=\"T_6e919_row7_col4\" class=\"data row7 col4\" >0.0000%</td>\n",
       "    </tr>\n",
       "    <tr>\n",
       "      <th id=\"T_6e919_level0_row8\" class=\"row_heading level0 row8\" >Outlet_Establishment_Year</th>\n",
       "      <td id=\"T_6e919_row8_col0\" class=\"data row8 col0\" >8523</td>\n",
       "      <td id=\"T_6e919_row8_col1\" class=\"data row8 col1\" >9</td>\n",
       "      <td id=\"T_6e919_row8_col2\" class=\"data row8 col2\" >False</td>\n",
       "      <td id=\"T_6e919_row8_col3\" class=\"data row8 col3\" >0</td>\n",
       "      <td id=\"T_6e919_row8_col4\" class=\"data row8 col4\" >0.0000%</td>\n",
       "    </tr>\n",
       "    <tr>\n",
       "      <th id=\"T_6e919_level0_row9\" class=\"row_heading level0 row9\" >Outlet_Location_Type</th>\n",
       "      <td id=\"T_6e919_row9_col0\" class=\"data row9 col0\" >8523</td>\n",
       "      <td id=\"T_6e919_row9_col1\" class=\"data row9 col1\" >3</td>\n",
       "      <td id=\"T_6e919_row9_col2\" class=\"data row9 col2\" >False</td>\n",
       "      <td id=\"T_6e919_row9_col3\" class=\"data row9 col3\" >0</td>\n",
       "      <td id=\"T_6e919_row9_col4\" class=\"data row9 col4\" >0.0000%</td>\n",
       "    </tr>\n",
       "    <tr>\n",
       "      <th id=\"T_6e919_level0_row10\" class=\"row_heading level0 row10\" >Outlet_Type</th>\n",
       "      <td id=\"T_6e919_row10_col0\" class=\"data row10 col0\" >8523</td>\n",
       "      <td id=\"T_6e919_row10_col1\" class=\"data row10 col1\" >4</td>\n",
       "      <td id=\"T_6e919_row10_col2\" class=\"data row10 col2\" >False</td>\n",
       "      <td id=\"T_6e919_row10_col3\" class=\"data row10 col3\" >0</td>\n",
       "      <td id=\"T_6e919_row10_col4\" class=\"data row10 col4\" >0.0000%</td>\n",
       "    </tr>\n",
       "    <tr>\n",
       "      <th id=\"T_6e919_level0_row11\" class=\"row_heading level0 row11\" >Item_Outlet_Sales</th>\n",
       "      <td id=\"T_6e919_row11_col0\" class=\"data row11 col0\" >8523</td>\n",
       "      <td id=\"T_6e919_row11_col1\" class=\"data row11 col1\" >3493</td>\n",
       "      <td id=\"T_6e919_row11_col2\" class=\"data row11 col2\" >False</td>\n",
       "      <td id=\"T_6e919_row11_col3\" class=\"data row11 col3\" >0</td>\n",
       "      <td id=\"T_6e919_row11_col4\" class=\"data row11 col4\" >0.0000%</td>\n",
       "    </tr>\n",
       "  </tbody>\n",
       "</table>\n"
      ],
      "text/plain": [
       "<pandas.io.formats.style.Styler at 0x2024310aa00>"
      ]
     },
     "execution_count": 146,
     "metadata": {},
     "output_type": "execute_result"
    }
   ],
   "source": [
    "# checking missing values with user defined function\n",
    "missing_values (df)"
   ]
  },
  {
   "cell_type": "code",
   "execution_count": 147,
   "id": "578a77c4-564d-444c-aaed-7b42821db1f0",
   "metadata": {},
   "outputs": [
    {
     "data": {
      "image/png": "[encoded data removed]",
      "text/plain": [
       "<Figure size 640x480 with 1 Axes>"
      ]
     },
     "metadata": {},
     "output_type": "display_data"
    }
   ],
   "source": [
    "with plt.style.context(\"fivethirtyeight\"):\n",
    "    df.isnull().mean().sort_values(ascending=True).plot.barh()\n",
    "    plt.ylabel(\"Proportion of missing data\")\n",
    "    plt.title(\"Proportion of missing data per variable\")\n",
    "    plt.show()"
   ]
  },
  {
   "cell_type": "markdown",
   "id": "09515462-28a3-4eda-988e-32da79daa18d",
   "metadata": {},
   "source": [
    "Outlet Size has 2410 missing values which is ~28% of the data <br>\n",
    "Item Weight has 1463 missing values which is ~17% of the data"
   ]
  },
  {
   "cell_type": "markdown",
   "id": "bfb8a4ad-aaba-48dd-9fae-f433553bc012",
   "metadata": {
    "jp-MarkdownHeadingCollapsed": true,
    "tags": []
   },
   "source": [
    "# Ordinal Encoding with non missing values"
   ]
  },
  {
   "cell_type": "code",
   "execution_count": 148,
   "id": "a2e8652f-31bd-4638-88eb-184af88a5893",
   "metadata": {},
   "outputs": [
    {
     "data": {
      "text/plain": [
       "0    5517\n",
       "1    3006\n",
       "Name: Item_Fat_Content, dtype: int64"
      ]
     },
     "execution_count": 148,
     "metadata": {},
     "output_type": "execute_result"
    }
   ],
   "source": [
    "df['Item_Fat_Content'].replace({'Low Fat':0, 'Regular':1}, inplace=True)\n",
    "df['Item_Fat_Content'].value_counts().sort_index().head()"
   ]
  },
  {
   "cell_type": "code",
   "execution_count": 149,
   "id": "e1dd4802-a49d-4b88-98d0-e1037d389d01",
   "metadata": {},
   "outputs": [
    {
     "data": {
      "text/plain": [
       "0    2388\n",
       "1    2785\n",
       "2    3350\n",
       "Name: Outlet_Location_Type, dtype: int64"
      ]
     },
     "execution_count": 149,
     "metadata": {},
     "output_type": "execute_result"
    }
   ],
   "source": [
    "df['Outlet_Location_Type'].replace({'Tier 1':0, 'Tier 2':1, 'Tier 3':2}, inplace=True)\n",
    "df['Outlet_Location_Type'].value_counts().sort_index().head()"
   ]
  },
  {
   "cell_type": "markdown",
   "id": "bc1b438a-af38-43db-ad9b-c89cd6705d3d",
   "metadata": {
    "jp-MarkdownHeadingCollapsed": true,
    "tags": []
   },
   "source": [
    "# Validation Split"
   ]
  },
  {
   "cell_type": "code",
   "execution_count": 150,
   "id": "318b0a7d-71df-4790-9417-f19e64bd830b",
   "metadata": {},
   "outputs": [
    {
     "data": {
      "text/html": [
       "<div>\n",
       "<style scoped>\n",
       "    .dataframe tbody tr th:only-of-type {\n",
       "        vertical-align: middle;\n",
       "    }\n",
       "\n",
       "    .dataframe tbody tr th {\n",
       "        vertical-align: top;\n",
       "    }\n",
       "\n",
       "    .dataframe thead th {\n",
       "        text-align: right;\n",
       "    }\n",
       "</style>\n",
       "<table border=\"1\" class=\"dataframe\">\n",
       "  <thead>\n",
       "    <tr style=\"text-align: right;\">\n",
       "      <th></th>\n",
       "      <th>Item_Weight</th>\n",
       "      <th>Item_Fat_Content</th>\n",
       "      <th>Item_Visibility</th>\n",
       "      <th>Item_Type</th>\n",
       "      <th>Item_MRP</th>\n",
       "      <th>Outlet_Identifier</th>\n",
       "      <th>Outlet_Establishment_Year</th>\n",
       "      <th>Outlet_Size</th>\n",
       "      <th>Outlet_Location_Type</th>\n",
       "      <th>Outlet_Type</th>\n",
       "    </tr>\n",
       "  </thead>\n",
       "  <tbody>\n",
       "    <tr>\n",
       "      <th>0</th>\n",
       "      <td>9.30</td>\n",
       "      <td>0</td>\n",
       "      <td>0.016</td>\n",
       "      <td>Dairy</td>\n",
       "      <td>249.809</td>\n",
       "      <td>OUT049</td>\n",
       "      <td>1999</td>\n",
       "      <td>Medium</td>\n",
       "      <td>0</td>\n",
       "      <td>Supermarket Type1</td>\n",
       "    </tr>\n",
       "    <tr>\n",
       "      <th>1</th>\n",
       "      <td>5.92</td>\n",
       "      <td>1</td>\n",
       "      <td>0.019</td>\n",
       "      <td>Soft Drinks</td>\n",
       "      <td>48.269</td>\n",
       "      <td>OUT018</td>\n",
       "      <td>2009</td>\n",
       "      <td>Medium</td>\n",
       "      <td>2</td>\n",
       "      <td>Supermarket Type2</td>\n",
       "    </tr>\n",
       "    <tr>\n",
       "      <th>2</th>\n",
       "      <td>17.50</td>\n",
       "      <td>0</td>\n",
       "      <td>0.017</td>\n",
       "      <td>Meat</td>\n",
       "      <td>141.618</td>\n",
       "      <td>OUT049</td>\n",
       "      <td>1999</td>\n",
       "      <td>Medium</td>\n",
       "      <td>0</td>\n",
       "      <td>Supermarket Type1</td>\n",
       "    </tr>\n",
       "    <tr>\n",
       "      <th>3</th>\n",
       "      <td>19.20</td>\n",
       "      <td>1</td>\n",
       "      <td>0.000</td>\n",
       "      <td>Fruits and Vegetables</td>\n",
       "      <td>182.095</td>\n",
       "      <td>OUT010</td>\n",
       "      <td>1998</td>\n",
       "      <td>NaN</td>\n",
       "      <td>2</td>\n",
       "      <td>Grocery Store</td>\n",
       "    </tr>\n",
       "    <tr>\n",
       "      <th>4</th>\n",
       "      <td>8.93</td>\n",
       "      <td>0</td>\n",
       "      <td>0.000</td>\n",
       "      <td>Household</td>\n",
       "      <td>53.861</td>\n",
       "      <td>OUT013</td>\n",
       "      <td>1987</td>\n",
       "      <td>High</td>\n",
       "      <td>2</td>\n",
       "      <td>Supermarket Type1</td>\n",
       "    </tr>\n",
       "  </tbody>\n",
       "</table>\n",
       "</div>"
      ],
      "text/plain": [
       "   Item_Weight  Item_Fat_Content  Item_Visibility              Item_Type  \\\n",
       "0         9.30                 0            0.016                  Dairy   \n",
       "1         5.92                 1            0.019            Soft Drinks   \n",
       "2        17.50                 0            0.017                   Meat   \n",
       "3        19.20                 1            0.000  Fruits and Vegetables   \n",
       "4         8.93                 0            0.000              Household   \n",
       "\n",
       "   Item_MRP Outlet_Identifier  Outlet_Establishment_Year Outlet_Size  \\\n",
       "0   249.809            OUT049                       1999      Medium   \n",
       "1    48.269            OUT018                       2009      Medium   \n",
       "2   141.618            OUT049                       1999      Medium   \n",
       "3   182.095            OUT010                       1998         NaN   \n",
       "4    53.861            OUT013                       1987        High   \n",
       "\n",
       "   Outlet_Location_Type        Outlet_Type  \n",
       "0                     0  Supermarket Type1  \n",
       "1                     2  Supermarket Type2  \n",
       "2                     0  Supermarket Type1  \n",
       "3                     2      Grocery Store  \n",
       "4                     2  Supermarket Type1  "
      ]
     },
     "execution_count": 150,
     "metadata": {},
     "output_type": "execute_result"
    }
   ],
   "source": [
    "# Split feature and target \n",
    "X = df.drop(['Item_Outlet_Sales', 'Item_Identifier'], axis = 1).copy()\n",
    "y = df['Item_Outlet_Sales']\n",
    "\n",
    "# QA the split\n",
    "X.head()"
   ]
  },
  {
   "cell_type": "code",
   "execution_count": 151,
   "id": "970cf3ef-af06-4319-932e-a8b318b9838c",
   "metadata": {},
   "outputs": [],
   "source": [
    "#Validation Split\n",
    "X_train, X_test, y_train, y_test = train_test_split(X, y, random_state=42)"
   ]
  },
  {
   "cell_type": "markdown",
   "id": "1545ce65-3412-47be-b553-1bf8855e3041",
   "metadata": {
    "tags": []
   },
   "source": [
    "# Prepare the data"
   ]
  },
  {
   "cell_type": "markdown",
   "id": "d82e127a-329d-4f55-b6a3-4f0ec97c1f7b",
   "metadata": {
    "jp-MarkdownHeadingCollapsed": true,
    "tags": []
   },
   "source": [
    "## Column Selector "
   ]
  },
  {
   "cell_type": "code",
   "execution_count": 152,
   "id": "1f5b22ea-48a8-4e09-8170-3b098ed1ae41",
   "metadata": {},
   "outputs": [],
   "source": [
    "# Instantiate the column selectors\n",
    "num_selector = make_column_selector(dtype_include='number')\n",
    "cat_selector = make_column_selector(dtype_include='object')"
   ]
  },
  {
   "cell_type": "code",
   "execution_count": 153,
   "id": "720d773b-2cd9-4f7f-a6be-d4bea95302ca",
   "metadata": {},
   "outputs": [
    {
     "data": {
      "text/plain": [
       "['Item_Weight',\n",
       " 'Item_Fat_Content',\n",
       " 'Item_Visibility',\n",
       " 'Item_MRP',\n",
       " 'Outlet_Establishment_Year',\n",
       " 'Outlet_Location_Type']"
      ]
     },
     "execution_count": 153,
     "metadata": {},
     "output_type": "execute_result"
    }
   ],
   "source": [
    "# QA\n",
    "num_selector(X_train)"
   ]
  },
  {
   "cell_type": "markdown",
   "id": "515cca4b-bf9b-4804-93e9-33317bfb760e",
   "metadata": {
    "jp-MarkdownHeadingCollapsed": true,
    "tags": []
   },
   "source": [
    "## Impute Missing Values"
   ]
  },
  {
   "cell_type": "code",
   "execution_count": 154,
   "id": "f311142f-e012-48cf-8e55-611836f4ed74",
   "metadata": {},
   "outputs": [],
   "source": [
    "# Imputers for missing values \n",
    "mean_imputer = SimpleImputer(strategy='mean')\n",
    "freq_imputer = SimpleImputer(strategy='most_frequent')"
   ]
  },
  {
   "cell_type": "code",
   "execution_count": 155,
   "id": "aa38a3bf-c2c9-4835-9bc7-d1733260dbe8",
   "metadata": {},
   "outputs": [
    {
     "data": {
      "text/plain": [
       "4.555    4\n",
       "4.590    5\n",
       "4.610    7\n",
       "4.615    4\n",
       "4.635    5\n",
       "4.785    5\n",
       "4.805    4\n",
       "4.880    5\n",
       "4.905    2\n",
       "4.920    5\n",
       "5.000    3\n",
       "5.030    4\n",
       "5.035    4\n",
       "5.095    5\n",
       "5.110    5\n",
       "dtype: int64"
      ]
     },
     "execution_count": 155,
     "metadata": {},
     "output_type": "execute_result"
    }
   ],
   "source": [
    "# checking the values of numeric columns with missing values \n",
    "test1 = pd.DataFrame(mean_imputer.fit_transform(df[['Item_Weight']]))\n",
    "test1.value_counts(dropna=False).sort_index(ascending=True, na_position='first').head(15)"
   ]
  },
  {
   "cell_type": "markdown",
   "id": "9399c98d-28fa-46a0-9749-a9d92705d280",
   "metadata": {},
   "source": [
    "missing value fixed"
   ]
  },
  {
   "cell_type": "code",
   "execution_count": 156,
   "id": "ae91de1d-83f4-4561-b8e3-ac7054f99376",
   "metadata": {},
   "outputs": [
    {
     "data": {
      "text/plain": [
       "High       932\n",
       "Medium    5203\n",
       "Small     2388\n",
       "dtype: int64"
      ]
     },
     "execution_count": 156,
     "metadata": {},
     "output_type": "execute_result"
    }
   ],
   "source": [
    "# checking the values of categorical columns with missing values \n",
    "test2 = pd.DataFrame(freq_imputer.fit_transform(df[['Outlet_Size']]))\n",
    "test2.value_counts(dropna=False).sort_index(ascending=True, na_position='first').head()"
   ]
  },
  {
   "cell_type": "markdown",
   "id": "04cf8aa9-f832-4bac-939f-90c2af246c70",
   "metadata": {},
   "source": [
    "missing value fixed"
   ]
  },
  {
   "cell_type": "markdown",
   "id": "89d57b0e-b90a-44eb-8c53-c9804ba802b5",
   "metadata": {
    "jp-MarkdownHeadingCollapsed": true,
    "tags": []
   },
   "source": [
    "## Transformers"
   ]
  },
  {
   "cell_type": "code",
   "execution_count": 157,
   "id": "92b76210-f973-491d-9df7-79c44d3d8709",
   "metadata": {},
   "outputs": [],
   "source": [
    "# Instantiate the transformers\n",
    "scaler = StandardScaler()\n",
    "ohe = OneHotEncoder(sparse=False, handle_unknown='ignore')"
   ]
  },
  {
   "cell_type": "markdown",
   "id": "cdb16ee2-a286-4c9b-b667-0434560bf571",
   "metadata": {
    "jp-MarkdownHeadingCollapsed": true,
    "tags": []
   },
   "source": [
    "## Instantiate Pipeline"
   ]
  },
  {
   "cell_type": "code",
   "execution_count": 158,
   "id": "87fa2138-c017-4f48-8b27-dafdc7b764bf",
   "metadata": {},
   "outputs": [
    {
     "data": {
      "text/html": [
       "<style>#sk-d40e4f60-c8a5-4f8f-93a5-7df86977b5f0 {color: black;background-color: white;}#sk-d40e4f60-c8a5-4f8f-93a5-7df86977b5f0 pre{padding: 0;}#sk-d40e4f60-c8a5-4f8f-93a5-7df86977b5f0 div.sk-toggleable {background-color: white;}#sk-d40e4f60-c8a5-4f8f-93a5-7df86977b5f0 label.sk-toggleable__label {cursor: pointer;display: block;width: 100%;margin-bottom: 0;padding: 0.3em;box-sizing: border-box;text-align: center;}#sk-d40e4f60-c8a5-4f8f-93a5-7df86977b5f0 label.sk-toggleable__label-arrow:before {content: \"▸\";float: left;margin-right: 0.25em;color: #696969;}#sk-d40e4f60-c8a5-4f8f-93a5-7df86977b5f0 label.sk-toggleable__label-arrow:hover:before {color: black;}#sk-d40e4f60-c8a5-4f8f-93a5-7df86977b5f0 div.sk-estimator:hover label.sk-toggleable__label-arrow:before {color: black;}#sk-d40e4f60-c8a5-4f8f-93a5-7df86977b5f0 div.sk-toggleable__content {max-height: 0;max-width: 0;overflow: hidden;text-align: left;background-color: #f0f8ff;}#sk-d40e4f60-c8a5-4f8f-93a5-7df86977b5f0 div.sk-toggleable__content pre {margin: 0.2em;color: black;border-radius: 0.25em;background-color: #f0f8ff;}#sk-d40e4f60-c8a5-4f8f-93a5-7df86977b5f0 input.sk-toggleable__control:checked~div.sk-toggleable__content {max-height: 200px;max-width: 100%;overflow: auto;}#sk-d40e4f60-c8a5-4f8f-93a5-7df86977b5f0 input.sk-toggleable__control:checked~label.sk-toggleable__label-arrow:before {content: \"▾\";}#sk-d40e4f60-c8a5-4f8f-93a5-7df86977b5f0 div.sk-estimator input.sk-toggleable__control:checked~label.sk-toggleable__label {background-color: #d4ebff;}#sk-d40e4f60-c8a5-4f8f-93a5-7df86977b5f0 div.sk-label input.sk-toggleable__control:checked~label.sk-toggleable__label {background-color: #d4ebff;}#sk-d40e4f60-c8a5-4f8f-93a5-7df86977b5f0 input.sk-hidden--visually {border: 0;clip: rect(1px 1px 1px 1px);clip: rect(1px, 1px, 1px, 1px);height: 1px;margin: -1px;overflow: hidden;padding: 0;position: absolute;width: 1px;}#sk-d40e4f60-c8a5-4f8f-93a5-7df86977b5f0 div.sk-estimator {font-family: monospace;background-color: #f0f8ff;border: 1px dotted black;border-radius: 0.25em;box-sizing: border-box;margin-bottom: 0.5em;}#sk-d40e4f60-c8a5-4f8f-93a5-7df86977b5f0 div.sk-estimator:hover {background-color: #d4ebff;}#sk-d40e4f60-c8a5-4f8f-93a5-7df86977b5f0 div.sk-parallel-item::after {content: \"\";width: 100%;border-bottom: 1px solid gray;flex-grow: 1;}#sk-d40e4f60-c8a5-4f8f-93a5-7df86977b5f0 div.sk-label:hover label.sk-toggleable__label {background-color: #d4ebff;}#sk-d40e4f60-c8a5-4f8f-93a5-7df86977b5f0 div.sk-serial::before {content: \"\";position: absolute;border-left: 1px solid gray;box-sizing: border-box;top: 2em;bottom: 0;left: 50%;}#sk-d40e4f60-c8a5-4f8f-93a5-7df86977b5f0 div.sk-serial {display: flex;flex-direction: column;align-items: center;background-color: white;padding-right: 0.2em;padding-left: 0.2em;}#sk-d40e4f60-c8a5-4f8f-93a5-7df86977b5f0 div.sk-item {z-index: 1;}#sk-d40e4f60-c8a5-4f8f-93a5-7df86977b5f0 div.sk-parallel {display: flex;align-items: stretch;justify-content: center;background-color: white;}#sk-d40e4f60-c8a5-4f8f-93a5-7df86977b5f0 div.sk-parallel::before {content: \"\";position: absolute;border-left: 1px solid gray;box-sizing: border-box;top: 2em;bottom: 0;left: 50%;}#sk-d40e4f60-c8a5-4f8f-93a5-7df86977b5f0 div.sk-parallel-item {display: flex;flex-direction: column;position: relative;background-color: white;}#sk-d40e4f60-c8a5-4f8f-93a5-7df86977b5f0 div.sk-parallel-item:first-child::after {align-self: flex-end;width: 50%;}#sk-d40e4f60-c8a5-4f8f-93a5-7df86977b5f0 div.sk-parallel-item:last-child::after {align-self: flex-start;width: 50%;}#sk-d40e4f60-c8a5-4f8f-93a5-7df86977b5f0 div.sk-parallel-item:only-child::after {width: 0;}#sk-d40e4f60-c8a5-4f8f-93a5-7df86977b5f0 div.sk-dashed-wrapped {border: 1px dashed gray;margin: 0 0.4em 0.5em 0.4em;box-sizing: border-box;padding-bottom: 0.4em;background-color: white;position: relative;}#sk-d40e4f60-c8a5-4f8f-93a5-7df86977b5f0 div.sk-label label {font-family: monospace;font-weight: bold;background-color: white;display: inline-block;line-height: 1.2em;}#sk-d40e4f60-c8a5-4f8f-93a5-7df86977b5f0 div.sk-label-container {position: relative;z-index: 2;text-align: center;}#sk-d40e4f60-c8a5-4f8f-93a5-7df86977b5f0 div.sk-container {/* jupyter's `normalize.less` sets `[hidden] { display: none; }` but bootstrap.min.css set `[hidden] { display: none !important; }` so we also need the `!important` here to be able to override the default hidden behavior on the sphinx rendered scikit-learn.org. See: https://github.com/scikit-learn/scikit-learn/issues/21755 */display: inline-block !important;position: relative;}#sk-d40e4f60-c8a5-4f8f-93a5-7df86977b5f0 div.sk-text-repr-fallback {display: none;}</style><div id=\"sk-d40e4f60-c8a5-4f8f-93a5-7df86977b5f0\" class=\"sk-top-container\"><div class=\"sk-text-repr-fallback\"><pre>Pipeline(steps=[(&#x27;simpleimputer&#x27;, SimpleImputer()),\n",
       "                (&#x27;standardscaler&#x27;, StandardScaler())])</pre><b>Please rerun this cell to show the HTML repr or trust the notebook.</b></div><div class=\"sk-container\" hidden><div class=\"sk-item sk-dashed-wrapped\"><div class=\"sk-label-container\"><div class=\"sk-label sk-toggleable\"><input class=\"sk-toggleable__control sk-hidden--visually\" id=\"68f217f3-bafd-4a16-9573-ba34294b5d4a\" type=\"checkbox\" ><label for=\"68f217f3-bafd-4a16-9573-ba34294b5d4a\" class=\"sk-toggleable__label sk-toggleable__label-arrow\">Pipeline</label><div class=\"sk-toggleable__content\"><pre>Pipeline(steps=[(&#x27;simpleimputer&#x27;, SimpleImputer()),\n",
       "                (&#x27;standardscaler&#x27;, StandardScaler())])</pre></div></div></div><div class=\"sk-serial\"><div class=\"sk-item\"><div class=\"sk-estimator sk-toggleable\"><input class=\"sk-toggleable__control sk-hidden--visually\" id=\"1b90487f-3ed0-4750-85ba-fe879eefa061\" type=\"checkbox\" ><label for=\"1b90487f-3ed0-4750-85ba-fe879eefa061\" class=\"sk-toggleable__label sk-toggleable__label-arrow\">SimpleImputer</label><div class=\"sk-toggleable__content\"><pre>SimpleImputer()</pre></div></div></div><div class=\"sk-item\"><div class=\"sk-estimator sk-toggleable\"><input class=\"sk-toggleable__control sk-hidden--visually\" id=\"88459f05-713c-483b-8e4b-3bd937da65ab\" type=\"checkbox\" ><label for=\"88459f05-713c-483b-8e4b-3bd937da65ab\" class=\"sk-toggleable__label sk-toggleable__label-arrow\">StandardScaler</label><div class=\"sk-toggleable__content\"><pre>StandardScaler()</pre></div></div></div></div></div></div></div>"
      ],
      "text/plain": [
       "Pipeline(steps=[('simpleimputer', SimpleImputer()),\n",
       "                ('standardscaler', StandardScaler())])"
      ]
     },
     "execution_count": 158,
     "metadata": {},
     "output_type": "execute_result"
    }
   ],
   "source": [
    "# Numeric pipeline\n",
    "numeric_pipe = make_pipeline(mean_imputer, scaler)\n",
    "numeric_pipe"
   ]
  },
  {
   "cell_type": "code",
   "execution_count": 159,
   "id": "3a2ccc4e-f41f-4a78-adf7-cd4f635e0352",
   "metadata": {},
   "outputs": [
    {
     "data": {
      "text/html": [
       "<style>#sk-045babce-20be-4f9d-820d-a1403f952241 {color: black;background-color: white;}#sk-045babce-20be-4f9d-820d-a1403f952241 pre{padding: 0;}#sk-045babce-20be-4f9d-820d-a1403f952241 div.sk-toggleable {background-color: white;}#sk-045babce-20be-4f9d-820d-a1403f952241 label.sk-toggleable__label {cursor: pointer;display: block;width: 100%;margin-bottom: 0;padding: 0.3em;box-sizing: border-box;text-align: center;}#sk-045babce-20be-4f9d-820d-a1403f952241 label.sk-toggleable__label-arrow:before {content: \"▸\";float: left;margin-right: 0.25em;color: #696969;}#sk-045babce-20be-4f9d-820d-a1403f952241 label.sk-toggleable__label-arrow:hover:before {color: black;}#sk-045babce-20be-4f9d-820d-a1403f952241 div.sk-estimator:hover label.sk-toggleable__label-arrow:before {color: black;}#sk-045babce-20be-4f9d-820d-a1403f952241 div.sk-toggleable__content {max-height: 0;max-width: 0;overflow: hidden;text-align: left;background-color: #f0f8ff;}#sk-045babce-20be-4f9d-820d-a1403f952241 div.sk-toggleable__content pre {margin: 0.2em;color: black;border-radius: 0.25em;background-color: #f0f8ff;}#sk-045babce-20be-4f9d-820d-a1403f952241 input.sk-toggleable__control:checked~div.sk-toggleable__content {max-height: 200px;max-width: 100%;overflow: auto;}#sk-045babce-20be-4f9d-820d-a1403f952241 input.sk-toggleable__control:checked~label.sk-toggleable__label-arrow:before {content: \"▾\";}#sk-045babce-20be-4f9d-820d-a1403f952241 div.sk-estimator input.sk-toggleable__control:checked~label.sk-toggleable__label {background-color: #d4ebff;}#sk-045babce-20be-4f9d-820d-a1403f952241 div.sk-label input.sk-toggleable__control:checked~label.sk-toggleable__label {background-color: #d4ebff;}#sk-045babce-20be-4f9d-820d-a1403f952241 input.sk-hidden--visually {border: 0;clip: rect(1px 1px 1px 1px);clip: rect(1px, 1px, 1px, 1px);height: 1px;margin: -1px;overflow: hidden;padding: 0;position: absolute;width: 1px;}#sk-045babce-20be-4f9d-820d-a1403f952241 div.sk-estimator {font-family: monospace;background-color: #f0f8ff;border: 1px dotted black;border-radius: 0.25em;box-sizing: border-box;margin-bottom: 0.5em;}#sk-045babce-20be-4f9d-820d-a1403f952241 div.sk-estimator:hover {background-color: #d4ebff;}#sk-045babce-20be-4f9d-820d-a1403f952241 div.sk-parallel-item::after {content: \"\";width: 100%;border-bottom: 1px solid gray;flex-grow: 1;}#sk-045babce-20be-4f9d-820d-a1403f952241 div.sk-label:hover label.sk-toggleable__label {background-color: #d4ebff;}#sk-045babce-20be-4f9d-820d-a1403f952241 div.sk-serial::before {content: \"\";position: absolute;border-left: 1px solid gray;box-sizing: border-box;top: 2em;bottom: 0;left: 50%;}#sk-045babce-20be-4f9d-820d-a1403f952241 div.sk-serial {display: flex;flex-direction: column;align-items: center;background-color: white;padding-right: 0.2em;padding-left: 0.2em;}#sk-045babce-20be-4f9d-820d-a1403f952241 div.sk-item {z-index: 1;}#sk-045babce-20be-4f9d-820d-a1403f952241 div.sk-parallel {display: flex;align-items: stretch;justify-content: center;background-color: white;}#sk-045babce-20be-4f9d-820d-a1403f952241 div.sk-parallel::before {content: \"\";position: absolute;border-left: 1px solid gray;box-sizing: border-box;top: 2em;bottom: 0;left: 50%;}#sk-045babce-20be-4f9d-820d-a1403f952241 div.sk-parallel-item {display: flex;flex-direction: column;position: relative;background-color: white;}#sk-045babce-20be-4f9d-820d-a1403f952241 div.sk-parallel-item:first-child::after {align-self: flex-end;width: 50%;}#sk-045babce-20be-4f9d-820d-a1403f952241 div.sk-parallel-item:last-child::after {align-self: flex-start;width: 50%;}#sk-045babce-20be-4f9d-820d-a1403f952241 div.sk-parallel-item:only-child::after {width: 0;}#sk-045babce-20be-4f9d-820d-a1403f952241 div.sk-dashed-wrapped {border: 1px dashed gray;margin: 0 0.4em 0.5em 0.4em;box-sizing: border-box;padding-bottom: 0.4em;background-color: white;position: relative;}#sk-045babce-20be-4f9d-820d-a1403f952241 div.sk-label label {font-family: monospace;font-weight: bold;background-color: white;display: inline-block;line-height: 1.2em;}#sk-045babce-20be-4f9d-820d-a1403f952241 div.sk-label-container {position: relative;z-index: 2;text-align: center;}#sk-045babce-20be-4f9d-820d-a1403f952241 div.sk-container {/* jupyter's `normalize.less` sets `[hidden] { display: none; }` but bootstrap.min.css set `[hidden] { display: none !important; }` so we also need the `!important` here to be able to override the default hidden behavior on the sphinx rendered scikit-learn.org. See: https://github.com/scikit-learn/scikit-learn/issues/21755 */display: inline-block !important;position: relative;}#sk-045babce-20be-4f9d-820d-a1403f952241 div.sk-text-repr-fallback {display: none;}</style><div id=\"sk-045babce-20be-4f9d-820d-a1403f952241\" class=\"sk-top-container\"><div class=\"sk-text-repr-fallback\"><pre>Pipeline(steps=[(&#x27;simpleimputer&#x27;, SimpleImputer(strategy=&#x27;most_frequent&#x27;)),\n",
       "                (&#x27;onehotencoder&#x27;,\n",
       "                 OneHotEncoder(handle_unknown=&#x27;ignore&#x27;, sparse=False))])</pre><b>Please rerun this cell to show the HTML repr or trust the notebook.</b></div><div class=\"sk-container\" hidden><div class=\"sk-item sk-dashed-wrapped\"><div class=\"sk-label-container\"><div class=\"sk-label sk-toggleable\"><input class=\"sk-toggleable__control sk-hidden--visually\" id=\"a45338c9-f804-4df6-8030-a9a4801787b1\" type=\"checkbox\" ><label for=\"a45338c9-f804-4df6-8030-a9a4801787b1\" class=\"sk-toggleable__label sk-toggleable__label-arrow\">Pipeline</label><div class=\"sk-toggleable__content\"><pre>Pipeline(steps=[(&#x27;simpleimputer&#x27;, SimpleImputer(strategy=&#x27;most_frequent&#x27;)),\n",
       "                (&#x27;onehotencoder&#x27;,\n",
       "                 OneHotEncoder(handle_unknown=&#x27;ignore&#x27;, sparse=False))])</pre></div></div></div><div class=\"sk-serial\"><div class=\"sk-item\"><div class=\"sk-estimator sk-toggleable\"><input class=\"sk-toggleable__control sk-hidden--visually\" id=\"7dc5751a-56e1-4fec-92dc-91097518e092\" type=\"checkbox\" ><label for=\"7dc5751a-56e1-4fec-92dc-91097518e092\" class=\"sk-toggleable__label sk-toggleable__label-arrow\">SimpleImputer</label><div class=\"sk-toggleable__content\"><pre>SimpleImputer(strategy=&#x27;most_frequent&#x27;)</pre></div></div></div><div class=\"sk-item\"><div class=\"sk-estimator sk-toggleable\"><input class=\"sk-toggleable__control sk-hidden--visually\" id=\"b62fa305-ffb1-47b7-87e6-76ffa19a3d92\" type=\"checkbox\" ><label for=\"b62fa305-ffb1-47b7-87e6-76ffa19a3d92\" class=\"sk-toggleable__label sk-toggleable__label-arrow\">OneHotEncoder</label><div class=\"sk-toggleable__content\"><pre>OneHotEncoder(handle_unknown=&#x27;ignore&#x27;, sparse=False)</pre></div></div></div></div></div></div></div>"
      ],
      "text/plain": [
       "Pipeline(steps=[('simpleimputer', SimpleImputer(strategy='most_frequent')),\n",
       "                ('onehotencoder',\n",
       "                 OneHotEncoder(handle_unknown='ignore', sparse=False))])"
      ]
     },
     "execution_count": 159,
     "metadata": {},
     "output_type": "execute_result"
    }
   ],
   "source": [
    "# Categorical pipeline\n",
    "categorical_pipe = make_pipeline(freq_imputer, ohe)\n",
    "categorical_pipe"
   ]
  },
  {
   "cell_type": "markdown",
   "id": "bec06a63-1990-4967-a773-23f6b86f3a29",
   "metadata": {},
   "source": [
    "## Tuples"
   ]
  },
  {
   "cell_type": "code",
   "execution_count": 160,
   "id": "e8ce6aef-d5a6-4b0e-925c-fa9ec0f6a046",
   "metadata": {},
   "outputs": [],
   "source": [
    "# Create tuples\n",
    "number_tuple = (numeric_pipe, num_selector)\n",
    "category_tuple = (categorical_pipe, cat_selector)"
   ]
  },
  {
   "cell_type": "markdown",
   "id": "537e7251-63b2-40c9-89e1-e1b16ae8a8d2",
   "metadata": {
    "jp-MarkdownHeadingCollapsed": true,
    "tags": []
   },
   "source": [
    "## Column Transformer"
   ]
  },
  {
   "cell_type": "code",
   "execution_count": 161,
   "id": "129b50f3-c284-4762-94d4-c96bf63f6c9b",
   "metadata": {},
   "outputs": [
    {
     "data": {
      "text/html": [
       "<style>#sk-7c9f7c38-0c8b-4ca2-8108-4a8249adb921 {color: black;background-color: white;}#sk-7c9f7c38-0c8b-4ca2-8108-4a8249adb921 pre{padding: 0;}#sk-7c9f7c38-0c8b-4ca2-8108-4a8249adb921 div.sk-toggleable {background-color: white;}#sk-7c9f7c38-0c8b-4ca2-8108-4a8249adb921 label.sk-toggleable__label {cursor: pointer;display: block;width: 100%;margin-bottom: 0;padding: 0.3em;box-sizing: border-box;text-align: center;}#sk-7c9f7c38-0c8b-4ca2-8108-4a8249adb921 label.sk-toggleable__label-arrow:before {content: \"▸\";float: left;margin-right: 0.25em;color: #696969;}#sk-7c9f7c38-0c8b-4ca2-8108-4a8249adb921 label.sk-toggleable__label-arrow:hover:before {color: black;}#sk-7c9f7c38-0c8b-4ca2-8108-4a8249adb921 div.sk-estimator:hover label.sk-toggleable__label-arrow:before {color: black;}#sk-7c9f7c38-0c8b-4ca2-8108-4a8249adb921 div.sk-toggleable__content {max-height: 0;max-width: 0;overflow: hidden;text-align: left;background-color: #f0f8ff;}#sk-7c9f7c38-0c8b-4ca2-8108-4a8249adb921 div.sk-toggleable__content pre {margin: 0.2em;color: black;border-radius: 0.25em;background-color: #f0f8ff;}#sk-7c9f7c38-0c8b-4ca2-8108-4a8249adb921 input.sk-toggleable__control:checked~div.sk-toggleable__content {max-height: 200px;max-width: 100%;overflow: auto;}#sk-7c9f7c38-0c8b-4ca2-8108-4a8249adb921 input.sk-toggleable__control:checked~label.sk-toggleable__label-arrow:before {content: \"▾\";}#sk-7c9f7c38-0c8b-4ca2-8108-4a8249adb921 div.sk-estimator input.sk-toggleable__control:checked~label.sk-toggleable__label {background-color: #d4ebff;}#sk-7c9f7c38-0c8b-4ca2-8108-4a8249adb921 div.sk-label input.sk-toggleable__control:checked~label.sk-toggleable__label {background-color: #d4ebff;}#sk-7c9f7c38-0c8b-4ca2-8108-4a8249adb921 input.sk-hidden--visually {border: 0;clip: rect(1px 1px 1px 1px);clip: rect(1px, 1px, 1px, 1px);height: 1px;margin: -1px;overflow: hidden;padding: 0;position: absolute;width: 1px;}#sk-7c9f7c38-0c8b-4ca2-8108-4a8249adb921 div.sk-estimator {font-family: monospace;background-color: #f0f8ff;border: 1px dotted black;border-radius: 0.25em;box-sizing: border-box;margin-bottom: 0.5em;}#sk-7c9f7c38-0c8b-4ca2-8108-4a8249adb921 div.sk-estimator:hover {background-color: #d4ebff;}#sk-7c9f7c38-0c8b-4ca2-8108-4a8249adb921 div.sk-parallel-item::after {content: \"\";width: 100%;border-bottom: 1px solid gray;flex-grow: 1;}#sk-7c9f7c38-0c8b-4ca2-8108-4a8249adb921 div.sk-label:hover label.sk-toggleable__label {background-color: #d4ebff;}#sk-7c9f7c38-0c8b-4ca2-8108-4a8249adb921 div.sk-serial::before {content: \"\";position: absolute;border-left: 1px solid gray;box-sizing: border-box;top: 2em;bottom: 0;left: 50%;}#sk-7c9f7c38-0c8b-4ca2-8108-4a8249adb921 div.sk-serial {display: flex;flex-direction: column;align-items: center;background-color: white;padding-right: 0.2em;padding-left: 0.2em;}#sk-7c9f7c38-0c8b-4ca2-8108-4a8249adb921 div.sk-item {z-index: 1;}#sk-7c9f7c38-0c8b-4ca2-8108-4a8249adb921 div.sk-parallel {display: flex;align-items: stretch;justify-content: center;background-color: white;}#sk-7c9f7c38-0c8b-4ca2-8108-4a8249adb921 div.sk-parallel::before {content: \"\";position: absolute;border-left: 1px solid gray;box-sizing: border-box;top: 2em;bottom: 0;left: 50%;}#sk-7c9f7c38-0c8b-4ca2-8108-4a8249adb921 div.sk-parallel-item {display: flex;flex-direction: column;position: relative;background-color: white;}#sk-7c9f7c38-0c8b-4ca2-8108-4a8249adb921 div.sk-parallel-item:first-child::after {align-self: flex-end;width: 50%;}#sk-7c9f7c38-0c8b-4ca2-8108-4a8249adb921 div.sk-parallel-item:last-child::after {align-self: flex-start;width: 50%;}#sk-7c9f7c38-0c8b-4ca2-8108-4a8249adb921 div.sk-parallel-item:only-child::after {width: 0;}#sk-7c9f7c38-0c8b-4ca2-8108-4a8249adb921 div.sk-dashed-wrapped {border: 1px dashed gray;margin: 0 0.4em 0.5em 0.4em;box-sizing: border-box;padding-bottom: 0.4em;background-color: white;position: relative;}#sk-7c9f7c38-0c8b-4ca2-8108-4a8249adb921 div.sk-label label {font-family: monospace;font-weight: bold;background-color: white;display: inline-block;line-height: 1.2em;}#sk-7c9f7c38-0c8b-4ca2-8108-4a8249adb921 div.sk-label-container {position: relative;z-index: 2;text-align: center;}#sk-7c9f7c38-0c8b-4ca2-8108-4a8249adb921 div.sk-container {/* jupyter's `normalize.less` sets `[hidden] { display: none; }` but bootstrap.min.css set `[hidden] { display: none !important; }` so we also need the `!important` here to be able to override the default hidden behavior on the sphinx rendered scikit-learn.org. See: https://github.com/scikit-learn/scikit-learn/issues/21755 */display: inline-block !important;position: relative;}#sk-7c9f7c38-0c8b-4ca2-8108-4a8249adb921 div.sk-text-repr-fallback {display: none;}</style><div id=\"sk-7c9f7c38-0c8b-4ca2-8108-4a8249adb921\" class=\"sk-top-container\"><div class=\"sk-text-repr-fallback\"><pre>ColumnTransformer(transformers=[(&#x27;pipeline-1&#x27;,\n",
       "                                 Pipeline(steps=[(&#x27;simpleimputer&#x27;,\n",
       "                                                  SimpleImputer()),\n",
       "                                                 (&#x27;standardscaler&#x27;,\n",
       "                                                  StandardScaler())]),\n",
       "                                 &lt;sklearn.compose._column_transformer.make_column_selector object at 0x00000202430FA280&gt;),\n",
       "                                (&#x27;pipeline-2&#x27;,\n",
       "                                 Pipeline(steps=[(&#x27;simpleimputer&#x27;,\n",
       "                                                  SimpleImputer(strategy=&#x27;most_frequent&#x27;)),\n",
       "                                                 (&#x27;onehotencoder&#x27;,\n",
       "                                                  OneHotEncoder(handle_unknown=&#x27;ignore&#x27;,\n",
       "                                                                sparse=False))]),\n",
       "                                 &lt;sklearn.compose._column_transformer.make_column_selector object at 0x000002024379DF40&gt;)])</pre><b>Please rerun this cell to show the HTML repr or trust the notebook.</b></div><div class=\"sk-container\" hidden><div class=\"sk-item sk-dashed-wrapped\"><div class=\"sk-label-container\"><div class=\"sk-label sk-toggleable\"><input class=\"sk-toggleable__control sk-hidden--visually\" id=\"b99228e6-951c-4dfe-a653-0c644fe0e46c\" type=\"checkbox\" ><label for=\"b99228e6-951c-4dfe-a653-0c644fe0e46c\" class=\"sk-toggleable__label sk-toggleable__label-arrow\">ColumnTransformer</label><div class=\"sk-toggleable__content\"><pre>ColumnTransformer(transformers=[(&#x27;pipeline-1&#x27;,\n",
       "                                 Pipeline(steps=[(&#x27;simpleimputer&#x27;,\n",
       "                                                  SimpleImputer()),\n",
       "                                                 (&#x27;standardscaler&#x27;,\n",
       "                                                  StandardScaler())]),\n",
       "                                 &lt;sklearn.compose._column_transformer.make_column_selector object at 0x00000202430FA280&gt;),\n",
       "                                (&#x27;pipeline-2&#x27;,\n",
       "                                 Pipeline(steps=[(&#x27;simpleimputer&#x27;,\n",
       "                                                  SimpleImputer(strategy=&#x27;most_frequent&#x27;)),\n",
       "                                                 (&#x27;onehotencoder&#x27;,\n",
       "                                                  OneHotEncoder(handle_unknown=&#x27;ignore&#x27;,\n",
       "                                                                sparse=False))]),\n",
       "                                 &lt;sklearn.compose._column_transformer.make_column_selector object at 0x000002024379DF40&gt;)])</pre></div></div></div><div class=\"sk-parallel\"><div class=\"sk-parallel-item\"><div class=\"sk-item\"><div class=\"sk-label-container\"><div class=\"sk-label sk-toggleable\"><input class=\"sk-toggleable__control sk-hidden--visually\" id=\"2a41528f-8922-4893-b01c-41055ab9de7d\" type=\"checkbox\" ><label for=\"2a41528f-8922-4893-b01c-41055ab9de7d\" class=\"sk-toggleable__label sk-toggleable__label-arrow\">pipeline-1</label><div class=\"sk-toggleable__content\"><pre>&lt;sklearn.compose._column_transformer.make_column_selector object at 0x00000202430FA280&gt;</pre></div></div></div><div class=\"sk-serial\"><div class=\"sk-item\"><div class=\"sk-serial\"><div class=\"sk-item\"><div class=\"sk-estimator sk-toggleable\"><input class=\"sk-toggleable__control sk-hidden--visually\" id=\"f131e5ff-b321-4e7a-9582-0ce02a7f2195\" type=\"checkbox\" ><label for=\"f131e5ff-b321-4e7a-9582-0ce02a7f2195\" class=\"sk-toggleable__label sk-toggleable__label-arrow\">SimpleImputer</label><div class=\"sk-toggleable__content\"><pre>SimpleImputer()</pre></div></div></div><div class=\"sk-item\"><div class=\"sk-estimator sk-toggleable\"><input class=\"sk-toggleable__control sk-hidden--visually\" id=\"3dbb287c-309f-4479-a041-672897eaf3d5\" type=\"checkbox\" ><label for=\"3dbb287c-309f-4479-a041-672897eaf3d5\" class=\"sk-toggleable__label sk-toggleable__label-arrow\">StandardScaler</label><div class=\"sk-toggleable__content\"><pre>StandardScaler()</pre></div></div></div></div></div></div></div></div><div class=\"sk-parallel-item\"><div class=\"sk-item\"><div class=\"sk-label-container\"><div class=\"sk-label sk-toggleable\"><input class=\"sk-toggleable__control sk-hidden--visually\" id=\"015d9b20-9a19-46f3-b644-b16d5980bdb3\" type=\"checkbox\" ><label for=\"015d9b20-9a19-46f3-b644-b16d5980bdb3\" class=\"sk-toggleable__label sk-toggleable__label-arrow\">pipeline-2</label><div class=\"sk-toggleable__content\"><pre>&lt;sklearn.compose._column_transformer.make_column_selector object at 0x000002024379DF40&gt;</pre></div></div></div><div class=\"sk-serial\"><div class=\"sk-item\"><div class=\"sk-serial\"><div class=\"sk-item\"><div class=\"sk-estimator sk-toggleable\"><input class=\"sk-toggleable__control sk-hidden--visually\" id=\"be99b506-a46b-4c20-a6fd-9584e2a54002\" type=\"checkbox\" ><label for=\"be99b506-a46b-4c20-a6fd-9584e2a54002\" class=\"sk-toggleable__label sk-toggleable__label-arrow\">SimpleImputer</label><div class=\"sk-toggleable__content\"><pre>SimpleImputer(strategy=&#x27;most_frequent&#x27;)</pre></div></div></div><div class=\"sk-item\"><div class=\"sk-estimator sk-toggleable\"><input class=\"sk-toggleable__control sk-hidden--visually\" id=\"5eec8ecc-2cf9-45f1-8100-78d6aa5991e1\" type=\"checkbox\" ><label for=\"5eec8ecc-2cf9-45f1-8100-78d6aa5991e1\" class=\"sk-toggleable__label sk-toggleable__label-arrow\">OneHotEncoder</label><div class=\"sk-toggleable__content\"><pre>OneHotEncoder(handle_unknown=&#x27;ignore&#x27;, sparse=False)</pre></div></div></div></div></div></div></div></div></div></div></div></div>"
      ],
      "text/plain": [
       "ColumnTransformer(transformers=[('pipeline-1',\n",
       "                                 Pipeline(steps=[('simpleimputer',\n",
       "                                                  SimpleImputer()),\n",
       "                                                 ('standardscaler',\n",
       "                                                  StandardScaler())]),\n",
       "                                 <sklearn.compose._column_transformer.make_column_selector object at 0x00000202430FA280>),\n",
       "                                ('pipeline-2',\n",
       "                                 Pipeline(steps=[('simpleimputer',\n",
       "                                                  SimpleImputer(strategy='most_frequent')),\n",
       "                                                 ('onehotencoder',\n",
       "                                                  OneHotEncoder(handle_unknown='ignore',\n",
       "                                                                sparse=False))]),\n",
       "                                 <sklearn.compose._column_transformer.make_column_selector object at 0x000002024379DF40>)])"
      ]
     },
     "execution_count": 161,
     "metadata": {},
     "output_type": "execute_result"
    }
   ],
   "source": [
    "# Create the preprocessor using make_column_transformer\n",
    "preprocessor = make_column_transformer(number_tuple, \n",
    "                                       category_tuple, \n",
    "                                       remainder='drop')\n",
    "preprocessor"
   ]
  },
  {
   "cell_type": "markdown",
   "id": "3f16d962-4fb2-44c5-8b80-ab004728c2e9",
   "metadata": {
    "tags": []
   },
   "source": [
    "# Model the data "
   ]
  },
  {
   "cell_type": "markdown",
   "id": "7db65510-f43f-4b30-8194-1dca3589a952",
   "metadata": {
    "tags": []
   },
   "source": [
    "## Linear Regression Model "
   ]
  },
  {
   "cell_type": "code",
   "execution_count": 162,
   "id": "eb9635bf-7255-4b4a-b3aa-6f1c111c4451",
   "metadata": {},
   "outputs": [
    {
     "data": {
      "text/html": [
       "<style>#sk-c6a02091-87ee-470d-89ce-46200c2530b0 {color: black;background-color: white;}#sk-c6a02091-87ee-470d-89ce-46200c2530b0 pre{padding: 0;}#sk-c6a02091-87ee-470d-89ce-46200c2530b0 div.sk-toggleable {background-color: white;}#sk-c6a02091-87ee-470d-89ce-46200c2530b0 label.sk-toggleable__label {cursor: pointer;display: block;width: 100%;margin-bottom: 0;padding: 0.3em;box-sizing: border-box;text-align: center;}#sk-c6a02091-87ee-470d-89ce-46200c2530b0 label.sk-toggleable__label-arrow:before {content: \"▸\";float: left;margin-right: 0.25em;color: #696969;}#sk-c6a02091-87ee-470d-89ce-46200c2530b0 label.sk-toggleable__label-arrow:hover:before {color: black;}#sk-c6a02091-87ee-470d-89ce-46200c2530b0 div.sk-estimator:hover label.sk-toggleable__label-arrow:before {color: black;}#sk-c6a02091-87ee-470d-89ce-46200c2530b0 div.sk-toggleable__content {max-height: 0;max-width: 0;overflow: hidden;text-align: left;background-color: #f0f8ff;}#sk-c6a02091-87ee-470d-89ce-46200c2530b0 div.sk-toggleable__content pre {margin: 0.2em;color: black;border-radius: 0.25em;background-color: #f0f8ff;}#sk-c6a02091-87ee-470d-89ce-46200c2530b0 input.sk-toggleable__control:checked~div.sk-toggleable__content {max-height: 200px;max-width: 100%;overflow: auto;}#sk-c6a02091-87ee-470d-89ce-46200c2530b0 input.sk-toggleable__control:checked~label.sk-toggleable__label-arrow:before {content: \"▾\";}#sk-c6a02091-87ee-470d-89ce-46200c2530b0 div.sk-estimator input.sk-toggleable__control:checked~label.sk-toggleable__label {background-color: #d4ebff;}#sk-c6a02091-87ee-470d-89ce-46200c2530b0 div.sk-label input.sk-toggleable__control:checked~label.sk-toggleable__label {background-color: #d4ebff;}#sk-c6a02091-87ee-470d-89ce-46200c2530b0 input.sk-hidden--visually {border: 0;clip: rect(1px 1px 1px 1px);clip: rect(1px, 1px, 1px, 1px);height: 1px;margin: -1px;overflow: hidden;padding: 0;position: absolute;width: 1px;}#sk-c6a02091-87ee-470d-89ce-46200c2530b0 div.sk-estimator {font-family: monospace;background-color: #f0f8ff;border: 1px dotted black;border-radius: 0.25em;box-sizing: border-box;margin-bottom: 0.5em;}#sk-c6a02091-87ee-470d-89ce-46200c2530b0 div.sk-estimator:hover {background-color: #d4ebff;}#sk-c6a02091-87ee-470d-89ce-46200c2530b0 div.sk-parallel-item::after {content: \"\";width: 100%;border-bottom: 1px solid gray;flex-grow: 1;}#sk-c6a02091-87ee-470d-89ce-46200c2530b0 div.sk-label:hover label.sk-toggleable__label {background-color: #d4ebff;}#sk-c6a02091-87ee-470d-89ce-46200c2530b0 div.sk-serial::before {content: \"\";position: absolute;border-left: 1px solid gray;box-sizing: border-box;top: 2em;bottom: 0;left: 50%;}#sk-c6a02091-87ee-470d-89ce-46200c2530b0 div.sk-serial {display: flex;flex-direction: column;align-items: center;background-color: white;padding-right: 0.2em;padding-left: 0.2em;}#sk-c6a02091-87ee-470d-89ce-46200c2530b0 div.sk-item {z-index: 1;}#sk-c6a02091-87ee-470d-89ce-46200c2530b0 div.sk-parallel {display: flex;align-items: stretch;justify-content: center;background-color: white;}#sk-c6a02091-87ee-470d-89ce-46200c2530b0 div.sk-parallel::before {content: \"\";position: absolute;border-left: 1px solid gray;box-sizing: border-box;top: 2em;bottom: 0;left: 50%;}#sk-c6a02091-87ee-470d-89ce-46200c2530b0 div.sk-parallel-item {display: flex;flex-direction: column;position: relative;background-color: white;}#sk-c6a02091-87ee-470d-89ce-46200c2530b0 div.sk-parallel-item:first-child::after {align-self: flex-end;width: 50%;}#sk-c6a02091-87ee-470d-89ce-46200c2530b0 div.sk-parallel-item:last-child::after {align-self: flex-start;width: 50%;}#sk-c6a02091-87ee-470d-89ce-46200c2530b0 div.sk-parallel-item:only-child::after {width: 0;}#sk-c6a02091-87ee-470d-89ce-46200c2530b0 div.sk-dashed-wrapped {border: 1px dashed gray;margin: 0 0.4em 0.5em 0.4em;box-sizing: border-box;padding-bottom: 0.4em;background-color: white;position: relative;}#sk-c6a02091-87ee-470d-89ce-46200c2530b0 div.sk-label label {font-family: monospace;font-weight: bold;background-color: white;display: inline-block;line-height: 1.2em;}#sk-c6a02091-87ee-470d-89ce-46200c2530b0 div.sk-label-container {position: relative;z-index: 2;text-align: center;}#sk-c6a02091-87ee-470d-89ce-46200c2530b0 div.sk-container {/* jupyter's `normalize.less` sets `[hidden] { display: none; }` but bootstrap.min.css set `[hidden] { display: none !important; }` so we also need the `!important` here to be able to override the default hidden behavior on the sphinx rendered scikit-learn.org. See: https://github.com/scikit-learn/scikit-learn/issues/21755 */display: inline-block !important;position: relative;}#sk-c6a02091-87ee-470d-89ce-46200c2530b0 div.sk-text-repr-fallback {display: none;}</style><div id=\"sk-c6a02091-87ee-470d-89ce-46200c2530b0\" class=\"sk-top-container\"><div class=\"sk-text-repr-fallback\"><pre>Pipeline(steps=[(&#x27;columntransformer&#x27;,\n",
       "                 ColumnTransformer(transformers=[(&#x27;pipeline-1&#x27;,\n",
       "                                                  Pipeline(steps=[(&#x27;simpleimputer&#x27;,\n",
       "                                                                   SimpleImputer()),\n",
       "                                                                  (&#x27;standardscaler&#x27;,\n",
       "                                                                   StandardScaler())]),\n",
       "                                                  &lt;sklearn.compose._column_transformer.make_column_selector object at 0x00000202430FA280&gt;),\n",
       "                                                 (&#x27;pipeline-2&#x27;,\n",
       "                                                  Pipeline(steps=[(&#x27;simpleimputer&#x27;,\n",
       "                                                                   SimpleImputer(strategy=&#x27;most_frequent&#x27;)),\n",
       "                                                                  (&#x27;onehotencoder&#x27;,\n",
       "                                                                   OneHotEncoder(handle_unknown=&#x27;ignore&#x27;,\n",
       "                                                                                 sparse=False))]),\n",
       "                                                  &lt;sklearn.compose._column_transformer.make_column_selector object at 0x000002024379DF40&gt;)])),\n",
       "                (&#x27;linearregression&#x27;, LinearRegression())])</pre><b>Please rerun this cell to show the HTML repr or trust the notebook.</b></div><div class=\"sk-container\" hidden><div class=\"sk-item sk-dashed-wrapped\"><div class=\"sk-label-container\"><div class=\"sk-label sk-toggleable\"><input class=\"sk-toggleable__control sk-hidden--visually\" id=\"748a32af-e90c-441b-956c-428cad18ecbc\" type=\"checkbox\" ><label for=\"748a32af-e90c-441b-956c-428cad18ecbc\" class=\"sk-toggleable__label sk-toggleable__label-arrow\">Pipeline</label><div class=\"sk-toggleable__content\"><pre>Pipeline(steps=[(&#x27;columntransformer&#x27;,\n",
       "                 ColumnTransformer(transformers=[(&#x27;pipeline-1&#x27;,\n",
       "                                                  Pipeline(steps=[(&#x27;simpleimputer&#x27;,\n",
       "                                                                   SimpleImputer()),\n",
       "                                                                  (&#x27;standardscaler&#x27;,\n",
       "                                                                   StandardScaler())]),\n",
       "                                                  &lt;sklearn.compose._column_transformer.make_column_selector object at 0x00000202430FA280&gt;),\n",
       "                                                 (&#x27;pipeline-2&#x27;,\n",
       "                                                  Pipeline(steps=[(&#x27;simpleimputer&#x27;,\n",
       "                                                                   SimpleImputer(strategy=&#x27;most_frequent&#x27;)),\n",
       "                                                                  (&#x27;onehotencoder&#x27;,\n",
       "                                                                   OneHotEncoder(handle_unknown=&#x27;ignore&#x27;,\n",
       "                                                                                 sparse=False))]),\n",
       "                                                  &lt;sklearn.compose._column_transformer.make_column_selector object at 0x000002024379DF40&gt;)])),\n",
       "                (&#x27;linearregression&#x27;, LinearRegression())])</pre></div></div></div><div class=\"sk-serial\"><div class=\"sk-item sk-dashed-wrapped\"><div class=\"sk-label-container\"><div class=\"sk-label sk-toggleable\"><input class=\"sk-toggleable__control sk-hidden--visually\" id=\"0557d625-a43b-4971-b5a5-888d679cb25e\" type=\"checkbox\" ><label for=\"0557d625-a43b-4971-b5a5-888d679cb25e\" class=\"sk-toggleable__label sk-toggleable__label-arrow\">columntransformer: ColumnTransformer</label><div class=\"sk-toggleable__content\"><pre>ColumnTransformer(transformers=[(&#x27;pipeline-1&#x27;,\n",
       "                                 Pipeline(steps=[(&#x27;simpleimputer&#x27;,\n",
       "                                                  SimpleImputer()),\n",
       "                                                 (&#x27;standardscaler&#x27;,\n",
       "                                                  StandardScaler())]),\n",
       "                                 &lt;sklearn.compose._column_transformer.make_column_selector object at 0x00000202430FA280&gt;),\n",
       "                                (&#x27;pipeline-2&#x27;,\n",
       "                                 Pipeline(steps=[(&#x27;simpleimputer&#x27;,\n",
       "                                                  SimpleImputer(strategy=&#x27;most_frequent&#x27;)),\n",
       "                                                 (&#x27;onehotencoder&#x27;,\n",
       "                                                  OneHotEncoder(handle_unknown=&#x27;ignore&#x27;,\n",
       "                                                                sparse=False))]),\n",
       "                                 &lt;sklearn.compose._column_transformer.make_column_selector object at 0x000002024379DF40&gt;)])</pre></div></div></div><div class=\"sk-parallel\"><div class=\"sk-parallel-item\"><div class=\"sk-item\"><div class=\"sk-label-container\"><div class=\"sk-label sk-toggleable\"><input class=\"sk-toggleable__control sk-hidden--visually\" id=\"efb0c91b-81a9-4778-a416-df5d63e49a4e\" type=\"checkbox\" ><label for=\"efb0c91b-81a9-4778-a416-df5d63e49a4e\" class=\"sk-toggleable__label sk-toggleable__label-arrow\">pipeline-1</label><div class=\"sk-toggleable__content\"><pre>&lt;sklearn.compose._column_transformer.make_column_selector object at 0x00000202430FA280&gt;</pre></div></div></div><div class=\"sk-serial\"><div class=\"sk-item\"><div class=\"sk-serial\"><div class=\"sk-item\"><div class=\"sk-estimator sk-toggleable\"><input class=\"sk-toggleable__control sk-hidden--visually\" id=\"dcb3a7ba-2237-479a-a04a-b6aaed1e85d4\" type=\"checkbox\" ><label for=\"dcb3a7ba-2237-479a-a04a-b6aaed1e85d4\" class=\"sk-toggleable__label sk-toggleable__label-arrow\">SimpleImputer</label><div class=\"sk-toggleable__content\"><pre>SimpleImputer()</pre></div></div></div><div class=\"sk-item\"><div class=\"sk-estimator sk-toggleable\"><input class=\"sk-toggleable__control sk-hidden--visually\" id=\"2ca2b5cc-d647-407b-b058-069c3bad1496\" type=\"checkbox\" ><label for=\"2ca2b5cc-d647-407b-b058-069c3bad1496\" class=\"sk-toggleable__label sk-toggleable__label-arrow\">StandardScaler</label><div class=\"sk-toggleable__content\"><pre>StandardScaler()</pre></div></div></div></div></div></div></div></div><div class=\"sk-parallel-item\"><div class=\"sk-item\"><div class=\"sk-label-container\"><div class=\"sk-label sk-toggleable\"><input class=\"sk-toggleable__control sk-hidden--visually\" id=\"54c19381-f21d-4e97-85bb-eafb6b707163\" type=\"checkbox\" ><label for=\"54c19381-f21d-4e97-85bb-eafb6b707163\" class=\"sk-toggleable__label sk-toggleable__label-arrow\">pipeline-2</label><div class=\"sk-toggleable__content\"><pre>&lt;sklearn.compose._column_transformer.make_column_selector object at 0x000002024379DF40&gt;</pre></div></div></div><div class=\"sk-serial\"><div class=\"sk-item\"><div class=\"sk-serial\"><div class=\"sk-item\"><div class=\"sk-estimator sk-toggleable\"><input class=\"sk-toggleable__control sk-hidden--visually\" id=\"eb317ccd-013b-4427-a1b3-0fd082bee776\" type=\"checkbox\" ><label for=\"eb317ccd-013b-4427-a1b3-0fd082bee776\" class=\"sk-toggleable__label sk-toggleable__label-arrow\">SimpleImputer</label><div class=\"sk-toggleable__content\"><pre>SimpleImputer(strategy=&#x27;most_frequent&#x27;)</pre></div></div></div><div class=\"sk-item\"><div class=\"sk-estimator sk-toggleable\"><input class=\"sk-toggleable__control sk-hidden--visually\" id=\"c8cea73c-3692-4523-868e-0336d4d6a780\" type=\"checkbox\" ><label for=\"c8cea73c-3692-4523-868e-0336d4d6a780\" class=\"sk-toggleable__label sk-toggleable__label-arrow\">OneHotEncoder</label><div class=\"sk-toggleable__content\"><pre>OneHotEncoder(handle_unknown=&#x27;ignore&#x27;, sparse=False)</pre></div></div></div></div></div></div></div></div></div></div><div class=\"sk-item\"><div class=\"sk-estimator sk-toggleable\"><input class=\"sk-toggleable__control sk-hidden--visually\" id=\"cf186242-dae6-401c-a709-586df72385ad\" type=\"checkbox\" ><label for=\"cf186242-dae6-401c-a709-586df72385ad\" class=\"sk-toggleable__label sk-toggleable__label-arrow\">LinearRegression</label><div class=\"sk-toggleable__content\"><pre>LinearRegression()</pre></div></div></div></div></div></div></div>"
      ],
      "text/plain": [
       "Pipeline(steps=[('columntransformer',\n",
       "                 ColumnTransformer(transformers=[('pipeline-1',\n",
       "                                                  Pipeline(steps=[('simpleimputer',\n",
       "                                                                   SimpleImputer()),\n",
       "                                                                  ('standardscaler',\n",
       "                                                                   StandardScaler())]),\n",
       "                                                  <sklearn.compose._column_transformer.make_column_selector object at 0x00000202430FA280>),\n",
       "                                                 ('pipeline-2',\n",
       "                                                  Pipeline(steps=[('simpleimputer',\n",
       "                                                                   SimpleImputer(strategy='most_frequent')),\n",
       "                                                                  ('onehotencoder',\n",
       "                                                                   OneHotEncoder(handle_unknown='ignore',\n",
       "                                                                                 sparse=False))]),\n",
       "                                                  <sklearn.compose._column_transformer.make_column_selector object at 0x000002024379DF40>)])),\n",
       "                ('linearregression', LinearRegression())])"
      ]
     },
     "execution_count": 162,
     "metadata": {},
     "output_type": "execute_result"
    }
   ],
   "source": [
    "# Create an instance of the model\n",
    "lin_reg = LinearRegression()\n",
    "\n",
    "# Create a model pipeline\n",
    "lin_reg_pipe = make_pipeline(preprocessor, lin_reg)\n",
    "\n",
    "# Fit the model\n",
    "lin_reg_pipe.fit(X_train, y_train)"
   ]
  },
  {
   "cell_type": "code",
   "execution_count": 163,
   "id": "857b0f24-d6ff-4a4c-b4c5-ff056d8c4bf4",
   "metadata": {},
   "outputs": [],
   "source": [
    "# Make predictions using the training and testing data\n",
    "training_predictions = lin_reg_pipe.predict(X_train)\n",
    "test_predictions = lin_reg_pipe.predict(X_test)"
   ]
  },
  {
   "cell_type": "code",
   "execution_count": 164,
   "id": "20bbc49f-cd87-4e8d-9e10-f3dd0058b7c7",
   "metadata": {},
   "outputs": [
    {
     "name": "stdout",
     "output_type": "stream",
     "text": [
      "Linear Regression Model Train Scores\n",
      "MAE: 847.1281 \n",
      "MSE: 1297556.9999 \n",
      "RMSE: 1139.1036 \n",
      "R2: 0.5615555\n",
      "\n",
      "Linear Regression Model Test Scores\n",
      "MAE: 804.1234 \n",
      "MSE: 1194352.8187 \n",
      "RMSE: 1092.8645 \n",
      "R2: 0.5671031\n",
      "\n"
     ]
    }
   ],
   "source": [
    "# Display the Model's metrics\n",
    "model_metrics(lin_reg_pipe, x_train=X_train, y_train=y_train, \n",
    "                          x_test=X_test, y_test=y_test, \n",
    "                           model_name='Linear Regression Model')"
   ]
  },
  {
   "cell_type": "markdown",
   "id": "c7c41543-8bea-4007-9933-22e7056ff1c0",
   "metadata": {},
   "source": [
    "All error rates are hight and r^2 is not very impressive. However, the model is has relatively high bias as the error rate is low. Model does exhibit low variability as r^2 of both test and train are not far apart"
   ]
  },
  {
   "cell_type": "markdown",
   "id": "5f9ca084-1f37-440f-9861-00c581cf7980",
   "metadata": {
    "tags": []
   },
   "source": [
    "# Decision Tree Regression"
   ]
  },
  {
   "cell_type": "code",
   "execution_count": 165,
   "id": "11ee4930-a80b-4c1f-8934-eb9399601ded",
   "metadata": {},
   "outputs": [
    {
     "data": {
      "text/html": [
       "<style>#sk-85b9adf1-f77a-4e65-87f5-62d4997aad98 {color: black;background-color: white;}#sk-85b9adf1-f77a-4e65-87f5-62d4997aad98 pre{padding: 0;}#sk-85b9adf1-f77a-4e65-87f5-62d4997aad98 div.sk-toggleable {background-color: white;}#sk-85b9adf1-f77a-4e65-87f5-62d4997aad98 label.sk-toggleable__label {cursor: pointer;display: block;width: 100%;margin-bottom: 0;padding: 0.3em;box-sizing: border-box;text-align: center;}#sk-85b9adf1-f77a-4e65-87f5-62d4997aad98 label.sk-toggleable__label-arrow:before {content: \"▸\";float: left;margin-right: 0.25em;color: #696969;}#sk-85b9adf1-f77a-4e65-87f5-62d4997aad98 label.sk-toggleable__label-arrow:hover:before {color: black;}#sk-85b9adf1-f77a-4e65-87f5-62d4997aad98 div.sk-estimator:hover label.sk-toggleable__label-arrow:before {color: black;}#sk-85b9adf1-f77a-4e65-87f5-62d4997aad98 div.sk-toggleable__content {max-height: 0;max-width: 0;overflow: hidden;text-align: left;background-color: #f0f8ff;}#sk-85b9adf1-f77a-4e65-87f5-62d4997aad98 div.sk-toggleable__content pre {margin: 0.2em;color: black;border-radius: 0.25em;background-color: #f0f8ff;}#sk-85b9adf1-f77a-4e65-87f5-62d4997aad98 input.sk-toggleable__control:checked~div.sk-toggleable__content {max-height: 200px;max-width: 100%;overflow: auto;}#sk-85b9adf1-f77a-4e65-87f5-62d4997aad98 input.sk-toggleable__control:checked~label.sk-toggleable__label-arrow:before {content: \"▾\";}#sk-85b9adf1-f77a-4e65-87f5-62d4997aad98 div.sk-estimator input.sk-toggleable__control:checked~label.sk-toggleable__label {background-color: #d4ebff;}#sk-85b9adf1-f77a-4e65-87f5-62d4997aad98 div.sk-label input.sk-toggleable__control:checked~label.sk-toggleable__label {background-color: #d4ebff;}#sk-85b9adf1-f77a-4e65-87f5-62d4997aad98 input.sk-hidden--visually {border: 0;clip: rect(1px 1px 1px 1px);clip: rect(1px, 1px, 1px, 1px);height: 1px;margin: -1px;overflow: hidden;padding: 0;position: absolute;width: 1px;}#sk-85b9adf1-f77a-4e65-87f5-62d4997aad98 div.sk-estimator {font-family: monospace;background-color: #f0f8ff;border: 1px dotted black;border-radius: 0.25em;box-sizing: border-box;margin-bottom: 0.5em;}#sk-85b9adf1-f77a-4e65-87f5-62d4997aad98 div.sk-estimator:hover {background-color: #d4ebff;}#sk-85b9adf1-f77a-4e65-87f5-62d4997aad98 div.sk-parallel-item::after {content: \"\";width: 100%;border-bottom: 1px solid gray;flex-grow: 1;}#sk-85b9adf1-f77a-4e65-87f5-62d4997aad98 div.sk-label:hover label.sk-toggleable__label {background-color: #d4ebff;}#sk-85b9adf1-f77a-4e65-87f5-62d4997aad98 div.sk-serial::before {content: \"\";position: absolute;border-left: 1px solid gray;box-sizing: border-box;top: 2em;bottom: 0;left: 50%;}#sk-85b9adf1-f77a-4e65-87f5-62d4997aad98 div.sk-serial {display: flex;flex-direction: column;align-items: center;background-color: white;padding-right: 0.2em;padding-left: 0.2em;}#sk-85b9adf1-f77a-4e65-87f5-62d4997aad98 div.sk-item {z-index: 1;}#sk-85b9adf1-f77a-4e65-87f5-62d4997aad98 div.sk-parallel {display: flex;align-items: stretch;justify-content: center;background-color: white;}#sk-85b9adf1-f77a-4e65-87f5-62d4997aad98 div.sk-parallel::before {content: \"\";position: absolute;border-left: 1px solid gray;box-sizing: border-box;top: 2em;bottom: 0;left: 50%;}#sk-85b9adf1-f77a-4e65-87f5-62d4997aad98 div.sk-parallel-item {display: flex;flex-direction: column;position: relative;background-color: white;}#sk-85b9adf1-f77a-4e65-87f5-62d4997aad98 div.sk-parallel-item:first-child::after {align-self: flex-end;width: 50%;}#sk-85b9adf1-f77a-4e65-87f5-62d4997aad98 div.sk-parallel-item:last-child::after {align-self: flex-start;width: 50%;}#sk-85b9adf1-f77a-4e65-87f5-62d4997aad98 div.sk-parallel-item:only-child::after {width: 0;}#sk-85b9adf1-f77a-4e65-87f5-62d4997aad98 div.sk-dashed-wrapped {border: 1px dashed gray;margin: 0 0.4em 0.5em 0.4em;box-sizing: border-box;padding-bottom: 0.4em;background-color: white;position: relative;}#sk-85b9adf1-f77a-4e65-87f5-62d4997aad98 div.sk-label label {font-family: monospace;font-weight: bold;background-color: white;display: inline-block;line-height: 1.2em;}#sk-85b9adf1-f77a-4e65-87f5-62d4997aad98 div.sk-label-container {position: relative;z-index: 2;text-align: center;}#sk-85b9adf1-f77a-4e65-87f5-62d4997aad98 div.sk-container {/* jupyter's `normalize.less` sets `[hidden] { display: none; }` but bootstrap.min.css set `[hidden] { display: none !important; }` so we also need the `!important` here to be able to override the default hidden behavior on the sphinx rendered scikit-learn.org. See: https://github.com/scikit-learn/scikit-learn/issues/21755 */display: inline-block !important;position: relative;}#sk-85b9adf1-f77a-4e65-87f5-62d4997aad98 div.sk-text-repr-fallback {display: none;}</style><div id=\"sk-85b9adf1-f77a-4e65-87f5-62d4997aad98\" class=\"sk-top-container\"><div class=\"sk-text-repr-fallback\"><pre>Pipeline(steps=[(&#x27;columntransformer&#x27;,\n",
       "                 ColumnTransformer(transformers=[(&#x27;pipeline-1&#x27;,\n",
       "                                                  Pipeline(steps=[(&#x27;simpleimputer&#x27;,\n",
       "                                                                   SimpleImputer()),\n",
       "                                                                  (&#x27;standardscaler&#x27;,\n",
       "                                                                   StandardScaler())]),\n",
       "                                                  &lt;sklearn.compose._column_transformer.make_column_selector object at 0x00000202430FA280&gt;),\n",
       "                                                 (&#x27;pipeline-2&#x27;,\n",
       "                                                  Pipeline(steps=[(&#x27;simpleimputer&#x27;,\n",
       "                                                                   SimpleImputer(strategy=&#x27;most_frequent&#x27;)),\n",
       "                                                                  (&#x27;onehotencoder&#x27;,\n",
       "                                                                   OneHotEncoder(handle_unknown=&#x27;ignore&#x27;,\n",
       "                                                                                 sparse=False))]),\n",
       "                                                  &lt;sklearn.compose._column_transformer.make_column_selector object at 0x000002024379DF40&gt;)])),\n",
       "                (&#x27;decisiontreeregressor&#x27;,\n",
       "                 DecisionTreeRegressor(random_state=42))])</pre><b>Please rerun this cell to show the HTML repr or trust the notebook.</b></div><div class=\"sk-container\" hidden><div class=\"sk-item sk-dashed-wrapped\"><div class=\"sk-label-container\"><div class=\"sk-label sk-toggleable\"><input class=\"sk-toggleable__control sk-hidden--visually\" id=\"b9426e30-1541-4f9b-b9af-e04b51ec9522\" type=\"checkbox\" ><label for=\"b9426e30-1541-4f9b-b9af-e04b51ec9522\" class=\"sk-toggleable__label sk-toggleable__label-arrow\">Pipeline</label><div class=\"sk-toggleable__content\"><pre>Pipeline(steps=[(&#x27;columntransformer&#x27;,\n",
       "                 ColumnTransformer(transformers=[(&#x27;pipeline-1&#x27;,\n",
       "                                                  Pipeline(steps=[(&#x27;simpleimputer&#x27;,\n",
       "                                                                   SimpleImputer()),\n",
       "                                                                  (&#x27;standardscaler&#x27;,\n",
       "                                                                   StandardScaler())]),\n",
       "                                                  &lt;sklearn.compose._column_transformer.make_column_selector object at 0x00000202430FA280&gt;),\n",
       "                                                 (&#x27;pipeline-2&#x27;,\n",
       "                                                  Pipeline(steps=[(&#x27;simpleimputer&#x27;,\n",
       "                                                                   SimpleImputer(strategy=&#x27;most_frequent&#x27;)),\n",
       "                                                                  (&#x27;onehotencoder&#x27;,\n",
       "                                                                   OneHotEncoder(handle_unknown=&#x27;ignore&#x27;,\n",
       "                                                                                 sparse=False))]),\n",
       "                                                  &lt;sklearn.compose._column_transformer.make_column_selector object at 0x000002024379DF40&gt;)])),\n",
       "                (&#x27;decisiontreeregressor&#x27;,\n",
       "                 DecisionTreeRegressor(random_state=42))])</pre></div></div></div><div class=\"sk-serial\"><div class=\"sk-item sk-dashed-wrapped\"><div class=\"sk-label-container\"><div class=\"sk-label sk-toggleable\"><input class=\"sk-toggleable__control sk-hidden--visually\" id=\"b906e8b1-ecbd-46b2-8233-ee053051d1b0\" type=\"checkbox\" ><label for=\"b906e8b1-ecbd-46b2-8233-ee053051d1b0\" class=\"sk-toggleable__label sk-toggleable__label-arrow\">columntransformer: ColumnTransformer</label><div class=\"sk-toggleable__content\"><pre>ColumnTransformer(transformers=[(&#x27;pipeline-1&#x27;,\n",
       "                                 Pipeline(steps=[(&#x27;simpleimputer&#x27;,\n",
       "                                                  SimpleImputer()),\n",
       "                                                 (&#x27;standardscaler&#x27;,\n",
       "                                                  StandardScaler())]),\n",
       "                                 &lt;sklearn.compose._column_transformer.make_column_selector object at 0x00000202430FA280&gt;),\n",
       "                                (&#x27;pipeline-2&#x27;,\n",
       "                                 Pipeline(steps=[(&#x27;simpleimputer&#x27;,\n",
       "                                                  SimpleImputer(strategy=&#x27;most_frequent&#x27;)),\n",
       "                                                 (&#x27;onehotencoder&#x27;,\n",
       "                                                  OneHotEncoder(handle_unknown=&#x27;ignore&#x27;,\n",
       "                                                                sparse=False))]),\n",
       "                                 &lt;sklearn.compose._column_transformer.make_column_selector object at 0x000002024379DF40&gt;)])</pre></div></div></div><div class=\"sk-parallel\"><div class=\"sk-parallel-item\"><div class=\"sk-item\"><div class=\"sk-label-container\"><div class=\"sk-label sk-toggleable\"><input class=\"sk-toggleable__control sk-hidden--visually\" id=\"4f90d73d-27c8-40ed-a385-12c83b487d17\" type=\"checkbox\" ><label for=\"4f90d73d-27c8-40ed-a385-12c83b487d17\" class=\"sk-toggleable__label sk-toggleable__label-arrow\">pipeline-1</label><div class=\"sk-toggleable__content\"><pre>&lt;sklearn.compose._column_transformer.make_column_selector object at 0x00000202430FA280&gt;</pre></div></div></div><div class=\"sk-serial\"><div class=\"sk-item\"><div class=\"sk-serial\"><div class=\"sk-item\"><div class=\"sk-estimator sk-toggleable\"><input class=\"sk-toggleable__control sk-hidden--visually\" id=\"cd2e709a-e47a-482a-aeb1-042946740bf7\" type=\"checkbox\" ><label for=\"cd2e709a-e47a-482a-aeb1-042946740bf7\" class=\"sk-toggleable__label sk-toggleable__label-arrow\">SimpleImputer</label><div class=\"sk-toggleable__content\"><pre>SimpleImputer()</pre></div></div></div><div class=\"sk-item\"><div class=\"sk-estimator sk-toggleable\"><input class=\"sk-toggleable__control sk-hidden--visually\" id=\"c4502131-b211-49f3-9b9a-673fb9cef786\" type=\"checkbox\" ><label for=\"c4502131-b211-49f3-9b9a-673fb9cef786\" class=\"sk-toggleable__label sk-toggleable__label-arrow\">StandardScaler</label><div class=\"sk-toggleable__content\"><pre>StandardScaler()</pre></div></div></div></div></div></div></div></div><div class=\"sk-parallel-item\"><div class=\"sk-item\"><div class=\"sk-label-container\"><div class=\"sk-label sk-toggleable\"><input class=\"sk-toggleable__control sk-hidden--visually\" id=\"3c2b7e9e-e0d3-4cbe-b864-4719735bd90e\" type=\"checkbox\" ><label for=\"3c2b7e9e-e0d3-4cbe-b864-4719735bd90e\" class=\"sk-toggleable__label sk-toggleable__label-arrow\">pipeline-2</label><div class=\"sk-toggleable__content\"><pre>&lt;sklearn.compose._column_transformer.make_column_selector object at 0x000002024379DF40&gt;</pre></div></div></div><div class=\"sk-serial\"><div class=\"sk-item\"><div class=\"sk-serial\"><div class=\"sk-item\"><div class=\"sk-estimator sk-toggleable\"><input class=\"sk-toggleable__control sk-hidden--visually\" id=\"9ff43b13-fa58-433b-8af2-7e6fef8e8958\" type=\"checkbox\" ><label for=\"9ff43b13-fa58-433b-8af2-7e6fef8e8958\" class=\"sk-toggleable__label sk-toggleable__label-arrow\">SimpleImputer</label><div class=\"sk-toggleable__content\"><pre>SimpleImputer(strategy=&#x27;most_frequent&#x27;)</pre></div></div></div><div class=\"sk-item\"><div class=\"sk-estimator sk-toggleable\"><input class=\"sk-toggleable__control sk-hidden--visually\" id=\"288cdade-5761-4799-b73f-23eef337d01e\" type=\"checkbox\" ><label for=\"288cdade-5761-4799-b73f-23eef337d01e\" class=\"sk-toggleable__label sk-toggleable__label-arrow\">OneHotEncoder</label><div class=\"sk-toggleable__content\"><pre>OneHotEncoder(handle_unknown=&#x27;ignore&#x27;, sparse=False)</pre></div></div></div></div></div></div></div></div></div></div><div class=\"sk-item\"><div class=\"sk-estimator sk-toggleable\"><input class=\"sk-toggleable__control sk-hidden--visually\" id=\"998d5ee1-2f0c-4db6-8089-bfc6602167fa\" type=\"checkbox\" ><label for=\"998d5ee1-2f0c-4db6-8089-bfc6602167fa\" class=\"sk-toggleable__label sk-toggleable__label-arrow\">DecisionTreeRegressor</label><div class=\"sk-toggleable__content\"><pre>DecisionTreeRegressor(random_state=42)</pre></div></div></div></div></div></div></div>"
      ],
      "text/plain": [
       "Pipeline(steps=[('columntransformer',\n",
       "                 ColumnTransformer(transformers=[('pipeline-1',\n",
       "                                                  Pipeline(steps=[('simpleimputer',\n",
       "                                                                   SimpleImputer()),\n",
       "                                                                  ('standardscaler',\n",
       "                                                                   StandardScaler())]),\n",
       "                                                  <sklearn.compose._column_transformer.make_column_selector object at 0x00000202430FA280>),\n",
       "                                                 ('pipeline-2',\n",
       "                                                  Pipeline(steps=[('simpleimputer',\n",
       "                                                                   SimpleImputer(strategy='most_frequent')),\n",
       "                                                                  ('onehotencoder',\n",
       "                                                                   OneHotEncoder(handle_unknown='ignore',\n",
       "                                                                                 sparse=False))]),\n",
       "                                                  <sklearn.compose._column_transformer.make_column_selector object at 0x000002024379DF40>)])),\n",
       "                ('decisiontreeregressor',\n",
       "                 DecisionTreeRegressor(random_state=42))])"
      ]
     },
     "execution_count": 165,
     "metadata": {},
     "output_type": "execute_result"
    }
   ],
   "source": [
    "# So you get the same results, let's set our random_state to the same number\n",
    "dec_tree = DecisionTreeRegressor(max_depth = None, random_state = 42)\n",
    "\n",
    "# Create a model pipeline\n",
    "dec_tree_pipe = make_pipeline(preprocessor, dec_tree)\n",
    "\n",
    "# fit the model\n",
    "dec_tree_pipe.fit(X_train, y_train)"
   ]
  },
  {
   "cell_type": "code",
   "execution_count": 166,
   "id": "405b4f49-f81b-49ee-aa00-49d008a83b94",
   "metadata": {},
   "outputs": [
    {
     "name": "stdout",
     "output_type": "stream",
     "text": [
      "Decision Tree Model Train Scores\n",
      "MAE: 0.0 \n",
      "MSE: 0.0 \n",
      "RMSE: 0.0 \n",
      "R2: 1.0\n",
      "\n",
      "Decision Tree Model Test Scores\n",
      "MAE: 1048.9952 \n",
      "MSE: 2346807.8429 \n",
      "RMSE: 1531.9295 \n",
      "R2: 0.1493921\n",
      "\n"
     ]
    }
   ],
   "source": [
    "# Display the Model's metrics\n",
    "model_metrics(dec_tree_pipe, x_train=X_train, y_train=y_train, \n",
    "                          x_test=X_test, y_test=y_test, \n",
    "                           model_name='Decision Tree Model')"
   ]
  },
  {
   "cell_type": "markdown",
   "id": "25c45298-ce2a-40d9-b4c1-2ee605d88402",
   "metadata": {},
   "source": [
    "Results don't look promising as the test r^2 is too low. There is a huge variance in the result and the model is doing a terrible job in fitting with the test segment. Also MAE, MSE and RMSE for train is zero. "
   ]
  },
  {
   "cell_type": "code",
   "execution_count": 167,
   "id": "9316ff27-b1c5-4bc4-a2b3-878b06b95602",
   "metadata": {},
   "outputs": [
    {
     "data": {
      "text/plain": [
       "{'ccp_alpha': 0.0,\n",
       " 'criterion': 'squared_error',\n",
       " 'max_depth': None,\n",
       " 'max_features': None,\n",
       " 'max_leaf_nodes': None,\n",
       " 'min_impurity_decrease': 0.0,\n",
       " 'min_samples_leaf': 1,\n",
       " 'min_samples_split': 2,\n",
       " 'min_weight_fraction_leaf': 0.0,\n",
       " 'random_state': 42,\n",
       " 'splitter': 'best'}"
      ]
     },
     "execution_count": 167,
     "metadata": {},
     "output_type": "execute_result"
    }
   ],
   "source": [
    "dec_tree.get_params()"
   ]
  },
  {
   "cell_type": "code",
   "execution_count": 168,
   "id": "0777b36f-ac8f-4ead-a83b-71e843fcf14f",
   "metadata": {},
   "outputs": [
    {
     "data": {
      "text/plain": [
       "40"
      ]
     },
     "execution_count": 168,
     "metadata": {},
     "output_type": "execute_result"
    }
   ],
   "source": [
    "# Obtain the max_depth from the pipeline and assign it to the variable max_depth\n",
    "max_depth = dec_tree_pipe['decisiontreeregressor'].get_depth()\n",
    "# Display max_depth\n",
    "max_depth"
   ]
  },
  {
   "cell_type": "code",
   "execution_count": 169,
   "id": "5353d2a9-2861-47f1-b334-b9bcd34b1c3d",
   "metadata": {},
   "outputs": [],
   "source": [
    "# Create a range of max_depth values to evaluate\n",
    "depths = range(1, max_depth+1)\n",
    "\n",
    "# Create a dataframe to store Train and Test  R2 scores\n",
    "scores = pd.DataFrame(columns=['Train Score', 'Test Score'], index=depths)\n",
    "\n",
    "# Loop through the max_depth values\n",
    "for depth in depths:\n",
    "  # Create an instance of the model\n",
    "  dec_tree = DecisionTreeRegressor(max_depth=depth, random_state = 42)\n",
    "  # Create a model pipeline\n",
    "  dec_tree_pipe = make_pipeline(preprocessor, dec_tree)\n",
    "  # Fit the model\n",
    "  dec_tree_pipe.fit(X_train, y_train)\n",
    "\n",
    "  # Obtain the predictions from the model\n",
    "  train_pred = dec_tree_pipe.predict(X_train)\n",
    "  test_pred = dec_tree_pipe.predict(X_test)\n",
    "\n",
    "  # Obtain the R2 scores for Train and Test\n",
    "  train_r2score = r2_score(y_train, train_pred)\n",
    "  test_r2score = r2_score(y_test, test_pred)\n",
    "\n",
    "  # Save the Train and Test R2 Score for this depth in the scores dataframe\n",
    "  scores.loc[depth, 'Train Score'] = train_r2score\n",
    "  scores.loc[depth, 'Test Score'] = test_r2score"
   ]
  },
  {
   "cell_type": "code",
   "execution_count": 170,
   "id": "c22dd33f-f6b0-4332-87af-d0fe9b85af8d",
   "metadata": {},
   "outputs": [
    {
     "data": {
      "image/png": "[encoded data removed]",
      "text/plain": [
       "<Figure size 640x480 with 1 Axes>"
      ]
     },
     "metadata": {},
     "output_type": "display_data"
    }
   ],
   "source": [
    "# Visualize the max_depths to display which achieves the highest R2 score\n",
    "plt.plot(depths, scores['Train Score'], label='Train Score')\n",
    "plt.plot(depths, scores['Test Score'], label='Test Score')\n",
    "plt.ylabel('R2 Score')\n",
    "plt.xlabel('Max Depth')\n",
    "plt.legend()\n",
    "plt.show()"
   ]
  },
  {
   "cell_type": "code",
   "execution_count": 171,
   "id": "4455e438-9829-4018-9b7f-6fdf23eb1edf",
   "metadata": {},
   "outputs": [
    {
     "data": {
      "text/html": [
       "<div>\n",
       "<style scoped>\n",
       "    .dataframe tbody tr th:only-of-type {\n",
       "        vertical-align: middle;\n",
       "    }\n",
       "\n",
       "    .dataframe tbody tr th {\n",
       "        vertical-align: top;\n",
       "    }\n",
       "\n",
       "    .dataframe thead th {\n",
       "        text-align: right;\n",
       "    }\n",
       "</style>\n",
       "<table border=\"1\" class=\"dataframe\">\n",
       "  <thead>\n",
       "    <tr style=\"text-align: right;\">\n",
       "      <th></th>\n",
       "      <th>Train Score</th>\n",
       "      <th>Test Score</th>\n",
       "    </tr>\n",
       "  </thead>\n",
       "  <tbody>\n",
       "    <tr>\n",
       "      <th>5</th>\n",
       "      <td>0.60394</td>\n",
       "      <td>0.59471</td>\n",
       "    </tr>\n",
       "    <tr>\n",
       "      <th>4</th>\n",
       "      <td>0.582625</td>\n",
       "      <td>0.584005</td>\n",
       "    </tr>\n",
       "    <tr>\n",
       "      <th>6</th>\n",
       "      <td>0.614968</td>\n",
       "      <td>0.578633</td>\n",
       "    </tr>\n",
       "    <tr>\n",
       "      <th>7</th>\n",
       "      <td>0.62664</td>\n",
       "      <td>0.572624</td>\n",
       "    </tr>\n",
       "    <tr>\n",
       "      <th>8</th>\n",
       "      <td>0.643915</td>\n",
       "      <td>0.55577</td>\n",
       "    </tr>\n",
       "  </tbody>\n",
       "</table>\n",
       "</div>"
      ],
      "text/plain": [
       "  Train Score Test Score\n",
       "5     0.60394    0.59471\n",
       "4    0.582625   0.584005\n",
       "6    0.614968   0.578633\n",
       "7     0.62664   0.572624\n",
       "8    0.643915    0.55577"
      ]
     },
     "execution_count": 171,
     "metadata": {},
     "output_type": "execute_result"
    }
   ],
   "source": [
    "# Create a version on the scores dataframe\n",
    "# sorted by highest Test Scores\n",
    "sorted_scores = scores.sort_values(by='Test Score', ascending=False)\n",
    "# Display the first (5) rows of the dataframe\n",
    "sorted_scores.head()"
   ]
  },
  {
   "cell_type": "code",
   "execution_count": 172,
   "id": "5621e162-6f75-4939-b75a-b58c49e74e69",
   "metadata": {},
   "outputs": [
    {
     "data": {
      "text/plain": [
       "5"
      ]
     },
     "execution_count": 172,
     "metadata": {},
     "output_type": "execute_result"
    }
   ],
   "source": [
    "#sort the dataframe by test scores and save the index (k) of the best score\n",
    "best_depth = sorted_scores.index[0]\n",
    "best_depth"
   ]
  },
  {
   "cell_type": "code",
   "execution_count": 173,
   "id": "61cd4d05-35ca-4b19-81ad-072ea376c84b",
   "metadata": {},
   "outputs": [
    {
     "data": {
      "text/html": [
       "<style>#sk-699acadd-ba00-4152-a04e-bc2ee800c5f2 {color: black;background-color: white;}#sk-699acadd-ba00-4152-a04e-bc2ee800c5f2 pre{padding: 0;}#sk-699acadd-ba00-4152-a04e-bc2ee800c5f2 div.sk-toggleable {background-color: white;}#sk-699acadd-ba00-4152-a04e-bc2ee800c5f2 label.sk-toggleable__label {cursor: pointer;display: block;width: 100%;margin-bottom: 0;padding: 0.3em;box-sizing: border-box;text-align: center;}#sk-699acadd-ba00-4152-a04e-bc2ee800c5f2 label.sk-toggleable__label-arrow:before {content: \"▸\";float: left;margin-right: 0.25em;color: #696969;}#sk-699acadd-ba00-4152-a04e-bc2ee800c5f2 label.sk-toggleable__label-arrow:hover:before {color: black;}#sk-699acadd-ba00-4152-a04e-bc2ee800c5f2 div.sk-estimator:hover label.sk-toggleable__label-arrow:before {color: black;}#sk-699acadd-ba00-4152-a04e-bc2ee800c5f2 div.sk-toggleable__content {max-height: 0;max-width: 0;overflow: hidden;text-align: left;background-color: #f0f8ff;}#sk-699acadd-ba00-4152-a04e-bc2ee800c5f2 div.sk-toggleable__content pre {margin: 0.2em;color: black;border-radius: 0.25em;background-color: #f0f8ff;}#sk-699acadd-ba00-4152-a04e-bc2ee800c5f2 input.sk-toggleable__control:checked~div.sk-toggleable__content {max-height: 200px;max-width: 100%;overflow: auto;}#sk-699acadd-ba00-4152-a04e-bc2ee800c5f2 input.sk-toggleable__control:checked~label.sk-toggleable__label-arrow:before {content: \"▾\";}#sk-699acadd-ba00-4152-a04e-bc2ee800c5f2 div.sk-estimator input.sk-toggleable__control:checked~label.sk-toggleable__label {background-color: #d4ebff;}#sk-699acadd-ba00-4152-a04e-bc2ee800c5f2 div.sk-label input.sk-toggleable__control:checked~label.sk-toggleable__label {background-color: #d4ebff;}#sk-699acadd-ba00-4152-a04e-bc2ee800c5f2 input.sk-hidden--visually {border: 0;clip: rect(1px 1px 1px 1px);clip: rect(1px, 1px, 1px, 1px);height: 1px;margin: -1px;overflow: hidden;padding: 0;position: absolute;width: 1px;}#sk-699acadd-ba00-4152-a04e-bc2ee800c5f2 div.sk-estimator {font-family: monospace;background-color: #f0f8ff;border: 1px dotted black;border-radius: 0.25em;box-sizing: border-box;margin-bottom: 0.5em;}#sk-699acadd-ba00-4152-a04e-bc2ee800c5f2 div.sk-estimator:hover {background-color: #d4ebff;}#sk-699acadd-ba00-4152-a04e-bc2ee800c5f2 div.sk-parallel-item::after {content: \"\";width: 100%;border-bottom: 1px solid gray;flex-grow: 1;}#sk-699acadd-ba00-4152-a04e-bc2ee800c5f2 div.sk-label:hover label.sk-toggleable__label {background-color: #d4ebff;}#sk-699acadd-ba00-4152-a04e-bc2ee800c5f2 div.sk-serial::before {content: \"\";position: absolute;border-left: 1px solid gray;box-sizing: border-box;top: 2em;bottom: 0;left: 50%;}#sk-699acadd-ba00-4152-a04e-bc2ee800c5f2 div.sk-serial {display: flex;flex-direction: column;align-items: center;background-color: white;padding-right: 0.2em;padding-left: 0.2em;}#sk-699acadd-ba00-4152-a04e-bc2ee800c5f2 div.sk-item {z-index: 1;}#sk-699acadd-ba00-4152-a04e-bc2ee800c5f2 div.sk-parallel {display: flex;align-items: stretch;justify-content: center;background-color: white;}#sk-699acadd-ba00-4152-a04e-bc2ee800c5f2 div.sk-parallel::before {content: \"\";position: absolute;border-left: 1px solid gray;box-sizing: border-box;top: 2em;bottom: 0;left: 50%;}#sk-699acadd-ba00-4152-a04e-bc2ee800c5f2 div.sk-parallel-item {display: flex;flex-direction: column;position: relative;background-color: white;}#sk-699acadd-ba00-4152-a04e-bc2ee800c5f2 div.sk-parallel-item:first-child::after {align-self: flex-end;width: 50%;}#sk-699acadd-ba00-4152-a04e-bc2ee800c5f2 div.sk-parallel-item:last-child::after {align-self: flex-start;width: 50%;}#sk-699acadd-ba00-4152-a04e-bc2ee800c5f2 div.sk-parallel-item:only-child::after {width: 0;}#sk-699acadd-ba00-4152-a04e-bc2ee800c5f2 div.sk-dashed-wrapped {border: 1px dashed gray;margin: 0 0.4em 0.5em 0.4em;box-sizing: border-box;padding-bottom: 0.4em;background-color: white;position: relative;}#sk-699acadd-ba00-4152-a04e-bc2ee800c5f2 div.sk-label label {font-family: monospace;font-weight: bold;background-color: white;display: inline-block;line-height: 1.2em;}#sk-699acadd-ba00-4152-a04e-bc2ee800c5f2 div.sk-label-container {position: relative;z-index: 2;text-align: center;}#sk-699acadd-ba00-4152-a04e-bc2ee800c5f2 div.sk-container {/* jupyter's `normalize.less` sets `[hidden] { display: none; }` but bootstrap.min.css set `[hidden] { display: none !important; }` so we also need the `!important` here to be able to override the default hidden behavior on the sphinx rendered scikit-learn.org. See: https://github.com/scikit-learn/scikit-learn/issues/21755 */display: inline-block !important;position: relative;}#sk-699acadd-ba00-4152-a04e-bc2ee800c5f2 div.sk-text-repr-fallback {display: none;}</style><div id=\"sk-699acadd-ba00-4152-a04e-bc2ee800c5f2\" class=\"sk-top-container\"><div class=\"sk-text-repr-fallback\"><pre>Pipeline(steps=[(&#x27;columntransformer&#x27;,\n",
       "                 ColumnTransformer(transformers=[(&#x27;pipeline-1&#x27;,\n",
       "                                                  Pipeline(steps=[(&#x27;simpleimputer&#x27;,\n",
       "                                                                   SimpleImputer()),\n",
       "                                                                  (&#x27;standardscaler&#x27;,\n",
       "                                                                   StandardScaler())]),\n",
       "                                                  &lt;sklearn.compose._column_transformer.make_column_selector object at 0x00000202430FA280&gt;),\n",
       "                                                 (&#x27;pipeline-2&#x27;,\n",
       "                                                  Pipeline(steps=[(&#x27;simpleimputer&#x27;,\n",
       "                                                                   SimpleImputer(strategy=&#x27;most_frequent&#x27;)),\n",
       "                                                                  (&#x27;onehotencoder&#x27;,\n",
       "                                                                   OneHotEncoder(handle_unknown=&#x27;ignore&#x27;,\n",
       "                                                                                 sparse=False))]),\n",
       "                                                  &lt;sklearn.compose._column_transformer.make_column_selector object at 0x000002024379DF40&gt;)])),\n",
       "                (&#x27;decisiontreeregressor&#x27;,\n",
       "                 DecisionTreeRegressor(max_depth=5, random_state=42))])</pre><b>Please rerun this cell to show the HTML repr or trust the notebook.</b></div><div class=\"sk-container\" hidden><div class=\"sk-item sk-dashed-wrapped\"><div class=\"sk-label-container\"><div class=\"sk-label sk-toggleable\"><input class=\"sk-toggleable__control sk-hidden--visually\" id=\"872c15c9-523b-400c-9c06-c980ba9263a9\" type=\"checkbox\" ><label for=\"872c15c9-523b-400c-9c06-c980ba9263a9\" class=\"sk-toggleable__label sk-toggleable__label-arrow\">Pipeline</label><div class=\"sk-toggleable__content\"><pre>Pipeline(steps=[(&#x27;columntransformer&#x27;,\n",
       "                 ColumnTransformer(transformers=[(&#x27;pipeline-1&#x27;,\n",
       "                                                  Pipeline(steps=[(&#x27;simpleimputer&#x27;,\n",
       "                                                                   SimpleImputer()),\n",
       "                                                                  (&#x27;standardscaler&#x27;,\n",
       "                                                                   StandardScaler())]),\n",
       "                                                  &lt;sklearn.compose._column_transformer.make_column_selector object at 0x00000202430FA280&gt;),\n",
       "                                                 (&#x27;pipeline-2&#x27;,\n",
       "                                                  Pipeline(steps=[(&#x27;simpleimputer&#x27;,\n",
       "                                                                   SimpleImputer(strategy=&#x27;most_frequent&#x27;)),\n",
       "                                                                  (&#x27;onehotencoder&#x27;,\n",
       "                                                                   OneHotEncoder(handle_unknown=&#x27;ignore&#x27;,\n",
       "                                                                                 sparse=False))]),\n",
       "                                                  &lt;sklearn.compose._column_transformer.make_column_selector object at 0x000002024379DF40&gt;)])),\n",
       "                (&#x27;decisiontreeregressor&#x27;,\n",
       "                 DecisionTreeRegressor(max_depth=5, random_state=42))])</pre></div></div></div><div class=\"sk-serial\"><div class=\"sk-item sk-dashed-wrapped\"><div class=\"sk-label-container\"><div class=\"sk-label sk-toggleable\"><input class=\"sk-toggleable__control sk-hidden--visually\" id=\"4911711c-86ba-4fe8-9f27-95810da3e6d2\" type=\"checkbox\" ><label for=\"4911711c-86ba-4fe8-9f27-95810da3e6d2\" class=\"sk-toggleable__label sk-toggleable__label-arrow\">columntransformer: ColumnTransformer</label><div class=\"sk-toggleable__content\"><pre>ColumnTransformer(transformers=[(&#x27;pipeline-1&#x27;,\n",
       "                                 Pipeline(steps=[(&#x27;simpleimputer&#x27;,\n",
       "                                                  SimpleImputer()),\n",
       "                                                 (&#x27;standardscaler&#x27;,\n",
       "                                                  StandardScaler())]),\n",
       "                                 &lt;sklearn.compose._column_transformer.make_column_selector object at 0x00000202430FA280&gt;),\n",
       "                                (&#x27;pipeline-2&#x27;,\n",
       "                                 Pipeline(steps=[(&#x27;simpleimputer&#x27;,\n",
       "                                                  SimpleImputer(strategy=&#x27;most_frequent&#x27;)),\n",
       "                                                 (&#x27;onehotencoder&#x27;,\n",
       "                                                  OneHotEncoder(handle_unknown=&#x27;ignore&#x27;,\n",
       "                                                                sparse=False))]),\n",
       "                                 &lt;sklearn.compose._column_transformer.make_column_selector object at 0x000002024379DF40&gt;)])</pre></div></div></div><div class=\"sk-parallel\"><div class=\"sk-parallel-item\"><div class=\"sk-item\"><div class=\"sk-label-container\"><div class=\"sk-label sk-toggleable\"><input class=\"sk-toggleable__control sk-hidden--visually\" id=\"aa476f89-9c3f-4726-90fd-1e0b2bc07d3a\" type=\"checkbox\" ><label for=\"aa476f89-9c3f-4726-90fd-1e0b2bc07d3a\" class=\"sk-toggleable__label sk-toggleable__label-arrow\">pipeline-1</label><div class=\"sk-toggleable__content\"><pre>&lt;sklearn.compose._column_transformer.make_column_selector object at 0x00000202430FA280&gt;</pre></div></div></div><div class=\"sk-serial\"><div class=\"sk-item\"><div class=\"sk-serial\"><div class=\"sk-item\"><div class=\"sk-estimator sk-toggleable\"><input class=\"sk-toggleable__control sk-hidden--visually\" id=\"79d34aae-c80c-4737-a5a1-fbca7cd88619\" type=\"checkbox\" ><label for=\"79d34aae-c80c-4737-a5a1-fbca7cd88619\" class=\"sk-toggleable__label sk-toggleable__label-arrow\">SimpleImputer</label><div class=\"sk-toggleable__content\"><pre>SimpleImputer()</pre></div></div></div><div class=\"sk-item\"><div class=\"sk-estimator sk-toggleable\"><input class=\"sk-toggleable__control sk-hidden--visually\" id=\"ce51712b-28f6-4ff1-82b3-d8cf71546f95\" type=\"checkbox\" ><label for=\"ce51712b-28f6-4ff1-82b3-d8cf71546f95\" class=\"sk-toggleable__label sk-toggleable__label-arrow\">StandardScaler</label><div class=\"sk-toggleable__content\"><pre>StandardScaler()</pre></div></div></div></div></div></div></div></div><div class=\"sk-parallel-item\"><div class=\"sk-item\"><div class=\"sk-label-container\"><div class=\"sk-label sk-toggleable\"><input class=\"sk-toggleable__control sk-hidden--visually\" id=\"d5cb2396-51b8-4659-85cc-37a06d5ee49c\" type=\"checkbox\" ><label for=\"d5cb2396-51b8-4659-85cc-37a06d5ee49c\" class=\"sk-toggleable__label sk-toggleable__label-arrow\">pipeline-2</label><div class=\"sk-toggleable__content\"><pre>&lt;sklearn.compose._column_transformer.make_column_selector object at 0x000002024379DF40&gt;</pre></div></div></div><div class=\"sk-serial\"><div class=\"sk-item\"><div class=\"sk-serial\"><div class=\"sk-item\"><div class=\"sk-estimator sk-toggleable\"><input class=\"sk-toggleable__control sk-hidden--visually\" id=\"976bc2a3-e117-480d-a4e5-a123769248f9\" type=\"checkbox\" ><label for=\"976bc2a3-e117-480d-a4e5-a123769248f9\" class=\"sk-toggleable__label sk-toggleable__label-arrow\">SimpleImputer</label><div class=\"sk-toggleable__content\"><pre>SimpleImputer(strategy=&#x27;most_frequent&#x27;)</pre></div></div></div><div class=\"sk-item\"><div class=\"sk-estimator sk-toggleable\"><input class=\"sk-toggleable__control sk-hidden--visually\" id=\"fe8b1904-b681-461c-ba00-9600cca39769\" type=\"checkbox\" ><label for=\"fe8b1904-b681-461c-ba00-9600cca39769\" class=\"sk-toggleable__label sk-toggleable__label-arrow\">OneHotEncoder</label><div class=\"sk-toggleable__content\"><pre>OneHotEncoder(handle_unknown=&#x27;ignore&#x27;, sparse=False)</pre></div></div></div></div></div></div></div></div></div></div><div class=\"sk-item\"><div class=\"sk-estimator sk-toggleable\"><input class=\"sk-toggleable__control sk-hidden--visually\" id=\"afa4198f-1265-4396-b3ce-9e9d0e708a6e\" type=\"checkbox\" ><label for=\"afa4198f-1265-4396-b3ce-9e9d0e708a6e\" class=\"sk-toggleable__label sk-toggleable__label-arrow\">DecisionTreeRegressor</label><div class=\"sk-toggleable__content\"><pre>DecisionTreeRegressor(max_depth=5, random_state=42)</pre></div></div></div></div></div></div></div>"
      ],
      "text/plain": [
       "Pipeline(steps=[('columntransformer',\n",
       "                 ColumnTransformer(transformers=[('pipeline-1',\n",
       "                                                  Pipeline(steps=[('simpleimputer',\n",
       "                                                                   SimpleImputer()),\n",
       "                                                                  ('standardscaler',\n",
       "                                                                   StandardScaler())]),\n",
       "                                                  <sklearn.compose._column_transformer.make_column_selector object at 0x00000202430FA280>),\n",
       "                                                 ('pipeline-2',\n",
       "                                                  Pipeline(steps=[('simpleimputer',\n",
       "                                                                   SimpleImputer(strategy='most_frequent')),\n",
       "                                                                  ('onehotencoder',\n",
       "                                                                   OneHotEncoder(handle_unknown='ignore',\n",
       "                                                                                 sparse=False))]),\n",
       "                                                  <sklearn.compose._column_transformer.make_column_selector object at 0x000002024379DF40>)])),\n",
       "                ('decisiontreeregressor',\n",
       "                 DecisionTreeRegressor(max_depth=5, random_state=42))])"
      ]
     },
     "execution_count": 173,
     "metadata": {},
     "output_type": "execute_result"
    }
   ],
   "source": [
    "# Create an instance of the model\n",
    "dec_tree = DecisionTreeRegressor(max_depth=best_depth, random_state = 42)\n",
    "# Create a model pipeline\n",
    "dec_tree_pipe = make_pipeline(preprocessor, dec_tree)\n",
    "# Fit the model\n",
    "dec_tree_pipe.fit(X_train, y_train)"
   ]
  },
  {
   "cell_type": "code",
   "execution_count": 174,
   "id": "e4e899b5-064a-4e8e-941d-f37cde79dd23",
   "metadata": {},
   "outputs": [
    {
     "data": {
      "text/plain": [
       "{'ccp_alpha': 0.0,\n",
       " 'criterion': 'squared_error',\n",
       " 'max_depth': 5,\n",
       " 'max_features': None,\n",
       " 'max_leaf_nodes': None,\n",
       " 'min_impurity_decrease': 0.0,\n",
       " 'min_samples_leaf': 1,\n",
       " 'min_samples_split': 2,\n",
       " 'min_weight_fraction_leaf': 0.0,\n",
       " 'random_state': 42,\n",
       " 'splitter': 'best'}"
      ]
     },
     "execution_count": 174,
     "metadata": {},
     "output_type": "execute_result"
    }
   ],
   "source": [
    "# Display the list of available hyperparameters for tuning\n",
    "dec_tree.get_params()"
   ]
  },
  {
   "cell_type": "code",
   "execution_count": 175,
   "id": "d6fa0108-999b-4216-aacd-3669702867ba",
   "metadata": {},
   "outputs": [
    {
     "name": "stdout",
     "output_type": "stream",
     "text": [
      "Tuned Decision Tree Model Train Scores\n",
      "MAE: 762.6102 \n",
      "MSE: 1172122.777 \n",
      "RMSE: 1082.6462 \n",
      "R2: 0.6039397\n",
      "\n",
      "Tuned Decision Tree Model Test Scores\n",
      "MAE: 738.3173 \n",
      "MSE: 1118185.9815 \n",
      "RMSE: 1057.4431 \n",
      "R2: 0.59471\n",
      "\n"
     ]
    }
   ],
   "source": [
    "# Display the Model's metrics\n",
    "model_metrics(dec_tree_pipe, x_train=X_train, y_train=y_train, \n",
    "                          x_test=X_test, y_test=y_test, \n",
    "                           model_name='Tuned Decision Tree Model')"
   ]
  },
  {
   "cell_type": "markdown",
   "id": "a9059b6c-2b25-4d6a-b1d6-a1f734a269b7",
   "metadata": {},
   "source": [
    "Results look very promising. There is less bias and less variance in the results. This is a good model. "
   ]
  },
  {
   "cell_type": "markdown",
   "id": "364d7bc9-0fa3-4f96-a8c4-55924acb96e1",
   "metadata": {},
   "source": [
    "# Recomendation: "
   ]
  },
  {
   "cell_type": "markdown",
   "id": "db0910d8-9eea-4ab4-b1d7-14a024f1ce62",
   "metadata": {},
   "source": [
    "The Tuned Decision Tree Model is the best model. It is stable as does not have high bias or high varaince. MAE and RMSE is also good as sales predictions are off by approximatly Rs. 1,000"
   ]
  }
 ],
 "metadata": {
  "kernelspec": {
   "display_name": "Python 3 (ipykernel)",
   "language": "python",
   "name": "python3"
  },
  "language_info": {
   "codemirror_mode": {
    "name": "ipython",
    "version": 3
   },
   "file_extension": ".py",
   "mimetype": "text/x-python",
   "name": "python",
   "nbconvert_exporter": "python",
   "pygments_lexer": "ipython3",
   "version": "3.9.13"
  },
  "toc-autonumbering": true,
  "toc-showcode": false,
  "toc-showmarkdowntxt": false
 },
 "nbformat": 4,
 "nbformat_minor": 5
}
